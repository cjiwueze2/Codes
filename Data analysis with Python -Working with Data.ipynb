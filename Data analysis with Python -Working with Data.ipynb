{
 "cells": [
  {
   "cell_type": "markdown",
   "metadata": {},
   "source": [
    "Run the cell below to import matplotlib.pyplot."
   ]
  },
  {
   "cell_type": "code",
   "execution_count": 1,
   "metadata": {},
   "outputs": [],
   "source": [
    "import matplotlib.pyplot as plt\n",
    "import numpy as np\n",
    "import pandas as pd\n"
   ]
  },
  {
   "cell_type": "markdown",
   "metadata": {},
   "source": [
    "Import the \"sin_cos.csv\" file into a pandas DataFrame called df.<br>\n",
    "Set the index to the first column. Use shift-tab for help if necessary.<br>\n",
    "Display df."
   ]
  },
  {
   "cell_type": "code",
   "execution_count": 2,
   "metadata": {},
   "outputs": [
    {
     "data": {
      "text/html": [
       "<div>\n",
       "<style scoped>\n",
       "    .dataframe tbody tr th:only-of-type {\n",
       "        vertical-align: middle;\n",
       "    }\n",
       "\n",
       "    .dataframe tbody tr th {\n",
       "        vertical-align: top;\n",
       "    }\n",
       "\n",
       "    .dataframe thead th {\n",
       "        text-align: right;\n",
       "    }\n",
       "</style>\n",
       "<table border=\"1\" class=\"dataframe\">\n",
       "  <thead>\n",
       "    <tr style=\"text-align: right;\">\n",
       "      <th></th>\n",
       "      <th>x</th>\n",
       "      <th>y</th>\n",
       "      <th>z</th>\n",
       "    </tr>\n",
       "  </thead>\n",
       "  <tbody>\n",
       "    <tr>\n",
       "      <th>0</th>\n",
       "      <td>0.000000</td>\n",
       "      <td>0.0</td>\n",
       "      <td>1.000000</td>\n",
       "    </tr>\n",
       "    <tr>\n",
       "      <th>1</th>\n",
       "      <td>0.006289</td>\n",
       "      <td>0.006289433316067751</td>\n",
       "      <td>0.999980</td>\n",
       "    </tr>\n",
       "    <tr>\n",
       "      <th>2</th>\n",
       "      <td>0.012579</td>\n",
       "      <td>0.012578617838741058</td>\n",
       "      <td>0.999921</td>\n",
       "    </tr>\n",
       "    <tr>\n",
       "      <th>3</th>\n",
       "      <td>0.018868</td>\n",
       "      <td>NaN</td>\n",
       "      <td>0.999822</td>\n",
       "    </tr>\n",
       "    <tr>\n",
       "      <th>4</th>\n",
       "      <td>NaN</td>\n",
       "      <td>0.025155245389375847</td>\n",
       "      <td>0.999684</td>\n",
       "    </tr>\n",
       "    <tr>\n",
       "      <th>...</th>\n",
       "      <td>...</td>\n",
       "      <td>...</td>\n",
       "      <td>...</td>\n",
       "    </tr>\n",
       "    <tr>\n",
       "      <th>995</th>\n",
       "      <td>6.258027</td>\n",
       "      <td>-0.02515524538937684</td>\n",
       "      <td>NaN</td>\n",
       "    </tr>\n",
       "    <tr>\n",
       "      <th>996</th>\n",
       "      <td>NaN</td>\n",
       "      <td>-0.018867304784467676</td>\n",
       "      <td>0.999822</td>\n",
       "    </tr>\n",
       "    <tr>\n",
       "      <th>997</th>\n",
       "      <td>6.270606</td>\n",
       "      <td>-0.012578617838742121</td>\n",
       "      <td>NaN</td>\n",
       "    </tr>\n",
       "    <tr>\n",
       "      <th>998</th>\n",
       "      <td>6.276896</td>\n",
       "      <td>-0.006289433316068405</td>\n",
       "      <td>0.999980</td>\n",
       "    </tr>\n",
       "    <tr>\n",
       "      <th>999</th>\n",
       "      <td>6.283185</td>\n",
       "      <td>-2.4492935982947064e-16</td>\n",
       "      <td>1.000000</td>\n",
       "    </tr>\n",
       "  </tbody>\n",
       "</table>\n",
       "<p>1000 rows × 3 columns</p>\n",
       "</div>"
      ],
      "text/plain": [
       "            x                        y         z\n",
       "0    0.000000                      0.0  1.000000\n",
       "1    0.006289     0.006289433316067751  0.999980\n",
       "2    0.012579     0.012578617838741058  0.999921\n",
       "3    0.018868                      NaN  0.999822\n",
       "4         NaN     0.025155245389375847  0.999684\n",
       "..        ...                      ...       ...\n",
       "995  6.258027     -0.02515524538937684       NaN\n",
       "996       NaN    -0.018867304784467676  0.999822\n",
       "997  6.270606    -0.012578617838742121       NaN\n",
       "998  6.276896    -0.006289433316068405  0.999980\n",
       "999  6.283185  -2.4492935982947064e-16  1.000000\n",
       "\n",
       "[1000 rows x 3 columns]"
      ]
     },
     "execution_count": 2,
     "metadata": {},
     "output_type": "execute_result"
    }
   ],
   "source": [
    "# Import the CSV file into a DataFrame\n",
    "df = pd.read_csv('sin_cos.csv', index_col=0)\n",
    "\n",
    "# Display the DataFrame\n",
    "df\n"
   ]
  },
  {
   "cell_type": "markdown",
   "metadata": {},
   "source": [
    "Notice there are some NaNs in the data (missing values). We'll fix the NaNs below, but first let's check if the data has been correctly loaded as float point numbers. Run the cell below."
   ]
  },
  {
   "cell_type": "code",
   "execution_count": 3,
   "metadata": {},
   "outputs": [
    {
     "name": "stdout",
     "output_type": "stream",
     "text": [
      "<class 'pandas.core.frame.DataFrame'>\n",
      "Index: 1000 entries, 0 to 999\n",
      "Data columns (total 3 columns):\n",
      " #   Column  Non-Null Count  Dtype  \n",
      "---  ------  --------------  -----  \n",
      " 0   x       812 non-null    float64\n",
      " 1   y       930 non-null    object \n",
      " 2   z       870 non-null    float64\n",
      "dtypes: float64(2), object(1)\n",
      "memory usage: 31.2+ KB\n"
     ]
    }
   ],
   "source": [
    "df.info()"
   ]
  },
  {
   "cell_type": "markdown",
   "metadata": {},
   "source": [
    "It looks like the \"y\" column has not been imported as floating point numbers. Let us try to convert the dataframe to numerical values. Run the cell below."
   ]
  },
  {
   "cell_type": "code",
   "execution_count": 4,
   "metadata": {},
   "outputs": [],
   "source": [
    "\n",
    "# df.apply(pd.to_numeric)\n",
    "\n"
   ]
  },
  {
   "cell_type": "markdown",
   "metadata": {},
   "source": [
    "Oh oh, that didn't work. Read the above error message to see what is going wrong. Display the row with the problem."
   ]
  },
  {
   "cell_type": "code",
   "execution_count": 5,
   "metadata": {},
   "outputs": [
    {
     "name": "stdout",
     "output_type": "stream",
     "text": [
      "x               0.886816\n",
      "y    a0.7750637288796015\n",
      "z               0.631883\n",
      "Name: 141, dtype: object\n"
     ]
    }
   ],
   "source": [
    "print(df.iloc[141])"
   ]
  },
  {
   "cell_type": "markdown",
   "metadata": {},
   "source": [
    "Remove the non-numeric character, and display that same row again."
   ]
  },
  {
   "cell_type": "code",
   "execution_count": 6,
   "metadata": {},
   "outputs": [
    {
     "name": "stdout",
     "output_type": "stream",
     "text": [
      "0.7750637288796015\n"
     ]
    },
    {
     "data": {
      "text/plain": [
       "x              0.886816\n",
       "y    0.7750637288796015\n",
       "z              0.631883\n",
       "Name: 141, dtype: object"
      ]
     },
     "execution_count": 6,
     "metadata": {},
     "output_type": "execute_result"
    }
   ],
   "source": [
    "\n",
    "# Remove non-numeric characters and convert to numeric\n",
    "df.loc[141, 'y'] = df.loc[141, 'y'] [1:]\n",
    "print(df.loc[141, 'y'])\n",
    "\n",
    "# Display the row again\n",
    "df.iloc[141]\n"
   ]
  },
  {
   "cell_type": "markdown",
   "metadata": {},
   "source": [
    "The problematic value still has a datatype of \"object\". Now, convert the entire dataframe to numerical values and display df.info() again."
   ]
  },
  {
   "cell_type": "code",
   "execution_count": 7,
   "metadata": {},
   "outputs": [
    {
     "name": "stdout",
     "output_type": "stream",
     "text": [
      "<class 'pandas.core.frame.DataFrame'>\n",
      "Index: 1000 entries, 0 to 999\n",
      "Data columns (total 3 columns):\n",
      " #   Column  Non-Null Count  Dtype  \n",
      "---  ------  --------------  -----  \n",
      " 0   x       812 non-null    float64\n",
      " 1   y       930 non-null    float64\n",
      " 2   z       870 non-null    float64\n",
      "dtypes: float64(3)\n",
      "memory usage: 63.5 KB\n"
     ]
    }
   ],
   "source": [
    "# Remove non-numeric characters and convert to numeric\n",
    "df = df.apply(pd.to_numeric, errors='coerce')\n",
    "\n",
    "# Display information about the DataFrame\n",
    "df.info()\n"
   ]
  },
  {
   "cell_type": "markdown",
   "metadata": {},
   "source": [
    "Now that we have numerical data, we can produce a visualization to see how it looks. Just run the cell below."
   ]
  },
  {
   "cell_type": "code",
   "execution_count": 8,
   "metadata": {},
   "outputs": [
    {
     "data": {
      "text/plain": [
       "<matplotlib.legend.Legend at 0x2ce4f6d9a10>"
      ]
     },
     "execution_count": 8,
     "metadata": {},
     "output_type": "execute_result"
    },
    {
     "data": {
      "image/png": "[encoded data removed]",
      "text/plain": [
       "<Figure size 640x480 with 1 Axes>"
      ]
     },
     "metadata": {},
     "output_type": "display_data"
    }
   ],
   "source": [
    "# plot the data to see the gaps\n",
    "plt.plot(df[\"y\"],color=\"b\")\n",
    "plt.plot(df[\"z\"],color=\"r\")\n",
    "plt.xlabel(\"Index\")\n",
    "plt.ylabel(\"-Sin & Cos\")\n",
    "plt.title(\"Data with Problems\")\n",
    "plt.legend([\"-Sin\",\"Cos\"])"
   ]
  },
  {
   "cell_type": "markdown",
   "metadata": {},
   "source": [
    "We can see there are some gaps in the plot where the NaNs are present. More troubling though is the area between index 145 and 205 where the sine and cosine values seem incorrect. Display a slice of the dataframe showing rows 145 to 205."
   ]
  },
  {
   "cell_type": "code",
   "execution_count": 9,
   "metadata": {},
   "outputs": [
    {
     "data": {
      "text/html": [
       "<div>\n",
       "<style scoped>\n",
       "    .dataframe tbody tr th:only-of-type {\n",
       "        vertical-align: middle;\n",
       "    }\n",
       "\n",
       "    .dataframe tbody tr th {\n",
       "        vertical-align: top;\n",
       "    }\n",
       "\n",
       "    .dataframe thead th {\n",
       "        text-align: right;\n",
       "    }\n",
       "</style>\n",
       "<table border=\"1\" class=\"dataframe\">\n",
       "  <thead>\n",
       "    <tr style=\"text-align: right;\">\n",
       "      <th></th>\n",
       "      <th>x</th>\n",
       "      <th>y</th>\n",
       "      <th>z</th>\n",
       "    </tr>\n",
       "  </thead>\n",
       "  <tbody>\n",
       "    <tr>\n",
       "      <th>145</th>\n",
       "      <td>0.911974</td>\n",
       "      <td>0.790714</td>\n",
       "      <td>0.612186</td>\n",
       "    </tr>\n",
       "    <tr>\n",
       "      <th>146</th>\n",
       "      <td>0.918263</td>\n",
       "      <td>0.794548</td>\n",
       "      <td>0.607201</td>\n",
       "    </tr>\n",
       "    <tr>\n",
       "      <th>147</th>\n",
       "      <td>0.924553</td>\n",
       "      <td>0.798352</td>\n",
       "      <td>0.602192</td>\n",
       "    </tr>\n",
       "    <tr>\n",
       "      <th>148</th>\n",
       "      <td>0.930842</td>\n",
       "      <td>0.802123</td>\n",
       "      <td>0.597159</td>\n",
       "    </tr>\n",
       "    <tr>\n",
       "      <th>149</th>\n",
       "      <td>0.937132</td>\n",
       "      <td>0.805863</td>\n",
       "      <td>0.592102</td>\n",
       "    </tr>\n",
       "    <tr>\n",
       "      <th>...</th>\n",
       "      <td>...</td>\n",
       "      <td>...</td>\n",
       "      <td>...</td>\n",
       "    </tr>\n",
       "    <tr>\n",
       "      <th>201</th>\n",
       "      <td>1.264184</td>\n",
       "      <td>NaN</td>\n",
       "      <td>0.301830</td>\n",
       "    </tr>\n",
       "    <tr>\n",
       "      <th>202</th>\n",
       "      <td>1.270474</td>\n",
       "      <td>0.955241</td>\n",
       "      <td>0.295828</td>\n",
       "    </tr>\n",
       "    <tr>\n",
       "      <th>203</th>\n",
       "      <td>1.276763</td>\n",
       "      <td>0.957083</td>\n",
       "      <td>NaN</td>\n",
       "    </tr>\n",
       "    <tr>\n",
       "      <th>204</th>\n",
       "      <td>1.283053</td>\n",
       "      <td>0.958887</td>\n",
       "      <td>0.283789</td>\n",
       "    </tr>\n",
       "    <tr>\n",
       "      <th>205</th>\n",
       "      <td>1.289342</td>\n",
       "      <td>0.960653</td>\n",
       "      <td>NaN</td>\n",
       "    </tr>\n",
       "  </tbody>\n",
       "</table>\n",
       "<p>61 rows × 3 columns</p>\n",
       "</div>"
      ],
      "text/plain": [
       "            x         y         z\n",
       "145  0.911974  0.790714  0.612186\n",
       "146  0.918263  0.794548  0.607201\n",
       "147  0.924553  0.798352  0.602192\n",
       "148  0.930842  0.802123  0.597159\n",
       "149  0.937132  0.805863  0.592102\n",
       "..        ...       ...       ...\n",
       "201  1.264184       NaN  0.301830\n",
       "202  1.270474  0.955241  0.295828\n",
       "203  1.276763  0.957083       NaN\n",
       "204  1.283053  0.958887  0.283789\n",
       "205  1.289342  0.960653       NaN\n",
       "\n",
       "[61 rows x 3 columns]"
      ]
     },
     "execution_count": 9,
     "metadata": {},
     "output_type": "execute_result"
    }
   ],
   "source": [
    "df.loc[145:205]"
   ]
  },
  {
   "cell_type": "markdown",
   "metadata": {},
   "source": [
    "Can you see what the problem is, and which range of lines have the problem? Fix it and display the rows from 145 to 205 again."
   ]
  },
  {
   "cell_type": "code",
   "execution_count": 10,
   "metadata": {},
   "outputs": [
    {
     "name": "stdout",
     "output_type": "stream",
     "text": [
      "            x         y         z\n",
      "150       NaN  0.809571  0.587022\n",
      "151  0.949711  0.813247  0.581918\n",
      "152  0.956000  0.816891  0.576792\n",
      "153  0.962290  0.820503  0.571643\n",
      "154  0.968579  0.824082  0.566471\n",
      "155  0.974869  0.827628       NaN\n",
      "156  0.981158  0.831142  0.556060\n",
      "157  0.987448  0.834623  0.550822\n",
      "158  0.993737  0.838071  0.545562\n",
      "159  1.000026  0.841485  0.540280\n",
      "160       NaN  0.844867  0.534977\n",
      "161  1.012605  0.848215  0.529653\n",
      "162       NaN  0.851529  0.524307\n",
      "163  1.025184  0.854810       NaN\n",
      "164       NaN  0.858057  0.513555\n",
      "165  1.037763       NaN  0.508148\n",
      "166  1.044053  0.864449  0.502721\n",
      "167  1.050342  0.867593  0.497274\n",
      "168       NaN  0.870704  0.491808\n",
      "169  1.062921  0.873780       NaN\n",
      "170  1.069211  0.876821  0.480816\n",
      "171  1.075500  0.879828  0.475292\n",
      "172  1.081790  0.882800  0.469749\n",
      "173  1.088079  0.885737  0.464188\n",
      "174       NaN  0.888639  0.458608\n",
      "175  1.100658  0.891506       NaN\n",
      "176       NaN  0.894337  0.447394\n",
      "177  1.113237  0.897133  0.441760\n",
      "178  1.119527  0.899894  0.436109\n",
      "179  1.125816  0.902619  0.430440\n",
      "180  1.132105  0.905308  0.424755\n",
      "181  1.138395  0.907962  0.419052\n",
      "182  1.144684  0.910580  0.413334\n",
      "183  1.150974  0.913161  0.407598\n",
      "184  1.157263  0.915707  0.401847\n",
      "185  1.163553  0.918216  0.396080\n",
      "186  1.169842  0.920689  0.390297\n",
      "187  1.176132  0.923126  0.384499\n",
      "188  1.182421  0.925526  0.378685\n",
      "189  1.188711  0.927889  0.372856\n",
      "190  1.195000  0.930216  0.367013\n",
      "191  1.201290  0.932506  0.361155\n",
      "192  1.207579  0.934759  0.355283\n",
      "193  1.213869  0.936975  0.349397\n",
      "194  1.220158  0.939154  0.343497\n",
      "195  1.226448       NaN  0.337584\n",
      "196       NaN  0.943400  0.331657\n",
      "197  1.239027  0.945467       NaN\n",
      "198       NaN  0.947497  0.319764\n",
      "199  1.251605  0.949490  0.313798\n",
      "200       NaN  0.951444  0.307820\n"
     ]
    }
   ],
   "source": [
    "# Multiply rows 150 to 200 by 1 \n",
    "df.loc[150:200, ['y', 'z']] *= -1\n",
    "\n",
    "# Display the slice of the DataFrame again\n",
    "df.loc[150:200]"
   ]
  },
  {
   "cell_type": "markdown",
   "metadata": {},
   "source": [
    "Produce another plot to see how the data looks now. Just run the cell below."
   ]
  },
  {
   "cell_type": "code",
   "execution_count": 11,
   "metadata": {},
   "outputs": [
    {
     "data": {
      "text/plain": [
       "<matplotlib.legend.Legend at 0x2ce4f75b1d0>"
      ]
     },
     "execution_count": 11,
     "metadata": {},
     "output_type": "execute_result"
    },
    {
     "data": {
      "image/png": "[encoded data removed]",
      "text/plain": [
       "<Figure size 640x480 with 1 Axes>"
      ]
     },
     "metadata": {},
     "output_type": "display_data"
    }
   ],
   "source": [
    "# plot the data to see the gaps\n",
    "plt.plot(df[\"x\"], df[\"y\"],color=\"b\")\n",
    "plt.plot(df[\"x\"], df[\"z\"],color=\"r\")\n",
    "plt.xlabel(\"Radians\")\n",
    "plt.ylabel(\"Sin & Cos\")\n",
    "plt.title(\"Data with Gaps\")\n",
    "plt.legend([\"Sin\",\"Cos\"])"
   ]
  },
  {
   "cell_type": "markdown",
   "metadata": {},
   "source": [
    "We can see there are still gaps where the NaNs are present.\n",
    "Use one of the pandas methods to fill in the missing data.<br>\n",
    "You could fill in a default value, fill in a mean, or do simple interpolation.<br>\n",
    "You can do some web searching on different ways to fill in missing data in pandas.<br>\n",
    "https://pandas.pydata.org/pandas-docs/stable/user_guide/missing_data.html#interpolation<br><br>\n",
    "Fill in the missing values and save this as a new DataFrame called dfi."
   ]
  },
  {
   "cell_type": "code",
   "execution_count": 12,
   "metadata": {},
   "outputs": [
    {
     "data": {
      "text/html": [
       "<div>\n",
       "<style scoped>\n",
       "    .dataframe tbody tr th:only-of-type {\n",
       "        vertical-align: middle;\n",
       "    }\n",
       "\n",
       "    .dataframe tbody tr th {\n",
       "        vertical-align: top;\n",
       "    }\n",
       "\n",
       "    .dataframe thead th {\n",
       "        text-align: right;\n",
       "    }\n",
       "</style>\n",
       "<table border=\"1\" class=\"dataframe\">\n",
       "  <thead>\n",
       "    <tr style=\"text-align: right;\">\n",
       "      <th></th>\n",
       "      <th>x</th>\n",
       "      <th>y</th>\n",
       "      <th>z</th>\n",
       "    </tr>\n",
       "  </thead>\n",
       "  <tbody>\n",
       "    <tr>\n",
       "      <th>0</th>\n",
       "      <td>0.000000</td>\n",
       "      <td>0.000000e+00</td>\n",
       "      <td>1.000000</td>\n",
       "    </tr>\n",
       "    <tr>\n",
       "      <th>1</th>\n",
       "      <td>0.006289</td>\n",
       "      <td>6.289433e-03</td>\n",
       "      <td>0.999980</td>\n",
       "    </tr>\n",
       "    <tr>\n",
       "      <th>2</th>\n",
       "      <td>0.012579</td>\n",
       "      <td>1.257862e-02</td>\n",
       "      <td>0.999921</td>\n",
       "    </tr>\n",
       "    <tr>\n",
       "      <th>3</th>\n",
       "      <td>0.018868</td>\n",
       "      <td>1.886693e-02</td>\n",
       "      <td>0.999822</td>\n",
       "    </tr>\n",
       "    <tr>\n",
       "      <th>4</th>\n",
       "      <td>0.025158</td>\n",
       "      <td>2.515525e-02</td>\n",
       "      <td>0.999684</td>\n",
       "    </tr>\n",
       "    <tr>\n",
       "      <th>...</th>\n",
       "      <td>...</td>\n",
       "      <td>...</td>\n",
       "      <td>...</td>\n",
       "    </tr>\n",
       "    <tr>\n",
       "      <th>995</th>\n",
       "      <td>6.258027</td>\n",
       "      <td>-2.515525e-02</td>\n",
       "      <td>0.999664</td>\n",
       "    </tr>\n",
       "    <tr>\n",
       "      <th>996</th>\n",
       "      <td>6.264317</td>\n",
       "      <td>-1.886730e-02</td>\n",
       "      <td>0.999822</td>\n",
       "    </tr>\n",
       "    <tr>\n",
       "      <th>997</th>\n",
       "      <td>6.270606</td>\n",
       "      <td>-1.257862e-02</td>\n",
       "      <td>0.999901</td>\n",
       "    </tr>\n",
       "    <tr>\n",
       "      <th>998</th>\n",
       "      <td>6.276896</td>\n",
       "      <td>-6.289433e-03</td>\n",
       "      <td>0.999980</td>\n",
       "    </tr>\n",
       "    <tr>\n",
       "      <th>999</th>\n",
       "      <td>6.283185</td>\n",
       "      <td>-2.449294e-16</td>\n",
       "      <td>1.000000</td>\n",
       "    </tr>\n",
       "  </tbody>\n",
       "</table>\n",
       "<p>1000 rows × 3 columns</p>\n",
       "</div>"
      ],
      "text/plain": [
       "            x             y         z\n",
       "0    0.000000  0.000000e+00  1.000000\n",
       "1    0.006289  6.289433e-03  0.999980\n",
       "2    0.012579  1.257862e-02  0.999921\n",
       "3    0.018868  1.886693e-02  0.999822\n",
       "4    0.025158  2.515525e-02  0.999684\n",
       "..        ...           ...       ...\n",
       "995  6.258027 -2.515525e-02  0.999664\n",
       "996  6.264317 -1.886730e-02  0.999822\n",
       "997  6.270606 -1.257862e-02  0.999901\n",
       "998  6.276896 -6.289433e-03  0.999980\n",
       "999  6.283185 -2.449294e-16  1.000000\n",
       "\n",
       "[1000 rows x 3 columns]"
      ]
     },
     "execution_count": 12,
     "metadata": {},
     "output_type": "execute_result"
    }
   ],
   "source": [
    "# Create a new DataFrame with missing values filled using linear interpolation\n",
    "dfi = df.interpolate(method='linear')\n",
    "\n",
    "dfi"
   ]
  },
  {
   "cell_type": "markdown",
   "metadata": {},
   "source": [
    "Let's visualize your new DataFrame with the NaNs filled in. Run the cell below.<br>\n",
    "Feel free to try filling in the missing data a few different ways and seeing what the plot looks like.<br>\n",
    "Choose the one that looks best."
   ]
  },
  {
   "cell_type": "code",
   "execution_count": 13,
   "metadata": {},
   "outputs": [
    {
     "data": {
      "text/plain": [
       "<matplotlib.legend.Legend at 0x2ce50019ad0>"
      ]
     },
     "execution_count": 13,
     "metadata": {},
     "output_type": "execute_result"
    },
    {
     "data": {
      "image/png": "[encoded data removed]",
      "text/plain": [
       "<Figure size 640x480 with 1 Axes>"
      ]
     },
     "metadata": {},
     "output_type": "display_data"
    }
   ],
   "source": [
    "# plot again to see the gaps filled in nicely\n",
    "plt.plot(dfi[\"x\"],dfi[\"y\"],color=\"b\")\n",
    "plt.plot(dfi[\"x\"],dfi[\"z\"],color=\"r\")\n",
    "plt.xlabel(\"Radians\")\n",
    "plt.ylabel(\"Sin & Cos\")\n",
    "plt.title(\"Interpolated Data\")\n",
    "plt.legend([\"Sin\",\"Cos\"])"
   ]
  },
  {
   "cell_type": "markdown",
   "metadata": {},
   "source": [
    "Okay, very nice. Now, add a new column named \"tan\" that holds the tangent of x, i.e. $\\tan(x)$. Display only the x and tan columns."
   ]
  },
  {
   "cell_type": "code",
   "execution_count": 20,
   "metadata": {},
   "outputs": [
    {
     "data": {
      "text/html": [
       "<div>\n",
       "<style scoped>\n",
       "    .dataframe tbody tr th:only-of-type {\n",
       "        vertical-align: middle;\n",
       "    }\n",
       "\n",
       "    .dataframe tbody tr th {\n",
       "        vertical-align: top;\n",
       "    }\n",
       "\n",
       "    .dataframe thead th {\n",
       "        text-align: right;\n",
       "    }\n",
       "</style>\n",
       "<table border=\"1\" class=\"dataframe\">\n",
       "  <thead>\n",
       "    <tr style=\"text-align: right;\">\n",
       "      <th></th>\n",
       "      <th>tan</th>\n",
       "    </tr>\n",
       "  </thead>\n",
       "  <tbody>\n",
       "    <tr>\n",
       "      <th>0</th>\n",
       "      <td>0.000000e+00</td>\n",
       "    </tr>\n",
       "    <tr>\n",
       "      <th>1</th>\n",
       "      <td>6.289558e-03</td>\n",
       "    </tr>\n",
       "    <tr>\n",
       "      <th>2</th>\n",
       "      <td>1.257961e-02</td>\n",
       "    </tr>\n",
       "    <tr>\n",
       "      <th>3</th>\n",
       "      <td>1.887066e-02</td>\n",
       "    </tr>\n",
       "    <tr>\n",
       "      <th>4</th>\n",
       "      <td>NaN</td>\n",
       "    </tr>\n",
       "    <tr>\n",
       "      <th>...</th>\n",
       "      <td>...</td>\n",
       "    </tr>\n",
       "    <tr>\n",
       "      <th>995</th>\n",
       "      <td>-2.516321e-02</td>\n",
       "    </tr>\n",
       "    <tr>\n",
       "      <th>996</th>\n",
       "      <td>NaN</td>\n",
       "    </tr>\n",
       "    <tr>\n",
       "      <th>997</th>\n",
       "      <td>-1.257961e-02</td>\n",
       "    </tr>\n",
       "    <tr>\n",
       "      <th>998</th>\n",
       "      <td>-6.289558e-03</td>\n",
       "    </tr>\n",
       "    <tr>\n",
       "      <th>999</th>\n",
       "      <td>-2.449294e-16</td>\n",
       "    </tr>\n",
       "  </tbody>\n",
       "</table>\n",
       "<p>1000 rows × 1 columns</p>\n",
       "</div>"
      ],
      "text/plain": [
       "              tan\n",
       "0    0.000000e+00\n",
       "1    6.289558e-03\n",
       "2    1.257961e-02\n",
       "3    1.887066e-02\n",
       "4             NaN\n",
       "..            ...\n",
       "995 -2.516321e-02\n",
       "996           NaN\n",
       "997 -1.257961e-02\n",
       "998 -6.289558e-03\n",
       "999 -2.449294e-16\n",
       "\n",
       "[1000 rows x 1 columns]"
      ]
     },
     "execution_count": 20,
     "metadata": {},
     "output_type": "execute_result"
    }
   ],
   "source": [
    "# Add a new column \"tan\" to dfi containing the tangent of the index values\n",
    "dfi['tan'] = np.tan(df['x'])\n",
    "\n",
    "# Display only the index and \"tan\" columns\n",
    "dfi[['tan']]\n",
    "\n"
   ]
  },
  {
   "cell_type": "markdown",
   "metadata": {},
   "source": [
    "The values in the x-column are angles, expressed as radians. Change the x column so that the angles are written as degrees. Display the x and tan columns of the dataframe."
   ]
  },
  {
   "cell_type": "code",
   "execution_count": 21,
   "metadata": {},
   "outputs": [
    {
     "data": {
      "text/html": [
       "<div>\n",
       "<style scoped>\n",
       "    .dataframe tbody tr th:only-of-type {\n",
       "        vertical-align: middle;\n",
       "    }\n",
       "\n",
       "    .dataframe tbody tr th {\n",
       "        vertical-align: top;\n",
       "    }\n",
       "\n",
       "    .dataframe thead th {\n",
       "        text-align: right;\n",
       "    }\n",
       "</style>\n",
       "<table border=\"1\" class=\"dataframe\">\n",
       "  <thead>\n",
       "    <tr style=\"text-align: right;\">\n",
       "      <th></th>\n",
       "      <th>x</th>\n",
       "      <th>tan</th>\n",
       "    </tr>\n",
       "  </thead>\n",
       "  <tbody>\n",
       "    <tr>\n",
       "      <th>0</th>\n",
       "      <td>0.000000</td>\n",
       "      <td>0.000000e+00</td>\n",
       "    </tr>\n",
       "    <tr>\n",
       "      <th>1</th>\n",
       "      <td>0.360360</td>\n",
       "      <td>6.289558e-03</td>\n",
       "    </tr>\n",
       "    <tr>\n",
       "      <th>2</th>\n",
       "      <td>0.720721</td>\n",
       "      <td>1.257961e-02</td>\n",
       "    </tr>\n",
       "    <tr>\n",
       "      <th>3</th>\n",
       "      <td>1.081081</td>\n",
       "      <td>1.887066e-02</td>\n",
       "    </tr>\n",
       "    <tr>\n",
       "      <th>4</th>\n",
       "      <td>NaN</td>\n",
       "      <td>NaN</td>\n",
       "    </tr>\n",
       "    <tr>\n",
       "      <th>...</th>\n",
       "      <td>...</td>\n",
       "      <td>...</td>\n",
       "    </tr>\n",
       "    <tr>\n",
       "      <th>995</th>\n",
       "      <td>358.558559</td>\n",
       "      <td>-2.516321e-02</td>\n",
       "    </tr>\n",
       "    <tr>\n",
       "      <th>996</th>\n",
       "      <td>NaN</td>\n",
       "      <td>NaN</td>\n",
       "    </tr>\n",
       "    <tr>\n",
       "      <th>997</th>\n",
       "      <td>359.279279</td>\n",
       "      <td>-1.257961e-02</td>\n",
       "    </tr>\n",
       "    <tr>\n",
       "      <th>998</th>\n",
       "      <td>359.639640</td>\n",
       "      <td>-6.289558e-03</td>\n",
       "    </tr>\n",
       "    <tr>\n",
       "      <th>999</th>\n",
       "      <td>360.000000</td>\n",
       "      <td>-2.449294e-16</td>\n",
       "    </tr>\n",
       "  </tbody>\n",
       "</table>\n",
       "<p>1000 rows × 2 columns</p>\n",
       "</div>"
      ],
      "text/plain": [
       "              x           tan\n",
       "0      0.000000  0.000000e+00\n",
       "1      0.360360  6.289558e-03\n",
       "2      0.720721  1.257961e-02\n",
       "3      1.081081  1.887066e-02\n",
       "4           NaN           NaN\n",
       "..          ...           ...\n",
       "995  358.558559 -2.516321e-02\n",
       "996         NaN           NaN\n",
       "997  359.279279 -1.257961e-02\n",
       "998  359.639640 -6.289558e-03\n",
       "999  360.000000 -2.449294e-16\n",
       "\n",
       "[1000 rows x 2 columns]"
      ]
     },
     "execution_count": 21,
     "metadata": {},
     "output_type": "execute_result"
    }
   ],
   "source": [
    "# Convert angles from radians to degrees in the \"x\" column\n",
    "dfi['x'] = np.degrees(df['x'])\n",
    "\n",
    "# Display the \"x\" and \"tan\" columns of the DataFrame\n",
    "dfi[['x', 'tan']]"
   ]
  },
  {
   "cell_type": "markdown",
   "metadata": {},
   "source": [
    "Now try narrowing down dfi.<br>\n",
    "Select x values greater than 90 degrees, and less than 270 degrees; store the x and tan columns in a new dataframe called df_tan.<br>\n",
    "Display the results."
   ]
  },
  {
   "cell_type": "code",
   "execution_count": 22,
   "metadata": {},
   "outputs": [
    {
     "data": {
      "text/html": [
       "<div>\n",
       "<style scoped>\n",
       "    .dataframe tbody tr th:only-of-type {\n",
       "        vertical-align: middle;\n",
       "    }\n",
       "\n",
       "    .dataframe tbody tr th {\n",
       "        vertical-align: top;\n",
       "    }\n",
       "\n",
       "    .dataframe thead th {\n",
       "        text-align: right;\n",
       "    }\n",
       "</style>\n",
       "<table border=\"1\" class=\"dataframe\">\n",
       "  <thead>\n",
       "    <tr style=\"text-align: right;\">\n",
       "      <th></th>\n",
       "      <th>x</th>\n",
       "      <th>tan</th>\n",
       "    </tr>\n",
       "  </thead>\n",
       "  <tbody>\n",
       "    <tr>\n",
       "      <th>250</th>\n",
       "      <td>90.090090</td>\n",
       "      <td>-635.982628</td>\n",
       "    </tr>\n",
       "    <tr>\n",
       "      <th>251</th>\n",
       "      <td>90.450450</td>\n",
       "      <td>-127.194010</td>\n",
       "    </tr>\n",
       "    <tr>\n",
       "      <th>252</th>\n",
       "      <td>90.810811</td>\n",
       "      <td>-70.660078</td>\n",
       "    </tr>\n",
       "    <tr>\n",
       "      <th>253</th>\n",
       "      <td>91.171171</td>\n",
       "      <td>-48.914967</td>\n",
       "    </tr>\n",
       "    <tr>\n",
       "      <th>254</th>\n",
       "      <td>91.531532</td>\n",
       "      <td>-37.401863</td>\n",
       "    </tr>\n",
       "    <tr>\n",
       "      <th>...</th>\n",
       "      <td>...</td>\n",
       "      <td>...</td>\n",
       "    </tr>\n",
       "    <tr>\n",
       "      <th>745</th>\n",
       "      <td>268.468468</td>\n",
       "      <td>37.401863</td>\n",
       "    </tr>\n",
       "    <tr>\n",
       "      <th>746</th>\n",
       "      <td>268.828829</td>\n",
       "      <td>48.914967</td>\n",
       "    </tr>\n",
       "    <tr>\n",
       "      <th>747</th>\n",
       "      <td>269.189189</td>\n",
       "      <td>70.660078</td>\n",
       "    </tr>\n",
       "    <tr>\n",
       "      <th>748</th>\n",
       "      <td>269.549550</td>\n",
       "      <td>127.194010</td>\n",
       "    </tr>\n",
       "    <tr>\n",
       "      <th>749</th>\n",
       "      <td>269.909910</td>\n",
       "      <td>635.982628</td>\n",
       "    </tr>\n",
       "  </tbody>\n",
       "</table>\n",
       "<p>406 rows × 2 columns</p>\n",
       "</div>"
      ],
      "text/plain": [
       "              x         tan\n",
       "250   90.090090 -635.982628\n",
       "251   90.450450 -127.194010\n",
       "252   90.810811  -70.660078\n",
       "253   91.171171  -48.914967\n",
       "254   91.531532  -37.401863\n",
       "..          ...         ...\n",
       "745  268.468468   37.401863\n",
       "746  268.828829   48.914967\n",
       "747  269.189189   70.660078\n",
       "748  269.549550  127.194010\n",
       "749  269.909910  635.982628\n",
       "\n",
       "[406 rows x 2 columns]"
      ]
     },
     "execution_count": 22,
     "metadata": {},
     "output_type": "execute_result"
    }
   ],
   "source": [
    "# Filter the DataFrame dfi to select rows with x values between 90 and 270 degrees\n",
    "df_tan = dfi[(dfi['x'] > 90) & (dfi['x'] < 270)] [['x', 'tan']]\n",
    "\n",
    "# Display the new DataFrame df_tan\n",
    "df_tan\n"
   ]
  },
  {
   "cell_type": "markdown",
   "metadata": {},
   "source": [
    "Run the cell below to visualize the data in df_tan."
   ]
  },
  {
   "cell_type": "code",
   "execution_count": 23,
   "metadata": {},
   "outputs": [
    {
     "data": {
      "text/plain": [
       "<matplotlib.legend.Legend at 0x2ce502c3190>"
      ]
     },
     "execution_count": 23,
     "metadata": {},
     "output_type": "execute_result"
    },
    {
     "data": {
      "image/png": "[encoded data removed]",
      "text/plain": [
       "<Figure size 640x480 with 1 Axes>"
      ]
     },
     "metadata": {},
     "output_type": "display_data"
    }
   ],
   "source": [
    "plt.plot(df_tan[\"x\"], df_tan[\"tan\"],color=\"b\")\n",
    "plt.ylim([-10,10])\n",
    "plt.xlabel(\"Degrees\")\n",
    "plt.ylabel(\"Tan\")\n",
    "plt.title(\"90\\N{degree sign} to 270\\N{degree sign}\")\n",
    "plt.legend([\"Tan\"])"
   ]
  },
  {
   "cell_type": "code",
   "execution_count": null,
   "metadata": {},
   "outputs": [],
   "source": []
  }
 ],
 "metadata": {
  "kernelspec": {
   "display_name": "Python 3 (ipykernel)",
   "language": "python",
   "name": "python3"
  },
  "language_info": {
   "codemirror_mode": {
    "name": "ipython",
    "version": 3
   },
   "file_extension": ".py",
   "mimetype": "text/x-python",
   "name": "python",
   "nbconvert_exporter": "python",
   "pygments_lexer": "ipython3",
   "version": "3.11.5"
  }
 },
 "nbformat": 4,
 "nbformat_minor": 4
}
