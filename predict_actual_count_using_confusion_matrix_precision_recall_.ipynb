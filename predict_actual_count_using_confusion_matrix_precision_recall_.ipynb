{
 "cells": [
  {
   "cell_type": "markdown",
   "id": "faf8123b-f78b-4be0-9e39-18d6ecfa9d70",
   "metadata": {},
   "source": [
    "## Question 1"
   ]
  },
  {
   "cell_type": "code",
   "execution_count": 13,
   "id": "d20b3745-3688-48f8-9add-ccb881f65e31",
   "metadata": {},
   "outputs": [
    {
     "name": "stdout",
     "output_type": "stream",
     "text": [
      "[[6, 2], [1, 5]]\n"
     ]
    }
   ],
   "source": [
    "# function to create  confustion matrix\n",
    "def create_confusion_matrix(actual, predicted):\n",
    "    # Initialize the counts for TP, FN, FP, TN\n",
    "    TP = FN = FP = TN = 0\n",
    "    \n",
    "    # Loop through the actual and predicted lists\n",
    "    for a, p in zip(actual, predicted):\n",
    "        if a == 1 and p == 1:\n",
    "            TP += 1  # True Positive: actual is 1, predicted is 1\n",
    "        elif a == 1 and p == 0:\n",
    "            FN += 1  # False Negative: actual is 1, predicted is 0\n",
    "        elif a == 0 and p == 1:\n",
    "            FP += 1  # False Positive: actual is 0, predicted is 1\n",
    "        elif a == 0 and p == 0:\n",
    "            TN += 1  # True Negative: actual is 0, predicted is 0\n",
    "    \n",
    "    # Return the confusion matrix in the desired format\n",
    "    return [[TP, FN], [FP, TN]]\n",
    "\n",
    "# Match the function\n",
    "actual = [1, 0, 1, 1, 0, 1, 0, 1, 0, 0, 1, 1, 0, 1]\n",
    "predicted = [1, 0, 1, 0, 0, 1, 0, 1, 0, 1, 0, 1, 0, 1]\n",
    "\n",
    "confusion_matrix = create_confusion_matrix(actual, predicted)\n",
    "print(confusion_matrix)\n",
    "\n"
   ]
  },
  {
   "cell_type": "markdown",
   "id": "014ef222-7267-47b1-aa75-b5a45834da49",
   "metadata": {},
   "source": [
    "## Question 2"
   ]
  },
  {
   "cell_type": "code",
   "execution_count": 14,
   "id": "70d3cd9e-93e2-40b4-90f3-03d019aa7e7b",
   "metadata": {},
   "outputs": [
    {
     "name": "stdout",
     "output_type": "stream",
     "text": [
      "Accuracy: 0.79\n"
     ]
    }
   ],
   "source": [
    "# calcualte confusion martix\n",
    "def calculate_accuracy(matrix):\n",
    "    # Extract TP, FN, FP, TN from the matrix\n",
    "    TP = matrix[0][0]\n",
    "    FN = matrix[0][1]\n",
    "    FP = matrix[1][0]\n",
    "    TN = matrix[1][1]\n",
    "    \n",
    "    # Calculate accuracy\n",
    "    total = TP + FN + FP + TN\n",
    "    accuracy = (TP + TN) / total\n",
    "    \n",
    "    return accuracy\n",
    "\n",
    "# Test the function using the confusion matrix from Problem 1\n",
    "confusion_matrix = [[6, 2], [1, 5]]  # The matrix from Problem 1\n",
    "accuracy = calculate_accuracy(confusion_matrix)\n",
    "\n",
    "print(f\"Accuracy: {accuracy:.2f}\")\n"
   ]
  },
  {
   "cell_type": "markdown",
   "id": "98c11242-c82a-423a-aae6-25bfcea3aaf6",
   "metadata": {},
   "source": [
    "## Question 3"
   ]
  },
  {
   "cell_type": "code",
   "execution_count": 17,
   "id": "a90b3fe8-50c3-4f38-833d-f4297725aac6",
   "metadata": {},
   "outputs": [
    {
     "name": "stdout",
     "output_type": "stream",
     "text": [
      "Precision: 0.86\n",
      "Recall: 0.75\n"
     ]
    }
   ],
   "source": [
    "def calculate_precision_recall(matrix):\n",
    "    # Extract TP, FN, FP, TN from the matrix\n",
    "    TP = matrix[0][0]\n",
    "    FN = matrix[0][1]\n",
    "    FP = matrix[1][0]\n",
    "    TN = matrix[1][1]\n",
    "    \n",
    "    # Calculate precision and recall\n",
    "    precision = TP / (TP + FP) if (TP + FP) != 0 else 0  # Precision: TP / (TP + FP)\n",
    "    recall = TP / (TP + FN) if (TP + FN) != 0 else 0  # Recall: TP / (TP + FN)\n",
    "    \n",
    "    return precision, recall\n",
    "\n",
    "# Test the function using the confusion matrix from Problem 1\n",
    "confusion_matrix = [[6, 2], [1, 5]]  # The matrix from Problem 1\n",
    "precision, recall = calculate_precision_recall(confusion_matrix)\n",
    "\n",
    "print(f\"Precision: {precision:.2f}\")\n",
    "print(f\"Recall: {recall:.2f}\")\n"
   ]
  },
  {
   "cell_type": "markdown",
   "id": "89cce871-cfc7-4b64-b084-d7745262c601",
   "metadata": {},
   "source": [
    "## Question 4"
   ]
  },
  {
   "cell_type": "code",
   "execution_count": 21,
   "id": "97268e43-ac93-4f25-a5ce-c9c9481c4974",
   "metadata": {},
   "outputs": [
    {
     "name": "stdout",
     "output_type": "stream",
     "text": [
      "F1 Score: 0.80\n"
     ]
    }
   ],
   "source": [
    "def calculate_f1_score(matrix):\n",
    "    # Calculate precision and recall using the previous function\n",
    "    precision, recall = calculate_precision_recall(matrix)\n",
    "    \n",
    "    # Calculate the F1 score\n",
    "    if precision + recall == 0:\n",
    "        return 0  # Avoid division by zero\n",
    "    f1_score = 2 * (precision * recall) / (precision + recall)\n",
    "    \n",
    "    return f1_score\n",
    "\n",
    "# Test the function using the confusion matrix from Problem 1\n",
    "confusion_matrix = [[6, 2], [1, 5]]  # The matrix from Problem 1\n",
    "f1_score = calculate_f1_score(confusion_matrix)\n",
    "\n",
    "print(f\"F1 Score: {f1_score:.2f}\")\n"
   ]
  },
  {
   "cell_type": "markdown",
   "id": "abdf0091-89fc-4663-a576-62cbebacd302",
   "metadata": {},
   "source": [
    "## Question 5"
   ]
  },
  {
   "cell_type": "code",
   "execution_count": 27,
   "id": "7846ed78-ba66-4423-b336-57409c991fbd",
   "metadata": {},
   "outputs": [
    {
     "data": {
      "image/png": "[encoded data removed]",
      "text/plain": [
       "<Figure size 640x480 with 2 Axes>"
      ]
     },
     "metadata": {},
     "output_type": "display_data"
    }
   ],
   "source": [
    "import matplotlib.pyplot as plt\n",
    "import numpy as np\n",
    "\n",
    "def plot_confusion_matrix(matrix):\n",
    "    # Create the plot\n",
    "    fig, ax = plt.subplots()\n",
    "\n",
    "    # Use imshow to display the confusion matrix\n",
    "    cax = ax.imshow(matrix, cmap='Blues')\n",
    "\n",
    "    # Add color bar\n",
    "    plt.colorbar(cax)\n",
    "\n",
    "    # Set labels for axes\n",
    "    ax.set_xlabel('Predicted')\n",
    "    ax.set_ylabel('Actual')\n",
    "\n",
    "    # Set ticks and labels for the axes\n",
    "    ax.set_xticks(np.arange(2))\n",
    "    ax.set_yticks(np.arange(2))\n",
    "    ax.set_xticklabels(['Positive', 'Negative'])\n",
    "    ax.set_yticklabels(['Positive', 'Negative'])\n",
    "\n",
    "    # Add text annotations inside the cells (TP, FN, FP, TN)\n",
    "    for i in range(2):\n",
    "        for j in range(2):\n",
    "            ax.text(j, i, matrix[i][j], ha='center', va='center', color='black', fontsize=14)\n",
    "\n",
    "    # Set the title\n",
    "    ax.set_title('Confusion Matrix')\n",
    "\n",
    "    # Show the plot\n",
    "    plt.show()\n",
    "\n",
    "# Test the function using the confusion matrix from Problem 1\n",
    "confusion_matrix = [[6, 2], [1, 5]]  # The matrix from Problem 1\n",
    "plot_confusion_matrix(confusion_matrix)\n"
   ]
  },
  {
   "cell_type": "code",
   "execution_count": null,
   "id": "525fdd29-b6c5-494f-b7f5-6d2f11addb09",
   "metadata": {},
   "outputs": [],
   "source": []
  },
  {
   "cell_type": "code",
   "execution_count": null,
   "id": "da134961-a2dc-4a5d-9014-f45f7e629301",
   "metadata": {},
   "outputs": [],
   "source": []
  }
 ],
 "metadata": {
  "kernelspec": {
   "display_name": "Python 3 (ipykernel)",
   "language": "python",
   "name": "python3"
  },
  "language_info": {
   "codemirror_mode": {
    "name": "ipython",
    "version": 3
   },
   "file_extension": ".py",
   "mimetype": "text/x-python",
   "name": "python",
   "nbconvert_exporter": "python",
   "pygments_lexer": "ipython3",
   "version": "3.9.18"
  }
 },
 "nbformat": 4,
 "nbformat_minor": 5
}
