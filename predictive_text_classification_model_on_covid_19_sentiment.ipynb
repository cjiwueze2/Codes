{
 "cells": [
  {
   "cell_type": "code",
   "execution_count": 21,
   "id": "b7444ea5",
   "metadata": {},
   "outputs": [],
   "source": [
    "import pandas as pd\n",
    "import re \n",
    "import seaborn as sns\n",
    "import matplotlib.pyplot as plt\n",
    "from nltk.corpus import stopwords\n",
    "import nltk\n",
    "from sklearn.feature_extraction.text import TfidfVectorizer\n",
    "from sklearn.svm import SVC\n",
    "from sklearn.metrics import accuracy_score, classification_report\n",
    "from sklearn.model_selection import train_test_split\n",
    "from sklearn.tree import DecisionTreeClassifier\n",
    "import utils9\n",
    "from sklearn.feature_extraction.text import CountVectorizer\n",
    "from sklearn import tree\n",
    "from sklearn.metrics import confusion_matrix, classification_report\n",
    "from sklearn.tree import plot_tree"
   ]
  },
  {
   "cell_type": "markdown",
   "id": "09155222",
   "metadata": {},
   "source": [
    "Here is the Realistic Use Case:Analyzing COVID-19 Sentiment on Twitter \n",
    "\n",
    "The Model will be use perform Predictive Text Classification on text data.\n",
    "\n",
    "Description of Features: \n",
    "The names and usernames have been given codes to avoid any privacy concerns.\n",
    "\n",
    "* Location: Location from where the tweet was posted.\n",
    "* TweetAt: Date of the tweet.\n",
    "* OriginalTweet: The actual content of the tweet.\n",
    "\n",
    "Label\n",
    "* Sentiment Classes: Extremely Negative, Negative, Neutral, Positive, Extremely Positive.\n",
    "\n",
    "Usability and Implementation:\n",
    "For this use case, Only Original Tweet wii be considered based on its important: \n",
    "* OriginalTweet:To understand and gain insight into public opinions, fears and reactions during the early stage of the pandemic.\n",
    "\n",
    "Label:\n",
    "* Sentiment Classes"
   ]
  },
  {
   "cell_type": "markdown",
   "id": "26bface2",
   "metadata": {},
   "source": [
    "Given the global significance of Covid-19 as a health crisis that claimed many lives, it will be worthy to note that both false positives and false negatives can impede and hinder effective response efforts by the governments and their agencies worldwide. I am of the opinion that both prediction errors should be avoided and optimal solution should be applied at all time to ensure model accuracy."
   ]
  },
  {
   "cell_type": "markdown",
   "id": "c7156287",
   "metadata": {},
   "source": [
    "# Load the dataset into a Pandas DataFrame\n",
    "coronavirus = pd.read_csv(\"Coronavirus_NLP.csv\", index_col=0)"
   ]
  },
  {
   "cell_type": "code",
   "execution_count": 22,
   "id": "3a4eca53",
   "metadata": {},
   "outputs": [
    {
     "name": "stdout",
     "output_type": "stream",
     "text": [
      "Original dataset:\n"
     ]
    },
    {
     "data": {
      "text/html": [
       "<div>\n",
       "<style scoped>\n",
       "    .dataframe tbody tr th:only-of-type {\n",
       "        vertical-align: middle;\n",
       "    }\n",
       "\n",
       "    .dataframe tbody tr th {\n",
       "        vertical-align: top;\n",
       "    }\n",
       "\n",
       "    .dataframe thead th {\n",
       "        text-align: right;\n",
       "    }\n",
       "</style>\n",
       "<table border=\"1\" class=\"dataframe\">\n",
       "  <thead>\n",
       "    <tr style=\"text-align: right;\">\n",
       "      <th></th>\n",
       "      <th>ScreenName</th>\n",
       "      <th>Location</th>\n",
       "      <th>TweetAt</th>\n",
       "      <th>OriginalTweet</th>\n",
       "      <th>Sentiment</th>\n",
       "    </tr>\n",
       "    <tr>\n",
       "      <th>UserName</th>\n",
       "      <th></th>\n",
       "      <th></th>\n",
       "      <th></th>\n",
       "      <th></th>\n",
       "      <th></th>\n",
       "    </tr>\n",
       "  </thead>\n",
       "  <tbody>\n",
       "    <tr>\n",
       "      <th>3799</th>\n",
       "      <td>48751</td>\n",
       "      <td>London</td>\n",
       "      <td>16-03-2020</td>\n",
       "      <td>@MeNyrbie @Phil_Gahan @Chrisitv https://t.co/i...</td>\n",
       "      <td>Neutral</td>\n",
       "    </tr>\n",
       "    <tr>\n",
       "      <th>3800</th>\n",
       "      <td>48752</td>\n",
       "      <td>UK</td>\n",
       "      <td>16-03-2020</td>\n",
       "      <td>advice Talk to your neighbours family to excha...</td>\n",
       "      <td>Positive</td>\n",
       "    </tr>\n",
       "    <tr>\n",
       "      <th>3801</th>\n",
       "      <td>48753</td>\n",
       "      <td>Vagabonds</td>\n",
       "      <td>16-03-2020</td>\n",
       "      <td>Coronavirus Australia: Woolworths to give elde...</td>\n",
       "      <td>Positive</td>\n",
       "    </tr>\n",
       "    <tr>\n",
       "      <th>3802</th>\n",
       "      <td>48754</td>\n",
       "      <td>Vagabonds</td>\n",
       "      <td>16-03-2020</td>\n",
       "      <td>My food stock is not the only one which is emp...</td>\n",
       "      <td>Positive</td>\n",
       "    </tr>\n",
       "    <tr>\n",
       "      <th>3803</th>\n",
       "      <td>48755</td>\n",
       "      <td>Vagabonds</td>\n",
       "      <td>16-03-2020</td>\n",
       "      <td>Me, ready to go at supermarket during the #COV...</td>\n",
       "      <td>Extremely Negative</td>\n",
       "    </tr>\n",
       "  </tbody>\n",
       "</table>\n",
       "</div>"
      ],
      "text/plain": [
       "          ScreenName   Location     TweetAt  \\\n",
       "UserName                                      \n",
       "3799           48751     London  16-03-2020   \n",
       "3800           48752         UK  16-03-2020   \n",
       "3801           48753  Vagabonds  16-03-2020   \n",
       "3802           48754  Vagabonds  16-03-2020   \n",
       "3803           48755  Vagabonds  16-03-2020   \n",
       "\n",
       "                                              OriginalTweet  \\\n",
       "UserName                                                      \n",
       "3799      @MeNyrbie @Phil_Gahan @Chrisitv https://t.co/i...   \n",
       "3800      advice Talk to your neighbours family to excha...   \n",
       "3801      Coronavirus Australia: Woolworths to give elde...   \n",
       "3802      My food stock is not the only one which is emp...   \n",
       "3803      Me, ready to go at supermarket during the #COV...   \n",
       "\n",
       "                   Sentiment  \n",
       "UserName                      \n",
       "3799                 Neutral  \n",
       "3800                Positive  \n",
       "3801                Positive  \n",
       "3802                Positive  \n",
       "3803      Extremely Negative  "
      ]
     },
     "execution_count": 22,
     "metadata": {},
     "output_type": "execute_result"
    }
   ],
   "source": [
    "# Load the dataset into a Pandas DataFrame\n",
    "coronavirus = pd.read_csv(\"corona_nlpu.csv\", encoding='latin1', index_col=0)\n",
    "\n",
    "\n",
    "# Display the DataFrame to check if the datase loaded correctly\n",
    "print(\"Original dataset:\")\n",
    "coronavirus.head()\n",
    "\n"
   ]
  },
  {
   "cell_type": "code",
   "execution_count": 23,
   "id": "e02d547a",
   "metadata": {},
   "outputs": [],
   "source": [
    "# Drop the missing column\n",
    "coronavirus.dropna(inplace=True)"
   ]
  },
  {
   "cell_type": "code",
   "execution_count": 24,
   "id": "2fd9576f-4266-44a5-8791-bf20b53bc6c9",
   "metadata": {
    "tags": []
   },
   "outputs": [
    {
     "data": {
      "text/plain": [
       "0"
      ]
     },
     "execution_count": 24,
     "metadata": {},
     "output_type": "execute_result"
    }
   ],
   "source": [
    "# Check for null value in the dataset\n",
    "coronavirus.isnull().sum().sum()"
   ]
  },
  {
   "cell_type": "code",
   "execution_count": 25,
   "id": "9ea4d0c7",
   "metadata": {},
   "outputs": [
    {
     "name": "stderr",
     "output_type": "stream",
     "text": [
      "[nltk_data] Downloading package stopwords to\n",
      "[nltk_data]     C:\\Users\\jiwue\\AppData\\Roaming\\nltk_data...\n",
      "[nltk_data]   Package stopwords is already up-to-date!\n"
     ]
    }
   ],
   "source": [
    "# download nltk and Apply remove stopwords to the data\n",
    "nltk.download('stopwords')\n",
    "stop_words = set(stopwords.words('english'))\n",
    "\n",
    "# filters out any words that are present in the set of English stopwords and split\n",
    "def remove_stopwords(text):\n",
    "    words = text.split()\n",
    "    filtered_words = [word for word in words if word not in stop_words]\n",
    "    return ' '.join(filtered_words)"
   ]
  },
  {
   "cell_type": "code",
   "execution_count": 42,
   "id": "3852edf0",
   "metadata": {},
   "outputs": [],
   "source": [
    "# Apply Clean text functions on data\n",
    "def clean_text(text):\n",
    "    # Remove any characters that are not alphanumeric or whitespace.\n",
    "    text = re.sub(r'[^\\w\\s]', '', text)\n",
    "    # Remove URLs from the text\n",
    "    text = re.sub(r\"http\\S+|www\\S+|pic.twitter.com\\S+\", \"\", text)\n",
    "    # Remove special characters using regex\n",
    "    text = re.sub(r'[^a-zA-Z0-9\\s]', \"\", text)\n",
    "    # Converts the text to lowercase\n",
    "    text = text.lower()\n",
    "    return text"
   ]
  },
  {
   "cell_type": "code",
   "execution_count": 43,
   "id": "cb199ca6-b143-4d6d-9231-2697fa22ed38",
   "metadata": {
    "tags": []
   },
   "outputs": [],
   "source": [
    "# creates a new column called 'Cleaned_Tweets\n",
    "coronavirus['Cleaned_Tweets'] = coronavirus['OriginalTweet'].apply(clean_text)\n"
   ]
  },
  {
   "cell_type": "code",
   "execution_count": 44,
   "id": "a1fd4d97-540c-4b08-a9b4-90dd41138228",
   "metadata": {
    "tags": []
   },
   "outputs": [],
   "source": [
    "# further refined text and remove common English stopwords from the cleaned tweets\n",
    "coronavirus['Cleaned_Tweets'] = coronavirus['Cleaned_Tweets'].apply(remove_stopwords)"
   ]
  },
  {
   "cell_type": "code",
   "execution_count": 4,
   "id": "7f7c145f-db43-4d6b-9003-ae1d34f3f44d",
   "metadata": {},
   "outputs": [],
   "source": [
    "# creates a new column called words\n",
    "#coronavirus['words'] = coronavirus['OriginalTweet'].apply(clean_text)"
   ]
  },
  {
   "cell_type": "code",
   "execution_count": 10,
   "id": "eb595563-4f03-4a44-870e-15cca32458ea",
   "metadata": {
    "tags": []
   },
   "outputs": [],
   "source": [
    "# create a list of text and splits it into individual words.\n",
    "def tokenize_text(text):\n",
    "    return text.split()"
   ]
  },
  {
   "cell_type": "code",
   "execution_count": 11,
   "id": "683f9e61",
   "metadata": {},
   "outputs": [
    {
     "data": {
      "text/plain": [
       "array(['Neutral', 'Positive', 'Extremely Negative', 'Negative',\n",
       "       'Extremely Positive'], dtype=object)"
      ]
     },
     "execution_count": 11,
     "metadata": {},
     "output_type": "execute_result"
    }
   ],
   "source": [
    "# Display the label uqique classes\n",
    "coronavirus['Sentiment'].unique()"
   ]
  },
  {
   "cell_type": "code",
   "execution_count": 12,
   "id": "08aa2090-c8dd-486d-b236-e048f11c6a27",
   "metadata": {
    "tags": []
   },
   "outputs": [],
   "source": [
    "# Create a list of all tweets and join each tokenized tweet with a space\n",
    "all_tweets_text = [' '.join(tweet) for tweet in coronavirus['Cleaned_Tweets']]\n"
   ]
  },
  {
   "cell_type": "code",
   "execution_count": 13,
   "id": "e107eb8f",
   "metadata": {},
   "outputs": [
    {
     "data": {
      "text/html": [
       "<div>\n",
       "<style scoped>\n",
       "    .dataframe tbody tr th:only-of-type {\n",
       "        vertical-align: middle;\n",
       "    }\n",
       "\n",
       "    .dataframe tbody tr th {\n",
       "        vertical-align: top;\n",
       "    }\n",
       "\n",
       "    .dataframe thead th {\n",
       "        text-align: right;\n",
       "    }\n",
       "</style>\n",
       "<table border=\"1\" class=\"dataframe\">\n",
       "  <thead>\n",
       "    <tr style=\"text-align: right;\">\n",
       "      <th></th>\n",
       "      <th>ScreenName</th>\n",
       "      <th>Location</th>\n",
       "      <th>TweetAt</th>\n",
       "      <th>OriginalTweet</th>\n",
       "      <th>Sentiment</th>\n",
       "      <th>Cleaned_Tweets</th>\n",
       "    </tr>\n",
       "    <tr>\n",
       "      <th>UserName</th>\n",
       "      <th></th>\n",
       "      <th></th>\n",
       "      <th></th>\n",
       "      <th></th>\n",
       "      <th></th>\n",
       "      <th></th>\n",
       "    </tr>\n",
       "  </thead>\n",
       "  <tbody>\n",
       "    <tr>\n",
       "      <th>3799</th>\n",
       "      <td>48751</td>\n",
       "      <td>London</td>\n",
       "      <td>16-03-2020</td>\n",
       "      <td>@MeNyrbie @Phil_Gahan @Chrisitv https://t.co/i...</td>\n",
       "      <td>Neutral</td>\n",
       "      <td>menyrbie philgahan chrisitv</td>\n",
       "    </tr>\n",
       "    <tr>\n",
       "      <th>3800</th>\n",
       "      <td>48752</td>\n",
       "      <td>UK</td>\n",
       "      <td>16-03-2020</td>\n",
       "      <td>advice Talk to your neighbours family to excha...</td>\n",
       "      <td>Positive</td>\n",
       "      <td>advice talk neighbours family exchange phone n...</td>\n",
       "    </tr>\n",
       "    <tr>\n",
       "      <th>3801</th>\n",
       "      <td>48753</td>\n",
       "      <td>Vagabonds</td>\n",
       "      <td>16-03-2020</td>\n",
       "      <td>Coronavirus Australia: Woolworths to give elde...</td>\n",
       "      <td>Positive</td>\n",
       "      <td>coronavirus australia woolworths give elderly ...</td>\n",
       "    </tr>\n",
       "    <tr>\n",
       "      <th>3802</th>\n",
       "      <td>48754</td>\n",
       "      <td>Vagabonds</td>\n",
       "      <td>16-03-2020</td>\n",
       "      <td>My food stock is not the only one which is emp...</td>\n",
       "      <td>Positive</td>\n",
       "      <td>food stock one empty please dont panic enough ...</td>\n",
       "    </tr>\n",
       "    <tr>\n",
       "      <th>3803</th>\n",
       "      <td>48755</td>\n",
       "      <td>Vagabonds</td>\n",
       "      <td>16-03-2020</td>\n",
       "      <td>Me, ready to go at supermarket during the #COV...</td>\n",
       "      <td>Extremely Negative</td>\n",
       "      <td>ready go supermarket covid19 outbreak im paran...</td>\n",
       "    </tr>\n",
       "  </tbody>\n",
       "</table>\n",
       "</div>"
      ],
      "text/plain": [
       "          ScreenName   Location     TweetAt  \\\n",
       "UserName                                      \n",
       "3799           48751     London  16-03-2020   \n",
       "3800           48752         UK  16-03-2020   \n",
       "3801           48753  Vagabonds  16-03-2020   \n",
       "3802           48754  Vagabonds  16-03-2020   \n",
       "3803           48755  Vagabonds  16-03-2020   \n",
       "\n",
       "                                              OriginalTweet  \\\n",
       "UserName                                                      \n",
       "3799      @MeNyrbie @Phil_Gahan @Chrisitv https://t.co/i...   \n",
       "3800      advice Talk to your neighbours family to excha...   \n",
       "3801      Coronavirus Australia: Woolworths to give elde...   \n",
       "3802      My food stock is not the only one which is emp...   \n",
       "3803      Me, ready to go at supermarket during the #COV...   \n",
       "\n",
       "                   Sentiment  \\\n",
       "UserName                       \n",
       "3799                 Neutral   \n",
       "3800                Positive   \n",
       "3801                Positive   \n",
       "3802                Positive   \n",
       "3803      Extremely Negative   \n",
       "\n",
       "                                             Cleaned_Tweets  \n",
       "UserName                                                     \n",
       "3799                            menyrbie philgahan chrisitv  \n",
       "3800      advice talk neighbours family exchange phone n...  \n",
       "3801      coronavirus australia woolworths give elderly ...  \n",
       "3802      food stock one empty please dont panic enough ...  \n",
       "3803      ready go supermarket covid19 outbreak im paran...  "
      ]
     },
     "execution_count": 13,
     "metadata": {},
     "output_type": "execute_result"
    }
   ],
   "source": [
    "# Display coronavirus.head\n",
    "coronavirus.head()"
   ]
  },
  {
   "cell_type": "code",
   "execution_count": 14,
   "id": "0af52484",
   "metadata": {},
   "outputs": [
    {
     "name": "stdout",
     "output_type": "stream",
     "text": [
      "<class 'pandas.core.frame.DataFrame'>\n",
      "Index: 41155 entries, 3799 to 44955\n",
      "Data columns (total 6 columns):\n",
      " #   Column          Non-Null Count  Dtype \n",
      "---  ------          --------------  ----- \n",
      " 0   ScreenName      41155 non-null  int64 \n",
      " 1   Location        41155 non-null  object\n",
      " 2   TweetAt         41155 non-null  object\n",
      " 3   OriginalTweet   41155 non-null  object\n",
      " 4   Sentiment       41155 non-null  object\n",
      " 5   Cleaned_Tweets  41155 non-null  object\n",
      "dtypes: int64(1), object(5)\n",
      "memory usage: 2.2+ MB\n"
     ]
    }
   ],
   "source": [
    "# Provides the summary of the dataframe\n",
    "coronavirus.info()"
   ]
  },
  {
   "cell_type": "code",
   "execution_count": 15,
   "id": "ae7a5cc2",
   "metadata": {},
   "outputs": [],
   "source": [
    "all_tweets_lengths = [len(tweet) for tweet in coronavirus['Cleaned_Tweets']]\n"
   ]
  },
  {
   "cell_type": "code",
   "execution_count": 16,
   "id": "127e0c03",
   "metadata": {},
   "outputs": [
    {
     "data": {
      "image/png": "[encoded data removed]",
      "text/plain": [
       "<Figure size 640x480 with 1 Axes>"
      ]
     },
     "metadata": {},
     "output_type": "display_data"
    }
   ],
   "source": [
    "\n",
    "# Plotting histogram using Seaborn\n",
    "sns.histplot(all_tweets_lengths,bins=20, kde=True)\n",
    "plt.title('Distribution of Tweet Lengths')\n",
    "plt.xlabel('Length of Tweets')\n",
    "plt.ylabel('Count')\n",
    "plt.show()\n"
   ]
  },
  {
   "cell_type": "code",
   "execution_count": 17,
   "id": "09ed784a",
   "metadata": {},
   "outputs": [
    {
     "name": "stdout",
     "output_type": "stream",
     "text": [
      "Data saved as cleaned_data.csv\n"
     ]
    }
   ],
   "source": [
    "# Save the data as a CSV file\n",
    "coronavirus.to_csv(\"cleaned_data.csv\", index=False)\n",
    "\n",
    "# Print a success message\n",
    "print(\"Data saved as cleaned_data.csv\")"
   ]
  },
  {
   "cell_type": "code",
   "execution_count": 18,
   "id": "b78ce0a6",
   "metadata": {
    "scrolled": true
   },
   "outputs": [
    {
     "data": {
      "text/html": [
       "<div>\n",
       "<style scoped>\n",
       "    .dataframe tbody tr th:only-of-type {\n",
       "        vertical-align: middle;\n",
       "    }\n",
       "\n",
       "    .dataframe tbody tr th {\n",
       "        vertical-align: top;\n",
       "    }\n",
       "\n",
       "    .dataframe thead th {\n",
       "        text-align: right;\n",
       "    }\n",
       "</style>\n",
       "<table border=\"1\" class=\"dataframe\">\n",
       "  <thead>\n",
       "    <tr style=\"text-align: right;\">\n",
       "      <th></th>\n",
       "      <th>ScreenName</th>\n",
       "    </tr>\n",
       "  </thead>\n",
       "  <tbody>\n",
       "    <tr>\n",
       "      <th>count</th>\n",
       "      <td>41155.000000</td>\n",
       "    </tr>\n",
       "    <tr>\n",
       "      <th>mean</th>\n",
       "      <td>69328.698190</td>\n",
       "    </tr>\n",
       "    <tr>\n",
       "      <th>std</th>\n",
       "      <td>11881.356662</td>\n",
       "    </tr>\n",
       "    <tr>\n",
       "      <th>min</th>\n",
       "      <td>48751.000000</td>\n",
       "    </tr>\n",
       "    <tr>\n",
       "      <th>25%</th>\n",
       "      <td>59039.500000</td>\n",
       "    </tr>\n",
       "    <tr>\n",
       "      <th>50%</th>\n",
       "      <td>69328.000000</td>\n",
       "    </tr>\n",
       "    <tr>\n",
       "      <th>75%</th>\n",
       "      <td>79618.500000</td>\n",
       "    </tr>\n",
       "    <tr>\n",
       "      <th>max</th>\n",
       "      <td>89907.000000</td>\n",
       "    </tr>\n",
       "  </tbody>\n",
       "</table>\n",
       "</div>"
      ],
      "text/plain": [
       "         ScreenName\n",
       "count  41155.000000\n",
       "mean   69328.698190\n",
       "std    11881.356662\n",
       "min    48751.000000\n",
       "25%    59039.500000\n",
       "50%    69328.000000\n",
       "75%    79618.500000\n",
       "max    89907.000000"
      ]
     },
     "execution_count": 18,
     "metadata": {},
     "output_type": "execute_result"
    }
   ],
   "source": [
    "# Use the describe function to get statistical summary\n",
    "coronavirus.describe()"
   ]
  },
  {
   "cell_type": "code",
   "execution_count": 19,
   "id": "3903ac4f",
   "metadata": {},
   "outputs": [
    {
     "data": {
      "image/png": "[encoded data removed]",
      "text/plain": [
       "<Figure size 640x480 with 1 Axes>"
      ]
     },
     "metadata": {},
     "output_type": "display_data"
    },
    {
     "name": "stdout",
     "output_type": "stream",
     "text": [
      "Observations:\n",
      "Positive: 11422 instances\n",
      "Negative: 9917 instances\n",
      "Neutral: 7712 instances\n",
      "Extremely Positive: 6624 instances\n",
      "Extremely Negative: 5480 instances\n"
     ]
    }
   ],
   "source": [
    "# Get Count of Sentiment Class \n",
    "class_counts = coronavirus['Sentiment'].value_counts()\n",
    "\n",
    "plt.bar(class_counts.index, class_counts.values)\n",
    "plt.xlabel('Sentiment')\n",
    "plt.ylabel('Count')\n",
    "plt.title('Count of Sentiment')\n",
    "plt.show()\n",
    "\n",
    "# Observations\n",
    "print(\"Observations:\")\n",
    "for sentiment, count in class_counts.items():\n",
    "    print(f\"{sentiment}: {count} instances\")\n"
   ]
  },
  {
   "cell_type": "markdown",
   "id": "f218eb29",
   "metadata": {},
   "source": [
    "Based the viusalization the sentiment class were represented using distribution of different sentiment classes, each instance were observed to correspond to a data point or classified into one of the sentiment classes under study. "
   ]
  },
  {
   "cell_type": "code",
   "execution_count": 20,
   "id": "56c3bcb0",
   "metadata": {},
   "outputs": [
    {
     "data": {
      "text/plain": [
       "UserName\n",
       "3799                           menyrbie philgahan chrisitv\n",
       "3800     advice talk neighbours family exchange phone n...\n",
       "3801     coronavirus australia woolworths give elderly ...\n",
       "3802     food stock one empty please dont panic enough ...\n",
       "3803     ready go supermarket covid19 outbreak im paran...\n",
       "                               ...                        \n",
       "44951    airline pilots offering stock supermarket shel...\n",
       "44952    response complaint provided citing covid19 rel...\n",
       "44953    know getting tough kameronwilds rationing toil...\n",
       "44954    wrong smell hand sanitizer starting turn coron...\n",
       "44955    tartiicat well newused rift going 70000 amazon...\n",
       "Name: Cleaned_Tweets, Length: 41155, dtype: object"
      ]
     },
     "execution_count": 20,
     "metadata": {},
     "output_type": "execute_result"
    }
   ],
   "source": [
    "# prepare x and y\n",
    "x = coronavirus['Cleaned_Tweets']\n",
    "y = coronavirus['Sentiment']\n",
    "x"
   ]
  },
  {
   "cell_type": "code",
   "execution_count": 21,
   "id": "0a37e5b9-0810-4e35-b308-b38c7dba7ba1",
   "metadata": {
    "tags": []
   },
   "outputs": [
    {
     "name": "stdout",
     "output_type": "stream",
     "text": [
      "Shape of the numerical features matrix: (41155, 60535)\n"
     ]
    },
    {
     "data": {
      "text/plain": [
       "<41155x60535 sparse matrix of type '<class 'numpy.float64'>'\n",
       "\twith 721568 stored elements in Compressed Sparse Row format>"
      ]
     },
     "execution_count": 21,
     "metadata": {},
     "output_type": "execute_result"
    }
   ],
   "source": [
    "# Initialize the TfidfVectorizer\n",
    "tfidf_vectorizer = TfidfVectorizer()\n",
    "\n",
    "# Fit and transform the corpus to numerical features\n",
    "x_tfidf = tfidf_vectorizer.fit_transform(coronavirus['Cleaned_Tweets'])\n",
    "\n",
    "# Print the shape of the resulting matrix\n",
    "print(\"Shape of the numerical features matrix:\", x_tfidf.shape)\n",
    "x_tfidf "
   ]
  },
  {
   "cell_type": "code",
   "execution_count": 22,
   "id": "51833f10",
   "metadata": {},
   "outputs": [
    {
     "name": "stdout",
     "output_type": "stream",
     "text": [
      "  (0, 16176)\t0.40745963088269443\n",
      "  (0, 9713)\t0.27441504384735216\n",
      "  (0, 27471)\t0.29972891383758204\n",
      "  (0, 37831)\t0.6878395988421597\n",
      "  (0, 11711)\t0.2048511845622622\n",
      "  (0, 56839)\t0.1427640454257275\n",
      "  (0, 58532)\t0.18869761064250026\n",
      "  (0, 55860)\t0.19543002910174673\n",
      "  (0, 45357)\t0.16384931433696379\n",
      "  (0, 51585)\t0.16677192324718265\n",
      "  (0, 13378)\t0.07005398042622367\n",
      "  (1, 58086)\t0.2691864754488137\n",
      "  (1, 47244)\t0.262197226197121\n",
      "  (1, 13720)\t0.2785440294265408\n",
      "  (1, 45257)\t0.21806249660737828\n",
      "  (1, 44192)\t0.2927504863859528\n",
      "  (1, 19196)\t0.2228813176219061\n",
      "  (1, 32093)\t0.1911027149296454\n",
      "  (1, 31966)\t0.1913435023725406\n",
      "  (1, 42755)\t0.1913435023725406\n",
      "  (1, 25734)\t0.17723394716944088\n",
      "  (1, 32687)\t0.1663979332340622\n",
      "  (1, 26588)\t0.1717061375829612\n",
      "  (1, 13638)\t0.19942489202560965\n",
      "  (1, 47967)\t0.15832340493325772\n",
      "  :\t:\n",
      "  (4115, 60425)\t0.20378440073391954\n",
      "  (4115, 16122)\t0.21163386297395917\n",
      "  (4115, 39050)\t0.21163386297395917\n",
      "  (4115, 25729)\t0.19821511864357452\n",
      "  (4115, 29884)\t0.21163386297395917\n",
      "  (4115, 60460)\t0.42326772594791834\n",
      "  (4115, 452)\t0.19821511864357452\n",
      "  (4115, 30767)\t0.19036565640353492\n",
      "  (4115, 30768)\t0.19036565640353492\n",
      "  (4115, 16140)\t0.15678524414727335\n",
      "  (4115, 8383)\t0.13570776971966636\n",
      "  (4115, 54505)\t0.15412914624618368\n",
      "  (4115, 2006)\t0.18738142936060595\n",
      "  (4115, 25994)\t0.31757607374066765\n",
      "  (4115, 8378)\t0.25558904215256795\n",
      "  (4115, 23901)\t0.09822922178217558\n",
      "  (4115, 51503)\t0.15179389022463202\n",
      "  (4115, 16593)\t0.12020147524583417\n",
      "  (4115, 58328)\t0.09377705555423008\n",
      "  (4115, 46985)\t0.07591140851367689\n",
      "  (4115, 24907)\t0.07867567567072656\n",
      "  (4115, 40697)\t0.060852636719583374\n",
      "  (4115, 9654)\t0.12506671044294482\n",
      "  (4115, 52204)\t0.054095088732111905\n",
      "  (4115, 13378)\t0.036385922360421784\n"
     ]
    }
   ],
   "source": [
    "# Splitting the data into training 80%, validation 10% and testing 10%\n",
    "# Splitting the data into training 80%, and testing 20%\n",
    "x_train, x_test, y_train, y_test = train_test_split(x_tfidf, y, test_size=0.2, random_state=0)\n",
    "\n",
    "# Splitting the testing set into validation and test sets\n",
    "x_val, x_test, y_val, y_test = train_test_split(x_test, y_test, test_size=0.5, random_state=0)\n",
    "\n",
    "print(x_test)"
   ]
  },
  {
   "cell_type": "code",
   "execution_count": 23,
   "id": "9c531d7d",
   "metadata": {},
   "outputs": [],
   "source": [
    "# Define a function to train a decision tree and return accuracy\n",
    "def train_decision_tree(criterion, max_depth=None, max_features=2, min_impurity_decrease=0.0, min_samples_leaf=1, min_samples_split=2):\n",
    "    # Initialize decision tree classifier\n",
    "    clf = DecisionTreeClassifier(criterion=criterion,\n",
    "                                 max_depth=max_depth,\n",
    "                                 max_features=max_features,\n",
    "                                 min_impurity_decrease=min_impurity_decrease,\n",
    "                                 min_samples_leaf=min_samples_leaf,\n",
    "                                 min_samples_split=min_samples_split,\n",
    "                                 random_state=42)\n",
    "    # Train the classifier\n",
    "    clf.fit(x_train, y_train)\n",
    "    \n",
    "    # Predict the labels\n",
    "    y_pred = clf.predict(x_test)\n",
    "    \n",
    "    # Calculate accuracy\n",
    "    accuracy = accuracy_score(y_test, y_pred)\n",
    "    \n",
    "    return clf, accuracy\n",
    "\n",
    "    \n",
    "# Results dictionary to store the accuracies\n",
    "results = {}\n",
    "models ={}\n",
    "\n",
    "# Define the hyperparameters in a dictionary\n",
    "hyperparameters = {\n",
    "    'max_depth_values': [None, 2, 4],\n",
    "    'max_features_values': ['log2', 'sqrt', None],\n",
    "    'min_impurity_decrease': [0.0, 0.1, 0.2],\n",
    "    'min_samples_leaf_values': [1, 2, 3],\n",
    "    'min_samples_split_values': [2, 3, 5]\n",
    "}\n",
    "\n",
    "\n",
    "# Hyperparameters to experiment with\n",
    "max_depth_values = [None, 2, 4]\n",
    "max_features_values = ['log2', 'sqrt', None]\n",
    "min_impurity_decrease_values = [0.0, 0.1, 0.2]\n",
    "min_samples_leaf_values = [1, 2,3]\n",
    "min_samples_split_values = [2, 3, 5]\n",
    "\n",
    "\n",
    "# Loop through all combinations of hyperparameters\n",
    "for criterion in ['gini', 'entropy']:\n",
    "    for max_depth in max_depth_values:\n",
    "        for max_features in max_features_values:\n",
    "            for min_impurity_decrease in min_impurity_decrease_values:\n",
    "                for min_samples_leaf in min_samples_leaf_values:\n",
    "                    for min_samples_split in min_samples_split_values:\n",
    "                        # Train decision tree with current hyperparameters\n",
    "                        model, accuracy = train_decision_tree(criterion, max_depth, max_features, min_impurity_decrease, min_samples_leaf, min_samples_split)\n",
    "                        \n",
    "                        # Store the accuracy along with the hyperparameters in the results dictionary\n",
    "                        results[(criterion, max_depth, max_features, min_impurity_decrease, min_samples_leaf, min_samples_split)] = accuracy\n",
    "                        models[(criterion, max_depth, max_features, min_impurity_decrease, min_samples_leaf, min_samples_split)] = model\n"
   ]
  },
  {
   "cell_type": "code",
   "execution_count": 34,
   "id": "de8a3a60-c515-4551-bd42-e122b76674a8",
   "metadata": {
    "tags": []
   },
   "outputs": [
    {
     "name": "stdout",
     "output_type": "stream",
     "text": [
      "Model 1:\n",
      "Accuracy: 0.44630709426627796\n",
      "Hyperparameters: ('gini', None, None, 0.0, 1, 2)\n",
      "\n",
      "Model 2:\n",
      "Accuracy: 0.4399902818270165\n",
      "Hyperparameters: ('gini', None, None, 0.0, 1, 3)\n",
      "\n"
     ]
    },
    {
     "data": {
      "text/plain": [
       "'   \\nall_models =[]\\n    \\nfor i, (params, model) in enumerate(sorted_models[:2]):\\n   all_models.append(model)\\n\\nmodel = all_models[0]\\nmodel_2 = all_models[1]\\n'"
      ]
     },
     "execution_count": 34,
     "metadata": {},
     "output_type": "execute_result"
    }
   ],
   "source": [
    "params = hyperparameters\n",
    "sorted_results = (params, accuracy)                   \n",
    "sorted_models = (params, model)\n",
    "\n",
    "# Sort the results by accuracy in descending order\n",
    "sorted_results = sorted(results.items(), key=lambda x: x[1], reverse=True)\n",
    "sorted_models = sorted(models.items(), key=lambda x: x[1], reverse=True)\n",
    "\n",
    "# Print the top performing models\n",
    "for i, (params, accuracy) in enumerate(sorted_results[:2]):\n",
    "    print(f\"Model {i+1}:\")\n",
    "    print(f\"Accuracy: {accuracy}\")\n",
    "    print(f\"Hyperparameters: {params}\")\n",
    "    print()\n",
    "'''   \n",
    "all_models =[]\n",
    "    \n",
    "for i, (params, model) in enumerate(sorted_models[:2]):\n",
    "   all_models.append(model)\n",
    "\n",
    "model = all_models[0]\n",
    "model_2 = all_models[1]\n",
    "'''"
   ]
  },
  {
   "cell_type": "markdown",
   "id": "195c197b",
   "metadata": {},
   "source": [
    "the 80%, 10%, and 10% for training, validation and testing split is ideal choice for this project because it provides a solid foundation for training while ensuring that I have enough data to precisely evaluate and fine-tune the model when neceaary."
   ]
  },
  {
   "cell_type": "code",
   "execution_count": 35,
   "id": "951456cb-0c86-47fd-88bd-2e334ea92798",
   "metadata": {
    "tags": []
   },
   "outputs": [
    {
     "name": "stdout",
     "output_type": "stream",
     "text": [
      "Train Accuracy for model 1: 0.2790973150285506\n",
      "______________________________________________________________________________\n",
      "Val Accuracy for model 1: 0.2767922235722965\n",
      "\n",
      "\n",
      "\n",
      " ******************************************************************************\n",
      "Train Accuracy for model 2: 0.9999392540396064\n",
      "______________________________________________________________________________\n",
      "Val Accuracy for model 2: 0.4262454434993925\n"
     ]
    }
   ],
   "source": [
    " # Predict the labels\n",
    "train_pred = model.predict(x_train)\n",
    "val_pred = model.predict(x_val)\n",
    "   \n",
    "\n",
    "train_pred_2 = model_2.predict(x_train)\n",
    "val_pred_2 = model_2.predict(x_val)\n",
    "\n",
    "#best_model_train_pred = model.predict(x_train)\n",
    "#best_model_val_pred = model.predict(x_val)\n",
    "\n",
    " # Calculate accuracy\n",
    "accuracy_train = accuracy_score(y_train, train_pred)\n",
    "accuracy_val = accuracy_score(y_val, val_pred)\n",
    "\n",
    "\n",
    "print(f\"Train Accuracy for model 1: {accuracy_train}\")\n",
    "print(\"______________________________________________________________________________\")\n",
    "print(f\"Val Accuracy for model 1: {accuracy_val}\") \n",
    "\n",
    "\n",
    "\n",
    "print(\"\\n\\n\\n ******************************************************************************\")\n",
    " # Calculate accuracy\n",
    "accuracy_train = accuracy_score(y_train, train_pred_2)\n",
    "accuracy_val = accuracy_score(y_val, val_pred_2)\n",
    "\n",
    "\n",
    "print(f\"Train Accuracy for model 2: {accuracy_train}\")\n",
    "print(\"______________________________________________________________________________\")\n",
    "print(f\"Val Accuracy for model 2: {accuracy_val}\") "
   ]
  },
  {
   "cell_type": "code",
   "execution_count": 37,
   "id": "2a22595f-ec52-49bf-a4ca-745570f788c3",
   "metadata": {
    "tags": []
   },
   "outputs": [],
   "source": [
    "import warnings\n",
    "from sklearn.exceptions import UndefinedMetricWarning\n",
    "\n",
    "# Suppress specific warnings from scikit-learn\n",
    "warnings.filterwarnings(\"ignore\", category=UndefinedMetricWarning)\n"
   ]
  },
  {
   "cell_type": "code",
   "execution_count": 38,
   "id": "70cfc63a-8de5-462a-873f-b787b77f06d7",
   "metadata": {
    "tags": []
   },
   "outputs": [
    {
     "name": "stdout",
     "output_type": "stream",
     "text": [
      "Train Classification report for model 1:                     precision    recall  f1-score   support\n",
      "\n",
      "Extremely Negative       0.00      0.00      0.00      4407\n",
      "Extremely Positive       0.00      0.00      0.00      5291\n",
      "          Negative       0.00      0.00      0.00      7902\n",
      "           Neutral       0.00      0.00      0.00      6135\n",
      "          Positive       0.28      1.00      0.44      9189\n",
      "\n",
      "          accuracy                           0.28     32924\n",
      "         macro avg       0.06      0.20      0.09     32924\n",
      "      weighted avg       0.08      0.28      0.12     32924\n",
      "\n",
      "______________________________________________________________________________\n",
      "\n",
      "Val classification_report for model 1:                     precision    recall  f1-score   support\n",
      "\n",
      "Extremely Negative       0.00      0.00      0.00       525\n",
      "Extremely Positive       0.00      0.00      0.00       644\n",
      "          Negative       0.00      0.00      0.00      1021\n",
      "           Neutral       0.00      0.00      0.00       786\n",
      "          Positive       0.28      1.00      0.43      1139\n",
      "\n",
      "          accuracy                           0.28      4115\n",
      "         macro avg       0.06      0.20      0.09      4115\n",
      "      weighted avg       0.08      0.28      0.12      4115\n",
      "\n",
      "\n",
      "\n",
      "\n",
      " ******************************************************************************\n",
      "Train Classification report for model 2:                     precision    recall  f1-score   support\n",
      "\n",
      "Extremely Negative       1.00      1.00      1.00      4407\n",
      "Extremely Positive       1.00      1.00      1.00      5291\n",
      "          Negative       1.00      1.00      1.00      7902\n",
      "           Neutral       1.00      1.00      1.00      6135\n",
      "          Positive       1.00      1.00      1.00      9189\n",
      "\n",
      "          accuracy                           1.00     32924\n",
      "         macro avg       1.00      1.00      1.00     32924\n",
      "      weighted avg       1.00      1.00      1.00     32924\n",
      "\n",
      "______________________________________________________________________________\n",
      "\n",
      "Val classification_report for model 2:                     precision    recall  f1-score   support\n",
      "\n",
      "Extremely Negative       0.42      0.38      0.40       525\n",
      "Extremely Positive       0.44      0.42      0.43       644\n",
      "          Negative       0.39      0.36      0.38      1021\n",
      "           Neutral       0.48      0.56      0.52       786\n",
      "          Positive       0.41      0.42      0.41      1139\n",
      "\n",
      "          accuracy                           0.43      4115\n",
      "         macro avg       0.43      0.43      0.43      4115\n",
      "      weighted avg       0.42      0.43      0.42      4115\n",
      "\n"
     ]
    }
   ],
   "source": [
    "  # Calculate accuracy\n",
    "report_train = classification_report(y_train, train_pred)\n",
    "report_val = classification_report(y_val, val_pred)\n",
    "\n",
    "\n",
    "print(f\"Train Classification report for model 1: {report_train}\")\n",
    "print(\"______________________________________________________________________________\\n\")\n",
    "print(f\"Val classification_report for model 1: {report_val}\") \n",
    "\n",
    "\n",
    "\n",
    "\n",
    "print(\"\\n\\n\\n ******************************************************************************\")\n",
    "\n",
    "report_train = classification_report(y_train, train_pred_2)\n",
    "report_val = classification_report(y_val, val_pred_2)\n",
    "\n",
    "\n",
    "print(f\"Train Classification report for model 2: {report_train}\")\n",
    "print(\"______________________________________________________________________________\\n\")\n",
    "print(f\"Val classification_report for model 2: {report_val}\") "
   ]
  },
  {
   "cell_type": "code",
   "execution_count": 39,
   "id": "601ea014-6046-4529-97a8-37d677621845",
   "metadata": {
    "tags": []
   },
   "outputs": [
    {
     "name": "stdout",
     "output_type": "stream",
     "text": [
      "Train confusion_matrix for model 1:\n",
      " [[   0    0    0    0 4407]\n",
      " [   0    0    0    0 5291]\n",
      " [   0    0    0    0 7902]\n",
      " [   0    0    0    0 6135]\n",
      " [   0    0    0    0 9189]]\n",
      "______________________________________________________________________________\n",
      "\n",
      "Val confusion_matrix for model 1:\n",
      " [[   0    0    0    0  525]\n",
      " [   0    0    0    0  644]\n",
      " [   0    0    0    0 1021]\n",
      " [   0    0    0    0  786]\n",
      " [   0    0    0    0 1139]]\n",
      "\n",
      "\n",
      "\n",
      " ******************************************************************************\n",
      "Train confusion_matrix For model 2:\n",
      " [[4407    0    0    0    0]\n",
      " [   0 5291    0    0    0]\n",
      " [   1    0 7901    0    0]\n",
      " [   1    0    0 6134    0]\n",
      " [   0    0    0    0 9189]]\n",
      "______________________________________________________________________________\n",
      "\n",
      "Val confusion_matrix for model 2:\n",
      " [[199  24 174  47  81]\n",
      " [ 29 271  57  44 243]\n",
      " [153  87 372 198 211]\n",
      " [ 33  25 144 439 145]\n",
      " [ 63 211 204 188 473]]\n"
     ]
    }
   ],
   "source": [
    " # Calculate accuracy\n",
    "cf_train = confusion_matrix(y_train, train_pred)\n",
    "cf_val = confusion_matrix(y_val, val_pred)\n",
    "\n",
    "\n",
    "print(f\"Train confusion_matrix for model 1:\\n {cf_train}\")\n",
    "print(\"______________________________________________________________________________\\n\")\n",
    "print(f\"Val confusion_matrix for model 1:\\n {cf_val}\") \n",
    "\n",
    "\n",
    "\n",
    "\n",
    "print(\"\\n\\n\\n ******************************************************************************\")\n",
    "\n",
    "cf_train = confusion_matrix(y_train, train_pred_2)\n",
    "cf_val = confusion_matrix(y_val, val_pred_2)\n",
    "\n",
    "\n",
    "print(f\"Train confusion_matrix For model 2:\\n {cf_train}\")\n",
    "print(\"______________________________________________________________________________\\n\")\n",
    "print(f\"Val confusion_matrix for model 2:\\n {cf_val}\") \n",
    "\n",
    "\n"
   ]
  },
  {
   "cell_type": "code",
   "execution_count": 41,
   "id": "4ef28a77-9ba5-45c3-a2d2-ba30c829c618",
   "metadata": {
    "tags": []
   },
   "outputs": [
    {
     "name": "stdout",
     "output_type": "stream",
     "text": [
      "Classification Report - Training Data:\n",
      "______________________________________________________________________________\n",
      "\n",
      "                    precision    recall  f1-score   support\n",
      "\n",
      "Extremely Negative       1.00      1.00      1.00      4407\n",
      "Extremely Positive       1.00      1.00      1.00      5291\n",
      "          Negative       1.00      1.00      1.00      7902\n",
      "           Neutral       1.00      1.00      1.00      6135\n",
      "          Positive       1.00      1.00      1.00      9189\n",
      "\n",
      "          accuracy                           1.00     32924\n",
      "         macro avg       1.00      1.00      1.00     32924\n",
      "      weighted avg       1.00      1.00      1.00     32924\n",
      "\n",
      "Confusion Matrix - Training Data:\n",
      "______________________________________________________________________________\n",
      "\n",
      "[[4407    0    0    0    0]\n",
      " [   0 5291    0    0    0]\n",
      " [   1    0 7901    0    0]\n",
      " [   1    0    0 6134    0]\n",
      " [   0    0    0    0 9189]]\n",
      "\n",
      "\n",
      "\n",
      " ******************************************************************************\n",
      "\n",
      "Classification Report - Validation Data:\n",
      "                    precision    recall  f1-score   support\n",
      "\n",
      "Extremely Negative       0.42      0.38      0.40       525\n",
      "Extremely Positive       0.44      0.42      0.43       644\n",
      "          Negative       0.39      0.36      0.38      1021\n",
      "           Neutral       0.48      0.56      0.52       786\n",
      "          Positive       0.41      0.42      0.41      1139\n",
      "\n",
      "          accuracy                           0.43      4115\n",
      "         macro avg       0.43      0.43      0.43      4115\n",
      "      weighted avg       0.42      0.43      0.42      4115\n",
      "\n",
      "Confusion Matrix - Validation Data:\n",
      "[[199  24 174  47  81]\n",
      " [ 29 271  57  44 243]\n",
      " [153  87 372 198 211]\n",
      " [ 33  25 144 439 145]\n",
      " [ 63 211 204 188 473]]\n"
     ]
    }
   ],
   "source": [
    "# Train the best decision tree model (model_2)\n",
    "best_model = model_2.fit(x_train, y_train)\n",
    "\n",
    "# Generate predictions on the training and validation data\n",
    "train_predictions = best_model.predict(x_train)\n",
    "val_predictions = best_model.predict(x_val)\n",
    "\n",
    "# Display classification report and confusion matrix for training data\n",
    "print(\"Classification Report - Training Data:\")\n",
    "print(\"______________________________________________________________________________\\n\")\n",
    "print(classification_report(y_train, train_predictions))\n",
    "print(\"Confusion Matrix - Training Data:\")\n",
    "print(\"______________________________________________________________________________\\n\")\n",
    "print(confusion_matrix(y_train, train_predictions))\n",
    "\n",
    "print(\"\\n\\n\\n ******************************************************************************\")\n",
    "\n",
    "# Display classification report and confusion matrix for validation data\n",
    "print(\"\\nClassification Report - Validation Data:\")\n",
    "(\"______________________________________________________________________________\\n\")\n",
    "print(classification_report(y_val, val_predictions))\n",
    "(\"______________________________________________________________________________\\n\")\n",
    "print(\"Confusion Matrix - Validation Data:\")\n",
    "(\"______________________________________________________________________________\\n\")\n",
    "print(confusion_matrix(y_val, val_predictions))\n",
    "\n"
   ]
  },
  {
   "cell_type": "markdown",
   "id": "bd1e9a74-1981-4f7e-8b35-d69f4d23a5e4",
   "metadata": {
    "tags": []
   },
   "source": [
    "# Display the decision tree\n",
    "display_tree(best_model)\n",
    "    \n"
   ]
  },
  {
   "cell_type": "markdown",
   "id": "a503a9da-98cb-4369-87ae-cb741f34dc37",
   "metadata": {},
   "source": [
    "Model 2 outperforms moddel 1 on both training and validation sets, the metrics shows that model 2 was consistent and performed better across all classes thereby showcasing predictive power over model 1, In consideration of the classification metrics and accuracy as provided, Model 2's higher accuarcy and performance on the validation set sugguests that is more robust and reliable for making predictions on unseen data. "
   ]
  }
 ],
 "metadata": {
  "kernelspec": {
   "display_name": "Python 3 (ipykernel)",
   "language": "python",
   "name": "python3"
  },
  "language_info": {
   "codemirror_mode": {
    "name": "ipython",
    "version": 3
   },
   "file_extension": ".py",
   "mimetype": "text/x-python",
   "name": "python",
   "nbconvert_exporter": "python",
   "pygments_lexer": "ipython3",
   "version": "3.11.5"
  }
 },
 "nbformat": 4,
 "nbformat_minor": 5
}
