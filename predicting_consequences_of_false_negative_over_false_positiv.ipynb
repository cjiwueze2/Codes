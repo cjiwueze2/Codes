{
 "cells": [
  {
   "cell_type": "markdown",
   "id": "b9fd543b-fa67-4a45-889f-6ea74298eb86",
   "metadata": {},
   "source": [
    "## Objective"
   ]
  },
  {
   "cell_type": "markdown",
   "id": "14808baf-a944-47d7-810a-f5e0fbb17a82",
   "metadata": {},
   "source": [
    "In this scenario, the consequences of false negatives outweigh those of false positives. Overlooking positive reviews could lead to missed insights and growth opportunities, making false negatives more harmful. Therefore, a suitable value of β for the Fβ score, such as β = 2, emphasizes high recall, ensuring positive sentiments are adequately captured."
   ]
  },
  {
   "cell_type": "code",
   "execution_count": 305,
   "id": "45df6bd2-e74e-41ca-af04-20a03f671147",
   "metadata": {},
   "outputs": [],
   "source": [
    "import re\n",
    "import turicreate as tc\n",
    "import matplotlib.pyplot as plt"
   ]
  },
  {
   "cell_type": "markdown",
   "id": "b99dba3f-1617-49f4-bcb2-db5cc7706912",
   "metadata": {},
   "source": [
    "#### Question 2"
   ]
  },
  {
   "cell_type": "code",
   "execution_count": 306,
   "id": "8313ac12-6e2e-4169-b00b-65509d1a4e75",
   "metadata": {},
   "outputs": [],
   "source": [
    "# make a list of stopwords (this list is too short)\n",
    "stopwords = ['the', 'and']"
   ]
  },
  {
   "cell_type": "code",
   "execution_count": 307,
   "id": "10cb89ab-d8e1-472a-b337-fe16539e87ee",
   "metadata": {},
   "outputs": [],
   "source": [
    "# Function cleans a single review.\n",
    "def clean_text(reivew):\n",
    "\n",
    "    # remove html tags\n",
    "    reivew = re.sub('<.{1,4}>', '', reivew)\n",
    "    \n",
    "    # remove punctuation reivew\n",
    "    reivew = re.sub('[^\\w^\\s\\n]', ' ', reivew)\n",
    "    \n",
    "    # remove numbers\n",
    "    reivew = re.sub(\"\\d\", \"\", reivew)\n",
    "    \n",
    "    # make everything lowercase\n",
    "    reivew = reivew.lower()\n",
    "    \n",
    "    # remove words with one to two characters\n",
    "    reivew = re.sub('\\\\b\\w{1,2}\\\\b', '', reivew)\n",
    "    \n",
    "    #remove stopwords\n",
    "    for word in stopwords:\n",
    "        reivew = re.sub('\\\\b' + word + '\\\\b', '', reivew)\n",
    "    \n",
    "    return reivew"
   ]
  },
  {
   "cell_type": "code",
   "execution_count": 308,
   "id": "25ae78a7-02ef-426c-a476-c5d2021807ac",
   "metadata": {},
   "outputs": [
    {
     "data": {
      "text/html": [
       "<pre>Finished parsing file /home/wma2/SupervisedML/Assignment 4/IMDB_Dataset.csv</pre>"
      ],
      "text/plain": [
       "Finished parsing file /home/wma2/SupervisedML/Assignment 4/IMDB_Dataset.csv"
      ]
     },
     "metadata": {},
     "output_type": "display_data"
    },
    {
     "data": {
      "text/html": [
       "<pre>Parsing completed. Parsed 100 lines in 0.365338 secs.</pre>"
      ],
      "text/plain": [
       "Parsing completed. Parsed 100 lines in 0.365338 secs."
      ]
     },
     "metadata": {},
     "output_type": "display_data"
    },
    {
     "name": "stdout",
     "output_type": "stream",
     "text": [
      "------------------------------------------------------\n",
      "Inferred types from first 100 line(s) of file as \n",
      "column_type_hints=[str,str]\n",
      "If parsing fails due to incorrect types, you can correct\n",
      "the inferred type list above and pass it to read_csv in\n",
      "the column_type_hints argument\n",
      "------------------------------------------------------\n"
     ]
    },
    {
     "data": {
      "text/html": [
       "<pre>Read 39624 lines. Lines per second: 53781</pre>"
      ],
      "text/plain": [
       "Read 39624 lines. Lines per second: 53781"
      ]
     },
     "metadata": {},
     "output_type": "display_data"
    },
    {
     "data": {
      "text/html": [
       "<pre>Finished parsing file /home/wma2/SupervisedML/Assignment 4/IMDB_Dataset.csv</pre>"
      ],
      "text/plain": [
       "Finished parsing file /home/wma2/SupervisedML/Assignment 4/IMDB_Dataset.csv"
      ]
     },
     "metadata": {},
     "output_type": "display_data"
    },
    {
     "data": {
      "text/html": [
       "<pre>Parsing completed. Parsed 50000 lines in 0.851158 secs.</pre>"
      ],
      "text/plain": [
       "Parsing completed. Parsed 50000 lines in 0.851158 secs."
      ]
     },
     "metadata": {},
     "output_type": "display_data"
    }
   ],
   "source": [
    "# Load the csv to dataframe\n",
    "df = tc.SFrame('IMDB_Dataset.csv')"
   ]
  },
  {
   "cell_type": "code",
   "execution_count": null,
   "id": "3b3b7686",
   "metadata": {},
   "outputs": [],
   "source": []
  },
  {
   "cell_type": "raw",
   "id": "e453da94",
   "metadata": {},
   "source": [
    "df"
   ]
  },
  {
   "cell_type": "code",
   "execution_count": 310,
   "id": "735dd49d-b95c-42a8-9ce6-43b862800c62",
   "metadata": {},
   "outputs": [],
   "source": [
    "# applying the clean_text() function to each row of the SFrame and \n",
    "# replace the 'cleaned' data to the dataframe review column\n",
    "df['review'] = df.apply(lambda x: clean_text(x['review']))"
   ]
  },
  {
   "cell_type": "markdown",
   "id": "95506ab0-0239-4b7f-809f-a3913be3ec8c",
   "metadata": {},
   "source": [
    "#### Question 3"
   ]
  },
  {
   "cell_type": "code",
   "execution_count": 311,
   "id": "faa94635-b2d3-4143-94b0-4b8e122fed66",
   "metadata": {},
   "outputs": [
    {
     "data": {
      "text/html": [
       "<div style=\"max-height:1000px;max-width:1500px;overflow:auto;\"><table frame=\"box\" rules=\"cols\">\n",
       "    <tr>\n",
       "        <th style=\"padding-left: 1em; padding-right: 1em; text-align: center\">review</th>\n",
       "        <th style=\"padding-left: 1em; padding-right: 1em; text-align: center\">sentiment</th>\n",
       "    </tr>\n",
       "    <tr>\n",
       "        <td style=\"padding-left: 1em; padding-right: 1em; text-align: center; vertical-align: top\">one   other reviewers has<br>mentioned that after ...</td>\n",
       "        <td style=\"padding-left: 1em; padding-right: 1em; text-align: center; vertical-align: top\">positive</td>\n",
       "    </tr>\n",
       "    <tr>\n",
       "        <td style=\"padding-left: 1em; padding-right: 1em; text-align: center; vertical-align: top\"> wonderful little<br>production   filming ...</td>\n",
       "        <td style=\"padding-left: 1em; padding-right: 1em; text-align: center; vertical-align: top\">positive</td>\n",
       "    </tr>\n",
       "    <tr>\n",
       "        <td style=\"padding-left: 1em; padding-right: 1em; text-align: center; vertical-align: top\"> thought this was<br>wonderful way  spend  ...</td>\n",
       "        <td style=\"padding-left: 1em; padding-right: 1em; text-align: center; vertical-align: top\">positive</td>\n",
       "    </tr>\n",
       "    <tr>\n",
       "        <td style=\"padding-left: 1em; padding-right: 1em; text-align: center; vertical-align: top\">basically there   family<br>where  little boy  jake ...</td>\n",
       "        <td style=\"padding-left: 1em; padding-right: 1em; text-align: center; vertical-align: top\">negative</td>\n",
       "    </tr>\n",
       "    <tr>\n",
       "        <td style=\"padding-left: 1em; padding-right: 1em; text-align: center; vertical-align: top\">petter mattei   love<br>time  money    visually ...</td>\n",
       "        <td style=\"padding-left: 1em; padding-right: 1em; text-align: center; vertical-align: top\">positive</td>\n",
       "    </tr>\n",
       "    <tr>\n",
       "        <td style=\"padding-left: 1em; padding-right: 1em; text-align: center; vertical-align: top\">probably  all time<br>favorite movie   story ...</td>\n",
       "        <td style=\"padding-left: 1em; padding-right: 1em; text-align: center; vertical-align: top\">positive</td>\n",
       "    </tr>\n",
       "    <tr>\n",
       "        <td style=\"padding-left: 1em; padding-right: 1em; text-align: center; vertical-align: top\"> sure would like  see<br>resurrection    dated ...</td>\n",
       "        <td style=\"padding-left: 1em; padding-right: 1em; text-align: center; vertical-align: top\">positive</td>\n",
       "    </tr>\n",
       "    <tr>\n",
       "        <td style=\"padding-left: 1em; padding-right: 1em; text-align: center; vertical-align: top\">this show was  amazing<br>fresh   innovative idea ...</td>\n",
       "        <td style=\"padding-left: 1em; padding-right: 1em; text-align: center; vertical-align: top\">negative</td>\n",
       "    </tr>\n",
       "    <tr>\n",
       "        <td style=\"padding-left: 1em; padding-right: 1em; text-align: center; vertical-align: top\">encouraged   positive<br>comments about this film ...</td>\n",
       "        <td style=\"padding-left: 1em; padding-right: 1em; text-align: center; vertical-align: top\">negative</td>\n",
       "    </tr>\n",
       "    <tr>\n",
       "        <td style=\"padding-left: 1em; padding-right: 1em; text-align: center; vertical-align: top\"> you like original gut<br>wrenching laughter you ...</td>\n",
       "        <td style=\"padding-left: 1em; padding-right: 1em; text-align: center; vertical-align: top\">positive</td>\n",
       "    </tr>\n",
       "</table>\n",
       "[50000 rows x 2 columns]<br/>Note: Only the head of the SFrame is printed.<br/>You can use print_rows(num_rows=m, num_columns=n) to print more rows and columns.\n",
       "</div>"
      ],
      "text/plain": [
       "Columns:\n",
       "\treview\tstr\n",
       "\tsentiment\tstr\n",
       "\n",
       "Rows: 50000\n",
       "\n",
       "Data:\n",
       "+-------------------------------+-----------+\n",
       "|             review            | sentiment |\n",
       "+-------------------------------+-----------+\n",
       "| one   other reviewers has ... |  positive |\n",
       "|  wonderful little producti... |  positive |\n",
       "|  thought this was  wonderf... |  positive |\n",
       "| basically there   family w... |  negative |\n",
       "| petter mattei   love   tim... |  positive |\n",
       "| probably  all time favorit... |  positive |\n",
       "|  sure would like  see  res... |  positive |\n",
       "| this show was  amazing  fr... |  negative |\n",
       "| encouraged   positive comm... |  negative |\n",
       "|  you like original gut wre... |  positive |\n",
       "+-------------------------------+-----------+\n",
       "[50000 rows x 2 columns]\n",
       "Note: Only the head of the SFrame is printed.\n",
       "You can use print_rows(num_rows=m, num_columns=n) to print more rows and columns."
      ]
     },
     "execution_count": 311,
     "metadata": {},
     "output_type": "execute_result"
    }
   ],
   "source": [
    "df"
   ]
  },
  {
   "cell_type": "code",
   "execution_count": 312,
   "id": "817803cf-5fab-4e46-bfef-24c982807345",
   "metadata": {},
   "outputs": [],
   "source": [
    "# counting words and adding word-count dictionary to SFrame\n",
    "df['words'] = tc.text_analytics.count_words(df['review'])"
   ]
  },
  {
   "cell_type": "code",
   "execution_count": 313,
   "id": "e491a928-99c7-4d33-b326-23570bc47dff",
   "metadata": {},
   "outputs": [
    {
     "data": {
      "text/html": [
       "<div style=\"max-height:1000px;max-width:1500px;overflow:auto;\"><table frame=\"box\" rules=\"cols\">\n",
       "    <tr>\n",
       "        <th style=\"padding-left: 1em; padding-right: 1em; text-align: center\">review</th>\n",
       "        <th style=\"padding-left: 1em; padding-right: 1em; text-align: center\">sentiment</th>\n",
       "        <th style=\"padding-left: 1em; padding-right: 1em; text-align: center\">words</th>\n",
       "    </tr>\n",
       "    <tr>\n",
       "        <td style=\"padding-left: 1em; padding-right: 1em; text-align: center; vertical-align: top\">one   other reviewers has<br>mentioned that after ...</td>\n",
       "        <td style=\"padding-left: 1em; padding-right: 1em; text-align: center; vertical-align: top\">positive</td>\n",
       "        <td style=\"padding-left: 1em; padding-right: 1em; text-align: center; vertical-align: top\">{&#x27;darker&#x27;: 1.0, &#x27;touch&#x27;:<br>1.0, &#x27;thats&#x27;: 1.0, ...</td>\n",
       "    </tr>\n",
       "    <tr>\n",
       "        <td style=\"padding-left: 1em; padding-right: 1em; text-align: center; vertical-align: top\"> wonderful little<br>production   filming ...</td>\n",
       "        <td style=\"padding-left: 1em; padding-right: 1em; text-align: center; vertical-align: top\">positive</td>\n",
       "        <td style=\"padding-left: 1em; padding-right: 1em; text-align: center; vertical-align: top\">{&#x27;terribly&#x27;: 1.0,<br>&#x27;surface&#x27;: 1.0, ...</td>\n",
       "    </tr>\n",
       "    <tr>\n",
       "        <td style=\"padding-left: 1em; padding-right: 1em; text-align: center; vertical-align: top\"> thought this was<br>wonderful way  spend  ...</td>\n",
       "        <td style=\"padding-left: 1em; padding-right: 1em; text-align: center; vertical-align: top\">positive</td>\n",
       "        <td style=\"padding-left: 1em; padding-right: 1em; text-align: center; vertical-align: top\">{&#x27;great&#x27;: 1.0, &#x27;see&#x27;:<br>1.0, &#x27;risk&#x27;: 1.0, ...</td>\n",
       "    </tr>\n",
       "    <tr>\n",
       "        <td style=\"padding-left: 1em; padding-right: 1em; text-align: center; vertical-align: top\">basically there   family<br>where  little boy  jake ...</td>\n",
       "        <td style=\"padding-left: 1em; padding-right: 1em; text-align: center; vertical-align: top\">negative</td>\n",
       "        <td style=\"padding-left: 1em; padding-right: 1em; text-align: center; vertical-align: top\">{&#x27;them&#x27;: 1.0, &#x27;ignore&#x27;:<br>1.0, &#x27;dialogs&#x27;: 1.0, ...</td>\n",
       "    </tr>\n",
       "    <tr>\n",
       "        <td style=\"padding-left: 1em; padding-right: 1em; text-align: center; vertical-align: top\">petter mattei   love<br>time  money    visually ...</td>\n",
       "        <td style=\"padding-left: 1em; padding-right: 1em; text-align: center; vertical-align: top\">positive</td>\n",
       "        <td style=\"padding-left: 1em; padding-right: 1em; text-align: center; vertical-align: top\">{&#x27;work&#x27;: 1.0, &#x27;for&#x27;: 1.0,<br>&#x27;anxiously&#x27;: 1.0, ...</td>\n",
       "    </tr>\n",
       "    <tr>\n",
       "        <td style=\"padding-left: 1em; padding-right: 1em; text-align: center; vertical-align: top\">probably  all time<br>favorite movie   story ...</td>\n",
       "        <td style=\"padding-left: 1em; padding-right: 1em; text-align: center; vertical-align: top\">positive</td>\n",
       "        <td style=\"padding-left: 1em; padding-right: 1em; text-align: center; vertical-align: top\">{&#x27;for&#x27;: 1.0, &#x27;dozen&#x27;:<br>1.0, &#x27;startling&#x27;: 1.0, ...</td>\n",
       "    </tr>\n",
       "    <tr>\n",
       "        <td style=\"padding-left: 1em; padding-right: 1em; text-align: center; vertical-align: top\"> sure would like  see<br>resurrection    dated ...</td>\n",
       "        <td style=\"padding-left: 1em; padding-right: 1em; text-align: center; vertical-align: top\">positive</td>\n",
       "        <td style=\"padding-left: 1em; padding-right: 1em; text-align: center; vertical-align: top\">{&#x27;then&#x27;: 1.0, &#x27;doubt&#x27;:<br>1.0, &#x27;out&#x27;: 1.0, &#x27;lin ...</td>\n",
       "    </tr>\n",
       "    <tr>\n",
       "        <td style=\"padding-left: 1em; padding-right: 1em; text-align: center; vertical-align: top\">this show was  amazing<br>fresh   innovative idea ...</td>\n",
       "        <td style=\"padding-left: 1em; padding-right: 1em; text-align: center; vertical-align: top\">negative</td>\n",
       "        <td style=\"padding-left: 1em; padding-right: 1em; text-align: center; vertical-align: top\">{&#x27;awful&#x27;: 1.0, &#x27;just&#x27;:<br>1.0, &#x27;now&#x27;: 1.0, ...</td>\n",
       "    </tr>\n",
       "    <tr>\n",
       "        <td style=\"padding-left: 1em; padding-right: 1em; text-align: center; vertical-align: top\">encouraged   positive<br>comments about this film ...</td>\n",
       "        <td style=\"padding-left: 1em; padding-right: 1em; text-align: center; vertical-align: top\">negative</td>\n",
       "        <td style=\"padding-left: 1em; padding-right: 1em; text-align: center; vertical-align: top\">{&#x27;obsessives&#x27;: 1.0,<br>&#x27;effort&#x27;: 1.0, &#x27;bit&#x27;: ...</td>\n",
       "    </tr>\n",
       "    <tr>\n",
       "        <td style=\"padding-left: 1em; padding-right: 1em; text-align: center; vertical-align: top\"> you like original gut<br>wrenching laughter you ...</td>\n",
       "        <td style=\"padding-left: 1em; padding-right: 1em; text-align: center; vertical-align: top\">positive</td>\n",
       "        <td style=\"padding-left: 1em; padding-right: 1em; text-align: center; vertical-align: top\">{&#x27;mom&#x27;: 1.0, &#x27;hell&#x27;: 1.0,<br>&#x27;great&#x27;: 1.0, &#x27;love&#x27;: ...</td>\n",
       "    </tr>\n",
       "</table>\n",
       "[50000 rows x 3 columns]<br/>Note: Only the head of the SFrame is printed.<br/>You can use print_rows(num_rows=m, num_columns=n) to print more rows and columns.\n",
       "</div>"
      ],
      "text/plain": [
       "Columns:\n",
       "\treview\tstr\n",
       "\tsentiment\tstr\n",
       "\twords\tdict\n",
       "\n",
       "Rows: 50000\n",
       "\n",
       "Data:\n",
       "+-------------------------------+-----------+-------------------------------+\n",
       "|             review            | sentiment |             words             |\n",
       "+-------------------------------+-----------+-------------------------------+\n",
       "| one   other reviewers has ... |  positive | {'darker': 1.0, 'touch': 1... |\n",
       "|  wonderful little producti... |  positive | {'terribly': 1.0, 'surface... |\n",
       "|  thought this was  wonderf... |  positive | {'great': 1.0, 'see': 1.0,... |\n",
       "| basically there   family w... |  negative | {'them': 1.0, 'ignore': 1.... |\n",
       "| petter mattei   love   tim... |  positive | {'work': 1.0, 'for': 1.0, ... |\n",
       "| probably  all time favorit... |  positive | {'for': 1.0, 'dozen': 1.0,... |\n",
       "|  sure would like  see  res... |  positive | {'then': 1.0, 'doubt': 1.0... |\n",
       "| this show was  amazing  fr... |  negative | {'awful': 1.0, 'just': 1.0... |\n",
       "| encouraged   positive comm... |  negative | {'obsessives': 1.0, 'effor... |\n",
       "|  you like original gut wre... |  positive | {'mom': 1.0, 'hell': 1.0, ... |\n",
       "+-------------------------------+-----------+-------------------------------+\n",
       "[50000 rows x 3 columns]\n",
       "Note: Only the head of the SFrame is printed.\n",
       "You can use print_rows(num_rows=m, num_columns=n) to print more rows and columns."
      ]
     },
     "execution_count": 313,
     "metadata": {},
     "output_type": "execute_result"
    }
   ],
   "source": [
    "# Output the updated SFrame\n",
    "df"
   ]
  },
  {
   "cell_type": "markdown",
   "id": "24bbc7c2-ca35-4aca-b4ec-1459b114ef99",
   "metadata": {},
   "source": [
    "#### Question 4"
   ]
  },
  {
   "cell_type": "code",
   "execution_count": 314,
   "id": "7e7043e6-beb2-4236-8212-cd094b4f59d1",
   "metadata": {},
   "outputs": [],
   "source": [
    "#Splitting data into training, validation & Testing set\n",
    "# 80% Training 10% Validation and 10% Testing\n",
    "train, validate = df.random_split(0.8, seed=0, exact=True)\n",
    "validate, test = validate.random_split(0.5, seed=0, exact=True)"
   ]
  },
  {
   "cell_type": "code",
   "execution_count": 315,
   "id": "3fd22254-8fd0-438d-8f5c-325ecd474577",
   "metadata": {},
   "outputs": [
    {
     "name": "stdout",
     "output_type": "stream",
     "text": [
      "Training data rows:  40000\n",
      "Validation data rows:  5000\n",
      "Testing data rows:  5000\n"
     ]
    }
   ],
   "source": [
    "# Display Results\n",
    "print(\"Training data rows: \", train.num_rows())\n",
    "print(\"Validation data rows: \", validate.num_rows())\n",
    "print(\"Testing data rows: \", test.num_rows())"
   ]
  },
  {
   "cell_type": "markdown",
   "id": "ea17c441-ce49-4c1a-ad0c-29d02b31b1d0",
   "metadata": {},
   "source": [
    "#### Question 5"
   ]
  },
  {
   "cell_type": "code",
   "execution_count": 316,
   "id": "448dee1b-09ee-4c46-a220-14783eb02a1b",
   "metadata": {},
   "outputs": [
    {
     "data": {
      "text/html": [
       "<pre>Logistic regression:</pre>"
      ],
      "text/plain": [
       "Logistic regression:"
      ]
     },
     "metadata": {},
     "output_type": "display_data"
    },
    {
     "data": {
      "text/html": [
       "<pre>--------------------------------------------------------</pre>"
      ],
      "text/plain": [
       "--------------------------------------------------------"
      ]
     },
     "metadata": {},
     "output_type": "display_data"
    },
    {
     "data": {
      "text/html": [
       "<pre>Number of examples          : 40000</pre>"
      ],
      "text/plain": [
       "Number of examples          : 40000"
      ]
     },
     "metadata": {},
     "output_type": "display_data"
    },
    {
     "data": {
      "text/html": [
       "<pre>Number of classes           : 2</pre>"
      ],
      "text/plain": [
       "Number of classes           : 2"
      ]
     },
     "metadata": {},
     "output_type": "display_data"
    },
    {
     "data": {
      "text/html": [
       "<pre>Number of feature columns   : 1</pre>"
      ],
      "text/plain": [
       "Number of feature columns   : 1"
      ]
     },
     "metadata": {},
     "output_type": "display_data"
    },
    {
     "data": {
      "text/html": [
       "<pre>Number of unpacked features : 93236</pre>"
      ],
      "text/plain": [
       "Number of unpacked features : 93236"
      ]
     },
     "metadata": {},
     "output_type": "display_data"
    },
    {
     "data": {
      "text/html": [
       "<pre>Number of coefficients      : 93237</pre>"
      ],
      "text/plain": [
       "Number of coefficients      : 93237"
      ]
     },
     "metadata": {},
     "output_type": "display_data"
    },
    {
     "data": {
      "text/html": [
       "<pre>Starting L-BFGS</pre>"
      ],
      "text/plain": [
       "Starting L-BFGS"
      ]
     },
     "metadata": {},
     "output_type": "display_data"
    },
    {
     "data": {
      "text/html": [
       "<pre>--------------------------------------------------------</pre>"
      ],
      "text/plain": [
       "--------------------------------------------------------"
      ]
     },
     "metadata": {},
     "output_type": "display_data"
    },
    {
     "data": {
      "text/html": [
       "<pre>+-----------+----------+-----------+--------------+-------------------+---------------------+</pre>"
      ],
      "text/plain": [
       "+-----------+----------+-----------+--------------+-------------------+---------------------+"
      ]
     },
     "metadata": {},
     "output_type": "display_data"
    },
    {
     "data": {
      "text/html": [
       "<pre>| Iteration | Passes   | Step size | Elapsed Time | Training Accuracy | Validation Accuracy |</pre>"
      ],
      "text/plain": [
       "| Iteration | Passes   | Step size | Elapsed Time | Training Accuracy | Validation Accuracy |"
      ]
     },
     "metadata": {},
     "output_type": "display_data"
    },
    {
     "data": {
      "text/html": [
       "<pre>+-----------+----------+-----------+--------------+-------------------+---------------------+</pre>"
      ],
      "text/plain": [
       "+-----------+----------+-----------+--------------+-------------------+---------------------+"
      ]
     },
     "metadata": {},
     "output_type": "display_data"
    },
    {
     "data": {
      "text/html": [
       "<pre>| 0         | 2        | 1.000000  | 0.096170     | 0.923825          | 0.855800            |</pre>"
      ],
      "text/plain": [
       "| 0         | 2        | 1.000000  | 0.096170     | 0.923825          | 0.855800            |"
      ]
     },
     "metadata": {},
     "output_type": "display_data"
    },
    {
     "data": {
      "text/html": [
       "<pre>| 1         | 4        | 1.000000  | 0.221748     | 0.942300          | 0.845800            |</pre>"
      ],
      "text/plain": [
       "| 1         | 4        | 1.000000  | 0.221748     | 0.942300          | 0.845800            |"
      ]
     },
     "metadata": {},
     "output_type": "display_data"
    },
    {
     "data": {
      "text/html": [
       "<pre>| 2         | 6        | 0.793056  | 0.339807     | 0.972700          | 0.880000            |</pre>"
      ],
      "text/plain": [
       "| 2         | 6        | 0.793056  | 0.339807     | 0.972700          | 0.880000            |"
      ]
     },
     "metadata": {},
     "output_type": "display_data"
    },
    {
     "data": {
      "text/html": [
       "<pre>| 3         | 7        | 0.991320  | 0.419125     | 0.981825          | 0.887000            |</pre>"
      ],
      "text/plain": [
       "| 3         | 7        | 0.991320  | 0.419125     | 0.981825          | 0.887000            |"
      ]
     },
     "metadata": {},
     "output_type": "display_data"
    },
    {
     "data": {
      "text/html": [
       "<pre>| 4         | 8        | 1.000000  | 0.499016     | 0.988825          | 0.889600            |</pre>"
      ],
      "text/plain": [
       "| 4         | 8        | 1.000000  | 0.499016     | 0.988825          | 0.889600            |"
      ]
     },
     "metadata": {},
     "output_type": "display_data"
    },
    {
     "data": {
      "text/html": [
       "<pre>| 9         | 13       | 1.000000  | 0.908695     | 0.999675          | 0.863600            |</pre>"
      ],
      "text/plain": [
       "| 9         | 13       | 1.000000  | 0.908695     | 0.999675          | 0.863600            |"
      ]
     },
     "metadata": {},
     "output_type": "display_data"
    },
    {
     "data": {
      "text/html": [
       "<pre>+-----------+----------+-----------+--------------+-------------------+---------------------+</pre>"
      ],
      "text/plain": [
       "+-----------+----------+-----------+--------------+-------------------+---------------------+"
      ]
     },
     "metadata": {},
     "output_type": "display_data"
    }
   ],
   "source": [
    "# applied perceptron model to train model_1 dataset\n",
    "perceptron_model_1 = tc.logistic_classifier.create(train, target='sentiment', features=['words'], validation_set=validate)\n"
   ]
  },
  {
   "cell_type": "code",
   "execution_count": 317,
   "id": "1be4fe10-3013-4898-9675-63ec8cef4f1b",
   "metadata": {},
   "outputs": [
    {
     "data": {
      "text/html": [
       "<pre>Logistic regression:</pre>"
      ],
      "text/plain": [
       "Logistic regression:"
      ]
     },
     "metadata": {},
     "output_type": "display_data"
    },
    {
     "data": {
      "text/html": [
       "<pre>--------------------------------------------------------</pre>"
      ],
      "text/plain": [
       "--------------------------------------------------------"
      ]
     },
     "metadata": {},
     "output_type": "display_data"
    },
    {
     "data": {
      "text/html": [
       "<pre>Number of examples          : 40000</pre>"
      ],
      "text/plain": [
       "Number of examples          : 40000"
      ]
     },
     "metadata": {},
     "output_type": "display_data"
    },
    {
     "data": {
      "text/html": [
       "<pre>Number of classes           : 2</pre>"
      ],
      "text/plain": [
       "Number of classes           : 2"
      ]
     },
     "metadata": {},
     "output_type": "display_data"
    },
    {
     "data": {
      "text/html": [
       "<pre>Number of feature columns   : 1</pre>"
      ],
      "text/plain": [
       "Number of feature columns   : 1"
      ]
     },
     "metadata": {},
     "output_type": "display_data"
    },
    {
     "data": {
      "text/html": [
       "<pre>Number of unpacked features : 93236</pre>"
      ],
      "text/plain": [
       "Number of unpacked features : 93236"
      ]
     },
     "metadata": {},
     "output_type": "display_data"
    },
    {
     "data": {
      "text/html": [
       "<pre>Number of coefficients      : 93237</pre>"
      ],
      "text/plain": [
       "Number of coefficients      : 93237"
      ]
     },
     "metadata": {},
     "output_type": "display_data"
    },
    {
     "data": {
      "text/html": [
       "<pre>Starting Accelerated Gradient (FISTA)</pre>"
      ],
      "text/plain": [
       "Starting Accelerated Gradient (FISTA)"
      ]
     },
     "metadata": {},
     "output_type": "display_data"
    },
    {
     "data": {
      "text/html": [
       "<pre>--------------------------------------------------------</pre>"
      ],
      "text/plain": [
       "--------------------------------------------------------"
      ]
     },
     "metadata": {},
     "output_type": "display_data"
    },
    {
     "data": {
      "text/html": [
       "<pre>Tuning step size. First iteration could take longer than subsequent iterations.</pre>"
      ],
      "text/plain": [
       "Tuning step size. First iteration could take longer than subsequent iterations."
      ]
     },
     "metadata": {},
     "output_type": "display_data"
    },
    {
     "data": {
      "text/html": [
       "<pre>+-----------+----------+-----------+--------------+-------------------+---------------------+</pre>"
      ],
      "text/plain": [
       "+-----------+----------+-----------+--------------+-------------------+---------------------+"
      ]
     },
     "metadata": {},
     "output_type": "display_data"
    },
    {
     "data": {
      "text/html": [
       "<pre>| Iteration | Passes   | Step size | Elapsed Time | Training Accuracy | Validation Accuracy |</pre>"
      ],
      "text/plain": [
       "| Iteration | Passes   | Step size | Elapsed Time | Training Accuracy | Validation Accuracy |"
      ]
     },
     "metadata": {},
     "output_type": "display_data"
    },
    {
     "data": {
      "text/html": [
       "<pre>+-----------+----------+-----------+--------------+-------------------+---------------------+</pre>"
      ],
      "text/plain": [
       "+-----------+----------+-----------+--------------+-------------------+---------------------+"
      ]
     },
     "metadata": {},
     "output_type": "display_data"
    },
    {
     "data": {
      "text/html": [
       "<pre>| 0         | 1        | 1.000000  | 0.051489     | 0.498125          | 0.503800            |</pre>"
      ],
      "text/plain": [
       "| 0         | 1        | 1.000000  | 0.051489     | 0.498125          | 0.503800            |"
      ]
     },
     "metadata": {},
     "output_type": "display_data"
    },
    {
     "data": {
      "text/html": [
       "<pre>| 1         | 2        | 0.000008  | 1.409271     | 0.923800          | 0.855800            |</pre>"
      ],
      "text/plain": [
       "| 1         | 2        | 0.000008  | 1.409271     | 0.923800          | 0.855800            |"
      ]
     },
     "metadata": {},
     "output_type": "display_data"
    },
    {
     "data": {
      "text/html": [
       "<pre>| 2         | 3        | 0.000008  | 1.525625     | 0.962425          | 0.879800            |</pre>"
      ],
      "text/plain": [
       "| 2         | 3        | 0.000008  | 1.525625     | 0.962425          | 0.879800            |"
      ]
     },
     "metadata": {},
     "output_type": "display_data"
    },
    {
     "data": {
      "text/html": [
       "<pre>| 3         | 4        | 0.000008  | 1.644352     | 0.959500          | 0.866400            |</pre>"
      ],
      "text/plain": [
       "| 3         | 4        | 0.000008  | 1.644352     | 0.959500          | 0.866400            |"
      ]
     },
     "metadata": {},
     "output_type": "display_data"
    },
    {
     "data": {
      "text/html": [
       "<pre>| 4         | 5        | 0.000002  | 1.889293     | 0.976325          | 0.889600            |</pre>"
      ],
      "text/plain": [
       "| 4         | 5        | 0.000002  | 1.889293     | 0.976325          | 0.889600            |"
      ]
     },
     "metadata": {},
     "output_type": "display_data"
    },
    {
     "data": {
      "text/html": [
       "<pre>| 5         | 6        | 0.000002  | 2.004030     | 0.978575          | 0.891000            |</pre>"
      ],
      "text/plain": [
       "| 5         | 6        | 0.000002  | 2.004030     | 0.978575          | 0.891000            |"
      ]
     },
     "metadata": {},
     "output_type": "display_data"
    },
    {
     "data": {
      "text/html": [
       "<pre>| 10        | 11       | 0.000002  | 2.597146     | 0.984725          | 0.890000            |</pre>"
      ],
      "text/plain": [
       "| 10        | 11       | 0.000002  | 2.597146     | 0.984725          | 0.890000            |"
      ]
     },
     "metadata": {},
     "output_type": "display_data"
    },
    {
     "data": {
      "text/html": [
       "<pre>| 20        | 21       | 0.000002  | 3.825069     | 0.991425          | 0.889000            |</pre>"
      ],
      "text/plain": [
       "| 20        | 21       | 0.000002  | 3.825069     | 0.991425          | 0.889000            |"
      ]
     },
     "metadata": {},
     "output_type": "display_data"
    },
    {
     "data": {
      "text/html": [
       "<pre>| 30        | 31       | 0.000002  | 5.011400     | 0.994850          | 0.887800            |</pre>"
      ],
      "text/plain": [
       "| 30        | 31       | 0.000002  | 5.011400     | 0.994850          | 0.887800            |"
      ]
     },
     "metadata": {},
     "output_type": "display_data"
    },
    {
     "data": {
      "text/html": [
       "<pre>| 40        | 41       | 0.000002  | 6.210937     | 0.996875          | 0.885800            |</pre>"
      ],
      "text/plain": [
       "| 40        | 41       | 0.000002  | 6.210937     | 0.996875          | 0.885800            |"
      ]
     },
     "metadata": {},
     "output_type": "display_data"
    },
    {
     "data": {
      "text/html": [
       "<pre>| 50        | 51       | 0.000002  | 7.439990     | 0.997850          | 0.884000            |</pre>"
      ],
      "text/plain": [
       "| 50        | 51       | 0.000002  | 7.439990     | 0.997850          | 0.884000            |"
      ]
     },
     "metadata": {},
     "output_type": "display_data"
    },
    {
     "data": {
      "text/html": [
       "<pre>| 60        | 61       | 0.000002  | 8.678279     | 0.998425          | 0.881800            |</pre>"
      ],
      "text/plain": [
       "| 60        | 61       | 0.000002  | 8.678279     | 0.998425          | 0.881800            |"
      ]
     },
     "metadata": {},
     "output_type": "display_data"
    },
    {
     "data": {
      "text/html": [
       "<pre>| 70        | 71       | 0.000002  | 9.910062     | 0.998950          | 0.881000            |</pre>"
      ],
      "text/plain": [
       "| 70        | 71       | 0.000002  | 9.910062     | 0.998950          | 0.881000            |"
      ]
     },
     "metadata": {},
     "output_type": "display_data"
    },
    {
     "data": {
      "text/html": [
       "<pre>| 80        | 81       | 0.000002  | 11.130709    | 0.999225          | 0.879800            |</pre>"
      ],
      "text/plain": [
       "| 80        | 81       | 0.000002  | 11.130709    | 0.999225          | 0.879800            |"
      ]
     },
     "metadata": {},
     "output_type": "display_data"
    },
    {
     "data": {
      "text/html": [
       "<pre>| 90        | 91       | 0.000002  | 12.317416    | 0.999450          | 0.879400            |</pre>"
      ],
      "text/plain": [
       "| 90        | 91       | 0.000002  | 12.317416    | 0.999450          | 0.879400            |"
      ]
     },
     "metadata": {},
     "output_type": "display_data"
    },
    {
     "data": {
      "text/html": [
       "<pre>| 100       | 101      | 0.000002  | 13.520496    | 0.999500          | 0.878800            |</pre>"
      ],
      "text/plain": [
       "| 100       | 101      | 0.000002  | 13.520496    | 0.999500          | 0.878800            |"
      ]
     },
     "metadata": {},
     "output_type": "display_data"
    },
    {
     "data": {
      "text/html": [
       "<pre>| 110       | 111      | 0.000002  | 14.738109    | 0.999625          | 0.877600            |</pre>"
      ],
      "text/plain": [
       "| 110       | 111      | 0.000002  | 14.738109    | 0.999625          | 0.877600            |"
      ]
     },
     "metadata": {},
     "output_type": "display_data"
    },
    {
     "data": {
      "text/html": [
       "<pre>| 120       | 121      | 0.000002  | 15.938251    | 0.999650          | 0.877000            |</pre>"
      ],
      "text/plain": [
       "| 120       | 121      | 0.000002  | 15.938251    | 0.999650          | 0.877000            |"
      ]
     },
     "metadata": {},
     "output_type": "display_data"
    },
    {
     "data": {
      "text/html": [
       "<pre>| 130       | 131      | 0.000002  | 17.188576    | 0.999750          | 0.877200            |</pre>"
      ],
      "text/plain": [
       "| 130       | 131      | 0.000002  | 17.188576    | 0.999750          | 0.877200            |"
      ]
     },
     "metadata": {},
     "output_type": "display_data"
    },
    {
     "data": {
      "text/html": [
       "<pre>| 140       | 141      | 0.000002  | 18.450544    | 0.999800          | 0.877600            |</pre>"
      ],
      "text/plain": [
       "| 140       | 141      | 0.000002  | 18.450544    | 0.999800          | 0.877600            |"
      ]
     },
     "metadata": {},
     "output_type": "display_data"
    },
    {
     "data": {
      "text/html": [
       "<pre>| 150       | 151      | 0.000002  | 19.677452    | 0.999875          | 0.877800            |</pre>"
      ],
      "text/plain": [
       "| 150       | 151      | 0.000002  | 19.677452    | 0.999875          | 0.877800            |"
      ]
     },
     "metadata": {},
     "output_type": "display_data"
    },
    {
     "data": {
      "text/html": [
       "<pre>| 160       | 161      | 0.000002  | 20.894970    | 0.999900          | 0.877600            |</pre>"
      ],
      "text/plain": [
       "| 160       | 161      | 0.000002  | 20.894970    | 0.999900          | 0.877600            |"
      ]
     },
     "metadata": {},
     "output_type": "display_data"
    },
    {
     "data": {
      "text/html": [
       "<pre>| 170       | 171      | 0.000002  | 22.140212    | 0.999950          | 0.876800            |</pre>"
      ],
      "text/plain": [
       "| 170       | 171      | 0.000002  | 22.140212    | 0.999950          | 0.876800            |"
      ]
     },
     "metadata": {},
     "output_type": "display_data"
    },
    {
     "data": {
      "text/html": [
       "<pre>| 180       | 181      | 0.000002  | 23.386543    | 0.999950          | 0.877600            |</pre>"
      ],
      "text/plain": [
       "| 180       | 181      | 0.000002  | 23.386543    | 0.999950          | 0.877600            |"
      ]
     },
     "metadata": {},
     "output_type": "display_data"
    },
    {
     "data": {
      "text/html": [
       "<pre>| 190       | 191      | 0.000002  | 24.609400    | 0.999950          | 0.877000            |</pre>"
      ],
      "text/plain": [
       "| 190       | 191      | 0.000002  | 24.609400    | 0.999950          | 0.877000            |"
      ]
     },
     "metadata": {},
     "output_type": "display_data"
    },
    {
     "data": {
      "text/html": [
       "<pre>| 200       | 201      | 0.000002  | 25.843294    | 0.999950          | 0.878000            |</pre>"
      ],
      "text/plain": [
       "| 200       | 201      | 0.000002  | 25.843294    | 0.999950          | 0.878000            |"
      ]
     },
     "metadata": {},
     "output_type": "display_data"
    },
    {
     "data": {
      "text/html": [
       "<pre>| 210       | 211      | 0.000002  | 27.043871    | 0.999975          | 0.878400            |</pre>"
      ],
      "text/plain": [
       "| 210       | 211      | 0.000002  | 27.043871    | 0.999975          | 0.878400            |"
      ]
     },
     "metadata": {},
     "output_type": "display_data"
    },
    {
     "data": {
      "text/html": [
       "<pre>| 220       | 221      | 0.000002  | 28.236893    | 0.999975          | 0.877800            |</pre>"
      ],
      "text/plain": [
       "| 220       | 221      | 0.000002  | 28.236893    | 0.999975          | 0.877800            |"
      ]
     },
     "metadata": {},
     "output_type": "display_data"
    },
    {
     "data": {
      "text/html": [
       "<pre>| 230       | 231      | 0.000002  | 29.449553    | 0.999975          | 0.878200            |</pre>"
      ],
      "text/plain": [
       "| 230       | 231      | 0.000002  | 29.449553    | 0.999975          | 0.878200            |"
      ]
     },
     "metadata": {},
     "output_type": "display_data"
    },
    {
     "data": {
      "text/html": [
       "<pre>| 240       | 241      | 0.000002  | 30.675573    | 1.000000          | 0.877600            |</pre>"
      ],
      "text/plain": [
       "| 240       | 241      | 0.000002  | 30.675573    | 1.000000          | 0.877600            |"
      ]
     },
     "metadata": {},
     "output_type": "display_data"
    },
    {
     "data": {
      "text/html": [
       "<pre>| 250       | 251      | 0.000002  | 31.889745    | 1.000000          | 0.877600            |</pre>"
      ],
      "text/plain": [
       "| 250       | 251      | 0.000002  | 31.889745    | 1.000000          | 0.877600            |"
      ]
     },
     "metadata": {},
     "output_type": "display_data"
    },
    {
     "data": {
      "text/html": [
       "<pre>| 260       | 261      | 0.000002  | 33.095129    | 1.000000          | 0.878000            |</pre>"
      ],
      "text/plain": [
       "| 260       | 261      | 0.000002  | 33.095129    | 1.000000          | 0.878000            |"
      ]
     },
     "metadata": {},
     "output_type": "display_data"
    },
    {
     "data": {
      "text/html": [
       "<pre>| 270       | 271      | 0.000002  | 34.291743    | 1.000000          | 0.877600            |</pre>"
      ],
      "text/plain": [
       "| 270       | 271      | 0.000002  | 34.291743    | 1.000000          | 0.877600            |"
      ]
     },
     "metadata": {},
     "output_type": "display_data"
    },
    {
     "data": {
      "text/html": [
       "<pre>| 280       | 281      | 0.000002  | 35.523449    | 1.000000          | 0.877400            |</pre>"
      ],
      "text/plain": [
       "| 280       | 281      | 0.000002  | 35.523449    | 1.000000          | 0.877400            |"
      ]
     },
     "metadata": {},
     "output_type": "display_data"
    },
    {
     "data": {
      "text/html": [
       "<pre>| 290       | 291      | 0.000002  | 36.764700    | 1.000000          | 0.877200            |</pre>"
      ],
      "text/plain": [
       "| 290       | 291      | 0.000002  | 36.764700    | 1.000000          | 0.877200            |"
      ]
     },
     "metadata": {},
     "output_type": "display_data"
    },
    {
     "data": {
      "text/html": [
       "<pre>| 300       | 301      | 0.000002  | 37.973269    | 1.000000          | 0.877600            |</pre>"
      ],
      "text/plain": [
       "| 300       | 301      | 0.000002  | 37.973269    | 1.000000          | 0.877600            |"
      ]
     },
     "metadata": {},
     "output_type": "display_data"
    },
    {
     "data": {
      "text/html": [
       "<pre>| 310       | 311      | 0.000002  | 39.188483    | 1.000000          | 0.877800            |</pre>"
      ],
      "text/plain": [
       "| 310       | 311      | 0.000002  | 39.188483    | 1.000000          | 0.877800            |"
      ]
     },
     "metadata": {},
     "output_type": "display_data"
    },
    {
     "data": {
      "text/html": [
       "<pre>| 320       | 321      | 0.000002  | 40.444437    | 1.000000          | 0.876800            |</pre>"
      ],
      "text/plain": [
       "| 320       | 321      | 0.000002  | 40.444437    | 1.000000          | 0.876800            |"
      ]
     },
     "metadata": {},
     "output_type": "display_data"
    },
    {
     "data": {
      "text/html": [
       "<pre>| 330       | 331      | 0.000002  | 41.678925    | 1.000000          | 0.876200            |</pre>"
      ],
      "text/plain": [
       "| 330       | 331      | 0.000002  | 41.678925    | 1.000000          | 0.876200            |"
      ]
     },
     "metadata": {},
     "output_type": "display_data"
    },
    {
     "data": {
      "text/html": [
       "<pre>| 340       | 341      | 0.000002  | 42.870386    | 1.000000          | 0.877000            |</pre>"
      ],
      "text/plain": [
       "| 340       | 341      | 0.000002  | 42.870386    | 1.000000          | 0.877000            |"
      ]
     },
     "metadata": {},
     "output_type": "display_data"
    },
    {
     "data": {
      "text/html": [
       "<pre>| 350       | 351      | 0.000002  | 44.069576    | 1.000000          | 0.876400            |</pre>"
      ],
      "text/plain": [
       "| 350       | 351      | 0.000002  | 44.069576    | 1.000000          | 0.876400            |"
      ]
     },
     "metadata": {},
     "output_type": "display_data"
    },
    {
     "data": {
      "text/html": [
       "<pre>| 360       | 361      | 0.000002  | 45.287490    | 1.000000          | 0.876600            |</pre>"
      ],
      "text/plain": [
       "| 360       | 361      | 0.000002  | 45.287490    | 1.000000          | 0.876600            |"
      ]
     },
     "metadata": {},
     "output_type": "display_data"
    },
    {
     "data": {
      "text/html": [
       "<pre>| 370       | 371      | 0.000002  | 46.495551    | 1.000000          | 0.877200            |</pre>"
      ],
      "text/plain": [
       "| 370       | 371      | 0.000002  | 46.495551    | 1.000000          | 0.877200            |"
      ]
     },
     "metadata": {},
     "output_type": "display_data"
    },
    {
     "data": {
      "text/html": [
       "<pre>| 380       | 381      | 0.000002  | 47.716025    | 1.000000          | 0.877000            |</pre>"
      ],
      "text/plain": [
       "| 380       | 381      | 0.000002  | 47.716025    | 1.000000          | 0.877000            |"
      ]
     },
     "metadata": {},
     "output_type": "display_data"
    },
    {
     "data": {
      "text/html": [
       "<pre>| 390       | 391      | 0.000002  | 48.939611    | 1.000000          | 0.877800            |</pre>"
      ],
      "text/plain": [
       "| 390       | 391      | 0.000002  | 48.939611    | 1.000000          | 0.877800            |"
      ]
     },
     "metadata": {},
     "output_type": "display_data"
    },
    {
     "data": {
      "text/html": [
       "<pre>| 400       | 401      | 0.000002  | 50.179635    | 1.000000          | 0.878800            |</pre>"
      ],
      "text/plain": [
       "| 400       | 401      | 0.000002  | 50.179635    | 1.000000          | 0.878800            |"
      ]
     },
     "metadata": {},
     "output_type": "display_data"
    },
    {
     "data": {
      "text/html": [
       "<pre>| 410       | 411      | 0.000002  | 51.395887    | 1.000000          | 0.878200            |</pre>"
      ],
      "text/plain": [
       "| 410       | 411      | 0.000002  | 51.395887    | 1.000000          | 0.878200            |"
      ]
     },
     "metadata": {},
     "output_type": "display_data"
    },
    {
     "data": {
      "text/html": [
       "<pre>| 420       | 421      | 0.000002  | 52.592103    | 1.000000          | 0.878400            |</pre>"
      ],
      "text/plain": [
       "| 420       | 421      | 0.000002  | 52.592103    | 1.000000          | 0.878400            |"
      ]
     },
     "metadata": {},
     "output_type": "display_data"
    },
    {
     "data": {
      "text/html": [
       "<pre>| 430       | 431      | 0.000002  | 53.799664    | 1.000000          | 0.877800            |</pre>"
      ],
      "text/plain": [
       "| 430       | 431      | 0.000002  | 53.799664    | 1.000000          | 0.877800            |"
      ]
     },
     "metadata": {},
     "output_type": "display_data"
    },
    {
     "data": {
      "text/html": [
       "<pre>| 440       | 441      | 0.000002  | 55.052409    | 1.000000          | 0.878000            |</pre>"
      ],
      "text/plain": [
       "| 440       | 441      | 0.000002  | 55.052409    | 1.000000          | 0.878000            |"
      ]
     },
     "metadata": {},
     "output_type": "display_data"
    },
    {
     "data": {
      "text/html": [
       "<pre>| 450       | 451      | 0.000002  | 56.276309    | 1.000000          | 0.878000            |</pre>"
      ],
      "text/plain": [
       "| 450       | 451      | 0.000002  | 56.276309    | 1.000000          | 0.878000            |"
      ]
     },
     "metadata": {},
     "output_type": "display_data"
    },
    {
     "data": {
      "text/html": [
       "<pre>| 460       | 461      | 0.000002  | 57.475419    | 1.000000          | 0.877000            |</pre>"
      ],
      "text/plain": [
       "| 460       | 461      | 0.000002  | 57.475419    | 1.000000          | 0.877000            |"
      ]
     },
     "metadata": {},
     "output_type": "display_data"
    },
    {
     "data": {
      "text/html": [
       "<pre>| 470       | 471      | 0.000002  | 58.691602    | 1.000000          | 0.876400            |</pre>"
      ],
      "text/plain": [
       "| 470       | 471      | 0.000002  | 58.691602    | 1.000000          | 0.876400            |"
      ]
     },
     "metadata": {},
     "output_type": "display_data"
    },
    {
     "data": {
      "text/html": [
       "<pre>| 480       | 481      | 0.000002  | 59.935354    | 1.000000          | 0.876600            |</pre>"
      ],
      "text/plain": [
       "| 480       | 481      | 0.000002  | 59.935354    | 1.000000          | 0.876600            |"
      ]
     },
     "metadata": {},
     "output_type": "display_data"
    },
    {
     "data": {
      "text/html": [
       "<pre>| 490       | 491      | 0.000002  | 61.175600    | 1.000000          | 0.876400            |</pre>"
      ],
      "text/plain": [
       "| 490       | 491      | 0.000002  | 61.175600    | 1.000000          | 0.876400            |"
      ]
     },
     "metadata": {},
     "output_type": "display_data"
    },
    {
     "data": {
      "text/html": [
       "<pre>| 500       | 501      | 0.000002  | 62.441266    | 1.000000          | 0.877000            |</pre>"
      ],
      "text/plain": [
       "| 500       | 501      | 0.000002  | 62.441266    | 1.000000          | 0.877000            |"
      ]
     },
     "metadata": {},
     "output_type": "display_data"
    },
    {
     "data": {
      "text/html": [
       "<pre>+-----------+----------+-----------+--------------+-------------------+---------------------+</pre>"
      ],
      "text/plain": [
       "+-----------+----------+-----------+--------------+-------------------+---------------------+"
      ]
     },
     "metadata": {},
     "output_type": "display_data"
    },
    {
     "data": {
      "text/html": [
       "<pre>Completed (Iteration limit reached).</pre>"
      ],
      "text/plain": [
       "Completed (Iteration limit reached)."
      ]
     },
     "metadata": {},
     "output_type": "display_data"
    },
    {
     "data": {
      "text/html": [
       "<pre>This model may not be optimal. To improve it, consider increasing `max_iterations`.</pre>"
      ],
      "text/plain": [
       "This model may not be optimal. To improve it, consider increasing `max_iterations`."
      ]
     },
     "metadata": {},
     "output_type": "display_data"
    }
   ],
   "source": [
    "# applied perceptron model to train model_2 dataset using different hyperparameters\n",
    "perceptron_model_2 = tc.logistic_classifier.create(train, target='sentiment', features=['words'], validation_set=validate, step_size=1.0,\n",
    "                                       l1_penalty=0.5,l2_penalty=0.5, max_iterations=500, convergence_threshold=0.001)"
   ]
  },
  {
   "cell_type": "markdown",
   "id": "42651309-ade3-4fdb-bd07-7dc6d8888d2d",
   "metadata": {},
   "source": [
    "#### Question 6a"
   ]
  },
  {
   "cell_type": "code",
   "execution_count": 318,
   "id": "ceb52fba-bea3-485f-88e7-042b12983098",
   "metadata": {},
   "outputs": [],
   "source": [
    "# Evaluate the model 1 accuracy using training and validation dataset\n",
    "train_accuracy1 = perceptron_model_1.evaluate(train)['accuracy']\n",
    "validation_accuracy1 = perceptron_model_1.evaluate(validate)['accuracy']\n",
    "\n",
    "# Evaluate the model 2 accuracy using traing and validation dataset\n",
    "train_accuracy2 = perceptron_model_2.evaluate(train)['accuracy']\n",
    "validation_accuracy2 = perceptron_model_2.evaluate(validate)['accuracy']"
   ]
  },
  {
   "cell_type": "code",
   "execution_count": 319,
   "id": "273024da-9942-4f06-b2bf-b8b3c3f18517",
   "metadata": {},
   "outputs": [
    {
     "name": "stdout",
     "output_type": "stream",
     "text": [
      "Model 1:\n",
      "Training Accuracy: 0.999675\n",
      "Validation Accuracy: 0.8636\n",
      "\n",
      "Model 2:\n",
      "Training Accuracy: 1.0\n",
      "Validation Accuracy: 0.877\n"
     ]
    }
   ],
   "source": [
    "# Output the training and validation accuracies for both models\n",
    "print(\"Model 1:\")\n",
    "print(\"Training Accuracy:\", train_accuracy1)\n",
    "print(\"Validation Accuracy:\", validation_accuracy1)\n",
    "\n",
    "print(\"\\nModel 2:\")\n",
    "print(\"Training Accuracy:\", train_accuracy2)\n",
    "print(\"Validation Accuracy:\", validation_accuracy2)"
   ]
  },
  {
   "cell_type": "markdown",
   "id": "eacd1ad5-d25a-4fcd-b39f-7e070d4f8726",
   "metadata": {},
   "source": [
    "### Question 6b"
   ]
  },
  {
   "cell_type": "code",
   "execution_count": 320,
   "id": "cb31de90-b148-4744-b61a-8bbd7b27f075",
   "metadata": {},
   "outputs": [],
   "source": [
    "# Get the predictions for the validation set\n",
    "predictions1 = perceptron_model_1.predict(validate)\n",
    "predictions2 = perceptron_model_2.predict(validate)\n",
    "\n",
    "# Get confusion matrixs using the true labels from the validation set and the predicted labels for each model \n",
    "conf_matrix1 = tc.evaluation.confusion_matrix(validate['sentiment'], predictions1)\n",
    "conf_matrix2 = tc.evaluation.confusion_matrix(validate['sentiment'], predictions2)"
   ]
  },
  {
   "cell_type": "code",
   "execution_count": 321,
   "id": "fba860b1-4651-4168-8c2c-72f644583d25",
   "metadata": {},
   "outputs": [
    {
     "name": "stdout",
     "output_type": "stream",
     "text": [
      "Model 1 Confusion Matrix:\n",
      "+--------------+-----------------+-------+\n",
      "| target_label | predicted_label | count |\n",
      "+--------------+-----------------+-------+\n",
      "|   negative   |     negative    |  2152 |\n",
      "|   positive   |     negative    |  353  |\n",
      "|   positive   |     positive    |  2166 |\n",
      "|   negative   |     positive    |  329  |\n",
      "+--------------+-----------------+-------+\n",
      "[4 rows x 3 columns]\n",
      "\n",
      "=======================================================================\n",
      "Model 2 Confusion Matrix:\n",
      "+--------------+-----------------+-------+\n",
      "| target_label | predicted_label | count |\n",
      "+--------------+-----------------+-------+\n",
      "|   negative   |     negative    |  2164 |\n",
      "|   negative   |     positive    |  317  |\n",
      "|   positive   |     negative    |  298  |\n",
      "|   positive   |     positive    |  2221 |\n",
      "+--------------+-----------------+-------+\n",
      "[4 rows x 3 columns]\n",
      "\n"
     ]
    }
   ],
   "source": [
    "# Output the confusion matrices\n",
    "print(\"Model 1 Confusion Matrix:\")\n",
    "print(conf_matrix1)\n",
    "print(\"=======================================================================\")\n",
    "print(\"Model 2 Confusion Matrix:\")\n",
    "print(conf_matrix2)"
   ]
  },
  {
   "cell_type": "markdown",
   "id": "3c31230a-589b-4a55-8af3-c2cf42edce28",
   "metadata": {},
   "source": [
    "### Question 6c"
   ]
  },
  {
   "cell_type": "code",
   "execution_count": 322,
   "id": "f26df509-e2f1-4e12-8730-2d5af41347c5",
   "metadata": {},
   "outputs": [],
   "source": [
    "#-- Model 1--\n",
    "# Check if there is true positive records\n",
    "check_true_positive1 = conf_matrix1[(conf_matrix1['target_label'] == \"positive\") & (conf_matrix1['predicted_label'] == \"positive\")]\n",
    "# extracting the counts of true positive from the confusion matrix, based on the target and predicted labels.\n",
    "if len(check_true_positive1) == 0:\n",
    "    true_positive1 = 0\n",
    "else:\n",
    "    true_positive1 = conf_matrix1[(conf_matrix1['target_label'] == \"positive\") & (conf_matrix1['predicted_label'] == \"positive\")]['count'][0]\n",
    "\n",
    "\n",
    "# Check if there is false positives records\n",
    "check_false_positive1 = conf_matrix1[(conf_matrix1['target_label'] == \"negative\") & (conf_matrix1['predicted_label'] == \"positive\")]\n",
    "# extracting the counts of false positives from the confusion matrix, based on the target and predicted labels.\n",
    "if len(check_false_positive1) == 0:\n",
    "    false_positive1 = 0\n",
    "else:\n",
    "    false_positive1 = conf_matrix1[(conf_matrix1['target_label'] == \"negative\") & (conf_matrix1['predicted_label'] == \"positive\")]['count'][0]\n",
    "\n",
    "    \n",
    "# Check if there is false negative records\n",
    "check_false_negative1 = conf_matrix1[(conf_matrix1['target_label'] == \"positive\") & (conf_matrix1['predicted_label'] == \"negative\")]\n",
    "# extracting the counts of false negative from the confusion matrix, based on the target and predicted labels.\n",
    "if len(check_false_negative1) == 0:\n",
    "    false_negative1 = 0\n",
    "else:\n",
    "    false_negative1 = conf_matrix1[(conf_matrix1['target_label'] == \"positive\") & (conf_matrix1['predicted_label'] == \"negative\")]['count'][0]\n",
    "\n",
    "\n",
    "\n",
    "# Get the Precision Value\n",
    "precision1 = true_positive1 / (true_positive1 + false_positive1)\n",
    "\n",
    "# Get the Recall Value\n",
    "recall1 = true_positive1 / (true_positive1 + false_negative1)\n",
    "\n",
    "# Get the f_beta_score\n",
    "f_beta_score1 = (1 + 2**2) * (precision1 * recall1) / ((2**2 * precision1) + recall1)\n",
    "\n",
    "#-- Model 2--\n",
    "# Check if there is true positive records\n",
    "check_true_positive2 = conf_matrix2[(conf_matrix2['target_label'] == \"positive\") & (conf_matrix2['predicted_label'] == \"positive\")]\n",
    "# extracting the counts of true positive from the confusion matrix, based on the target and predicted labels.\n",
    "if len(check_true_positive2) == 0:\n",
    "    true_positive2 = 0\n",
    "else:\n",
    "    true_positive2 = conf_matrix2[(conf_matrix2['target_label'] == \"positive\") & (conf_matrix2['predicted_label'] == \"positive\")]['count'][0]\n",
    "\n",
    "\n",
    "# Check if there is false positives records\n",
    "check_false_positive2 = conf_matrix2[(conf_matrix2['target_label'] == \"negative\") & (conf_matrix2['predicted_label'] == \"positive\")]\n",
    "# extracting the counts of false positives from the confusion matrix, based on the target and predicted labels.\n",
    "if len(check_false_positive2) == 0:\n",
    "    false_positive2 = 0\n",
    "else:\n",
    "    false_positive2 = conf_matrix2[(conf_matrix2['target_label'] == \"negative\") & (conf_matrix2['predicted_label'] == \"positive\")]['count'][0]\n",
    "\n",
    "    \n",
    "# Check if there is false negative records\n",
    "check_false_negative2 = conf_matrix2[(conf_matrix2['target_label'] == \"positive\") & (conf_matrix2['predicted_label'] == \"negative\")]\n",
    "# extracting the counts of false negative from the confusion matrix, based on the target and predicted labels.\n",
    "if len(check_false_negative2) == 0:\n",
    "    false_negative2 = 0\n",
    "else:\n",
    "    false_negative2 = conf_matrix2[(conf_matrix2['target_label'] == \"positive\") & (conf_matrix2['predicted_label'] == \"negative\")]['count'][0]\n",
    "\n",
    "\n",
    "# Get the Precision Value\n",
    "precision2 = true_positive2 / (true_positive2 + false_positive2)\n",
    "\n",
    "# Get the Recall Value\n",
    "recall2 = true_positive2 / (true_positive2 + false_negative2)\n",
    "\n",
    "# Get the f_beta_score\n",
    "f_beta_score2 = (1 + 2**2) * (precision2 * recall2) / ((2**2 * precision2) + recall2)"
   ]
  },
  {
   "cell_type": "code",
   "execution_count": 323,
   "id": "2d76ae3a-922e-4ada-9547-20c67687ba06",
   "metadata": {},
   "outputs": [
    {
     "name": "stdout",
     "output_type": "stream",
     "text": [
      "Model 1:\n",
      "Recall: 0.8598650258038905\n",
      "Precision: 0.8681362725450902\n",
      "Fβ Score: 0.8615066422718957\n",
      "\n",
      "Model 2:\n",
      "Recall: 0.8816990869392616\n",
      "Precision: 0.8750985027580772\n",
      "Fβ Score: 0.8803710163310607\n"
     ]
    }
   ],
   "source": [
    "# Output recall, precision, and Fβ score for both models\n",
    "print(\"Model 1:\")\n",
    "print(\"Recall:\", recall1)\n",
    "print(\"Precision:\", precision1)\n",
    "print(\"Fβ Score:\", f_beta_score1)\n",
    "\n",
    "print(\"\\nModel 2:\")\n",
    "print(\"Recall:\", recall2)\n",
    "print(\"Precision:\", precision2)\n",
    "print(\"Fβ Score:\", f_beta_score2)\n"
   ]
  },
  {
   "cell_type": "markdown",
   "id": "f00d4dc6-8c30-4400-afab-e1bd547f26eb",
   "metadata": {},
   "source": [
    "### Question 6d"
   ]
  },
  {
   "cell_type": "code",
   "execution_count": 324,
   "id": "e346ffa4-bb0d-45b2-8d91-a896b99ae77e",
   "metadata": {},
   "outputs": [],
   "source": [
    "# For Model 1\n",
    "# Prediction probability for model perceptron_model_1 for the validation data\n",
    "prediction_prob_1 = perceptron_model_1.predict(validate, output_type='probability')"
   ]
  },
  {
   "cell_type": "code",
   "execution_count": 325,
   "id": "84b851ff-0c55-42c1-b4d4-a30f8fe47bba",
   "metadata": {},
   "outputs": [],
   "source": [
    "# Evaluate the ROC for model 1 using validation dataset\n",
    "roc_data =  tc.evaluation.roc_curve(validate['sentiment'], prediction_prob_1)"
   ]
  },
  {
   "cell_type": "code",
   "execution_count": 326,
   "id": "248215b8-0998-4300-adfd-2d90f9ff72c9",
   "metadata": {},
   "outputs": [
    {
     "data": {
      "text/html": [
       "<div style=\"max-height:1000px;max-width:1500px;overflow:auto;\"><table frame=\"box\" rules=\"cols\">\n",
       "    <tr>\n",
       "        <th style=\"padding-left: 1em; padding-right: 1em; text-align: center\">threshold</th>\n",
       "        <th style=\"padding-left: 1em; padding-right: 1em; text-align: center\">fpr</th>\n",
       "        <th style=\"padding-left: 1em; padding-right: 1em; text-align: center\">tpr</th>\n",
       "        <th style=\"padding-left: 1em; padding-right: 1em; text-align: center\">p</th>\n",
       "        <th style=\"padding-left: 1em; padding-right: 1em; text-align: center\">n</th>\n",
       "    </tr>\n",
       "    <tr>\n",
       "        <td style=\"padding-left: 1em; padding-right: 1em; text-align: center; vertical-align: top\">0.0</td>\n",
       "        <td style=\"padding-left: 1em; padding-right: 1em; text-align: center; vertical-align: top\">1.0</td>\n",
       "        <td style=\"padding-left: 1em; padding-right: 1em; text-align: center; vertical-align: top\">1.0</td>\n",
       "        <td style=\"padding-left: 1em; padding-right: 1em; text-align: center; vertical-align: top\">2519</td>\n",
       "        <td style=\"padding-left: 1em; padding-right: 1em; text-align: center; vertical-align: top\">2481</td>\n",
       "    </tr>\n",
       "    <tr>\n",
       "        <td style=\"padding-left: 1em; padding-right: 1em; text-align: center; vertical-align: top\">0.001</td>\n",
       "        <td style=\"padding-left: 1em; padding-right: 1em; text-align: center; vertical-align: top\">0.5090689238210399</td>\n",
       "        <td style=\"padding-left: 1em; padding-right: 1em; text-align: center; vertical-align: top\">0.9718142119888845</td>\n",
       "        <td style=\"padding-left: 1em; padding-right: 1em; text-align: center; vertical-align: top\">2519</td>\n",
       "        <td style=\"padding-left: 1em; padding-right: 1em; text-align: center; vertical-align: top\">2481</td>\n",
       "    </tr>\n",
       "    <tr>\n",
       "        <td style=\"padding-left: 1em; padding-right: 1em; text-align: center; vertical-align: top\">0.002</td>\n",
       "        <td style=\"padding-left: 1em; padding-right: 1em; text-align: center; vertical-align: top\">0.46997178557033453</td>\n",
       "        <td style=\"padding-left: 1em; padding-right: 1em; text-align: center; vertical-align: top\">0.9686383485510123</td>\n",
       "        <td style=\"padding-left: 1em; padding-right: 1em; text-align: center; vertical-align: top\">2519</td>\n",
       "        <td style=\"padding-left: 1em; padding-right: 1em; text-align: center; vertical-align: top\">2481</td>\n",
       "    </tr>\n",
       "    <tr>\n",
       "        <td style=\"padding-left: 1em; padding-right: 1em; text-align: center; vertical-align: top\">0.003</td>\n",
       "        <td style=\"padding-left: 1em; padding-right: 1em; text-align: center; vertical-align: top\">0.4417573559048771</td>\n",
       "        <td style=\"padding-left: 1em; padding-right: 1em; text-align: center; vertical-align: top\">0.9646685192536721</td>\n",
       "        <td style=\"padding-left: 1em; padding-right: 1em; text-align: center; vertical-align: top\">2519</td>\n",
       "        <td style=\"padding-left: 1em; padding-right: 1em; text-align: center; vertical-align: top\">2481</td>\n",
       "    </tr>\n",
       "    <tr>\n",
       "        <td style=\"padding-left: 1em; padding-right: 1em; text-align: center; vertical-align: top\">0.004</td>\n",
       "        <td style=\"padding-left: 1em; padding-right: 1em; text-align: center; vertical-align: top\">0.42241031841999194</td>\n",
       "        <td style=\"padding-left: 1em; padding-right: 1em; text-align: center; vertical-align: top\">0.963080587534736</td>\n",
       "        <td style=\"padding-left: 1em; padding-right: 1em; text-align: center; vertical-align: top\">2519</td>\n",
       "        <td style=\"padding-left: 1em; padding-right: 1em; text-align: center; vertical-align: top\">2481</td>\n",
       "    </tr>\n",
       "    <tr>\n",
       "        <td style=\"padding-left: 1em; padding-right: 1em; text-align: center; vertical-align: top\">0.005</td>\n",
       "        <td style=\"padding-left: 1em; padding-right: 1em; text-align: center; vertical-align: top\">0.40588472390165253</td>\n",
       "        <td style=\"padding-left: 1em; padding-right: 1em; text-align: center; vertical-align: top\">0.9618896387455339</td>\n",
       "        <td style=\"padding-left: 1em; padding-right: 1em; text-align: center; vertical-align: top\">2519</td>\n",
       "        <td style=\"padding-left: 1em; padding-right: 1em; text-align: center; vertical-align: top\">2481</td>\n",
       "    </tr>\n",
       "    <tr>\n",
       "        <td style=\"padding-left: 1em; padding-right: 1em; text-align: center; vertical-align: top\">0.006</td>\n",
       "        <td style=\"padding-left: 1em; padding-right: 1em; text-align: center; vertical-align: top\">0.39500201531640466</td>\n",
       "        <td style=\"padding-left: 1em; padding-right: 1em; text-align: center; vertical-align: top\">0.9606986899563319</td>\n",
       "        <td style=\"padding-left: 1em; padding-right: 1em; text-align: center; vertical-align: top\">2519</td>\n",
       "        <td style=\"padding-left: 1em; padding-right: 1em; text-align: center; vertical-align: top\">2481</td>\n",
       "    </tr>\n",
       "    <tr>\n",
       "        <td style=\"padding-left: 1em; padding-right: 1em; text-align: center; vertical-align: top\">0.007</td>\n",
       "        <td style=\"padding-left: 1em; padding-right: 1em; text-align: center; vertical-align: top\">0.38855300282144295</td>\n",
       "        <td style=\"padding-left: 1em; padding-right: 1em; text-align: center; vertical-align: top\">0.9591107582373958</td>\n",
       "        <td style=\"padding-left: 1em; padding-right: 1em; text-align: center; vertical-align: top\">2519</td>\n",
       "        <td style=\"padding-left: 1em; padding-right: 1em; text-align: center; vertical-align: top\">2481</td>\n",
       "    </tr>\n",
       "    <tr>\n",
       "        <td style=\"padding-left: 1em; padding-right: 1em; text-align: center; vertical-align: top\">0.008</td>\n",
       "        <td style=\"padding-left: 1em; padding-right: 1em; text-align: center; vertical-align: top\">0.3792825473599355</td>\n",
       "        <td style=\"padding-left: 1em; padding-right: 1em; text-align: center; vertical-align: top\">0.9583167923779278</td>\n",
       "        <td style=\"padding-left: 1em; padding-right: 1em; text-align: center; vertical-align: top\">2519</td>\n",
       "        <td style=\"padding-left: 1em; padding-right: 1em; text-align: center; vertical-align: top\">2481</td>\n",
       "    </tr>\n",
       "    <tr>\n",
       "        <td style=\"padding-left: 1em; padding-right: 1em; text-align: center; vertical-align: top\">0.009</td>\n",
       "        <td style=\"padding-left: 1em; padding-right: 1em; text-align: center; vertical-align: top\">0.37525191455058443</td>\n",
       "        <td style=\"padding-left: 1em; padding-right: 1em; text-align: center; vertical-align: top\">0.9575228265184597</td>\n",
       "        <td style=\"padding-left: 1em; padding-right: 1em; text-align: center; vertical-align: top\">2519</td>\n",
       "        <td style=\"padding-left: 1em; padding-right: 1em; text-align: center; vertical-align: top\">2481</td>\n",
       "    </tr>\n",
       "</table>\n",
       "[10 rows x 5 columns]<br/>\n",
       "</div>"
      ],
      "text/plain": [
       "Columns:\n",
       "\tthreshold\tfloat\n",
       "\tfpr\tfloat\n",
       "\ttpr\tfloat\n",
       "\tp\tint\n",
       "\tn\tint\n",
       "\n",
       "Rows: 10\n",
       "\n",
       "Data:\n",
       "+-----------+---------------------+--------------------+------+------+\n",
       "| threshold |         fpr         |        tpr         |  p   |  n   |\n",
       "+-----------+---------------------+--------------------+------+------+\n",
       "|    0.0    |         1.0         |        1.0         | 2519 | 2481 |\n",
       "|   0.001   |  0.5090689238210399 | 0.9718142119888845 | 2519 | 2481 |\n",
       "|   0.002   | 0.46997178557033453 | 0.9686383485510123 | 2519 | 2481 |\n",
       "|   0.003   |  0.4417573559048771 | 0.9646685192536721 | 2519 | 2481 |\n",
       "|   0.004   | 0.42241031841999194 | 0.963080587534736  | 2519 | 2481 |\n",
       "|   0.005   | 0.40588472390165253 | 0.9618896387455339 | 2519 | 2481 |\n",
       "|   0.006   | 0.39500201531640466 | 0.9606986899563319 | 2519 | 2481 |\n",
       "|   0.007   | 0.38855300282144295 | 0.9591107582373958 | 2519 | 2481 |\n",
       "|   0.008   |  0.3792825473599355 | 0.9583167923779278 | 2519 | 2481 |\n",
       "|   0.009   | 0.37525191455058443 | 0.9575228265184597 | 2519 | 2481 |\n",
       "+-----------+---------------------+--------------------+------+------+\n",
       "[10 rows x 5 columns]"
      ]
     },
     "metadata": {},
     "output_type": "display_data"
    },
    {
     "data": {
      "text/html": [
       "<div style=\"max-height:1000px;max-width:1500px;overflow:auto;\"><table frame=\"box\" rules=\"cols\">\n",
       "    <tr>\n",
       "        <th style=\"padding-left: 1em; padding-right: 1em; text-align: center\">threshold</th>\n",
       "        <th style=\"padding-left: 1em; padding-right: 1em; text-align: center\">fpr</th>\n",
       "        <th style=\"padding-left: 1em; padding-right: 1em; text-align: center\">tpr</th>\n",
       "        <th style=\"padding-left: 1em; padding-right: 1em; text-align: center\">p</th>\n",
       "        <th style=\"padding-left: 1em; padding-right: 1em; text-align: center\">n</th>\n",
       "    </tr>\n",
       "    <tr>\n",
       "        <td style=\"padding-left: 1em; padding-right: 1em; text-align: center; vertical-align: top\">0.991</td>\n",
       "        <td style=\"padding-left: 1em; padding-right: 1em; text-align: center; vertical-align: top\">0.03466344216041919</td>\n",
       "        <td style=\"padding-left: 1em; padding-right: 1em; text-align: center; vertical-align: top\">0.5883287018658198</td>\n",
       "        <td style=\"padding-left: 1em; padding-right: 1em; text-align: center; vertical-align: top\">2519</td>\n",
       "        <td style=\"padding-left: 1em; padding-right: 1em; text-align: center; vertical-align: top\">2481</td>\n",
       "    </tr>\n",
       "    <tr>\n",
       "        <td style=\"padding-left: 1em; padding-right: 1em; text-align: center; vertical-align: top\">0.992</td>\n",
       "        <td style=\"padding-left: 1em; padding-right: 1em; text-align: center; vertical-align: top\">0.03466344216041919</td>\n",
       "        <td style=\"padding-left: 1em; padding-right: 1em; text-align: center; vertical-align: top\">0.5831679237792775</td>\n",
       "        <td style=\"padding-left: 1em; padding-right: 1em; text-align: center; vertical-align: top\">2519</td>\n",
       "        <td style=\"padding-left: 1em; padding-right: 1em; text-align: center; vertical-align: top\">2481</td>\n",
       "    </tr>\n",
       "    <tr>\n",
       "        <td style=\"padding-left: 1em; padding-right: 1em; text-align: center; vertical-align: top\">0.993</td>\n",
       "        <td style=\"padding-left: 1em; padding-right: 1em; text-align: center; vertical-align: top\">0.032648125755743655</td>\n",
       "        <td style=\"padding-left: 1em; padding-right: 1em; text-align: center; vertical-align: top\">0.575228265184597</td>\n",
       "        <td style=\"padding-left: 1em; padding-right: 1em; text-align: center; vertical-align: top\">2519</td>\n",
       "        <td style=\"padding-left: 1em; padding-right: 1em; text-align: center; vertical-align: top\">2481</td>\n",
       "    </tr>\n",
       "    <tr>\n",
       "        <td style=\"padding-left: 1em; padding-right: 1em; text-align: center; vertical-align: top\">0.994</td>\n",
       "        <td style=\"padding-left: 1em; padding-right: 1em; text-align: center; vertical-align: top\">0.031035872632003223</td>\n",
       "        <td style=\"padding-left: 1em; padding-right: 1em; text-align: center; vertical-align: top\">0.5645097260817785</td>\n",
       "        <td style=\"padding-left: 1em; padding-right: 1em; text-align: center; vertical-align: top\">2519</td>\n",
       "        <td style=\"padding-left: 1em; padding-right: 1em; text-align: center; vertical-align: top\">2481</td>\n",
       "    </tr>\n",
       "    <tr>\n",
       "        <td style=\"padding-left: 1em; padding-right: 1em; text-align: center; vertical-align: top\">0.995</td>\n",
       "        <td style=\"padding-left: 1em; padding-right: 1em; text-align: center; vertical-align: top\">0.029423619508262798</td>\n",
       "        <td style=\"padding-left: 1em; padding-right: 1em; text-align: center; vertical-align: top\">0.5529972211194919</td>\n",
       "        <td style=\"padding-left: 1em; padding-right: 1em; text-align: center; vertical-align: top\">2519</td>\n",
       "        <td style=\"padding-left: 1em; padding-right: 1em; text-align: center; vertical-align: top\">2481</td>\n",
       "    </tr>\n",
       "    <tr>\n",
       "        <td style=\"padding-left: 1em; padding-right: 1em; text-align: center; vertical-align: top\">0.996</td>\n",
       "        <td style=\"padding-left: 1em; padding-right: 1em; text-align: center; vertical-align: top\">0.02781136638452237</td>\n",
       "        <td style=\"padding-left: 1em; padding-right: 1em; text-align: center; vertical-align: top\">0.5355299722111949</td>\n",
       "        <td style=\"padding-left: 1em; padding-right: 1em; text-align: center; vertical-align: top\">2519</td>\n",
       "        <td style=\"padding-left: 1em; padding-right: 1em; text-align: center; vertical-align: top\">2481</td>\n",
       "    </tr>\n",
       "    <tr>\n",
       "        <td style=\"padding-left: 1em; padding-right: 1em; text-align: center; vertical-align: top\">0.997</td>\n",
       "        <td style=\"padding-left: 1em; padding-right: 1em; text-align: center; vertical-align: top\">0.02418379685610641</td>\n",
       "        <td style=\"padding-left: 1em; padding-right: 1em; text-align: center; vertical-align: top\">0.5129019452163557</td>\n",
       "        <td style=\"padding-left: 1em; padding-right: 1em; text-align: center; vertical-align: top\">2519</td>\n",
       "        <td style=\"padding-left: 1em; padding-right: 1em; text-align: center; vertical-align: top\">2481</td>\n",
       "    </tr>\n",
       "    <tr>\n",
       "        <td style=\"padding-left: 1em; padding-right: 1em; text-align: center; vertical-align: top\">0.998</td>\n",
       "        <td style=\"padding-left: 1em; padding-right: 1em; text-align: center; vertical-align: top\">0.02176541717049577</td>\n",
       "        <td style=\"padding-left: 1em; padding-right: 1em; text-align: center; vertical-align: top\">0.48630408892417626</td>\n",
       "        <td style=\"padding-left: 1em; padding-right: 1em; text-align: center; vertical-align: top\">2519</td>\n",
       "        <td style=\"padding-left: 1em; padding-right: 1em; text-align: center; vertical-align: top\">2481</td>\n",
       "    </tr>\n",
       "    <tr>\n",
       "        <td style=\"padding-left: 1em; padding-right: 1em; text-align: center; vertical-align: top\">0.999</td>\n",
       "        <td style=\"padding-left: 1em; padding-right: 1em; text-align: center; vertical-align: top\">0.017331721080209594</td>\n",
       "        <td style=\"padding-left: 1em; padding-right: 1em; text-align: center; vertical-align: top\">0.4406510520047638</td>\n",
       "        <td style=\"padding-left: 1em; padding-right: 1em; text-align: center; vertical-align: top\">2519</td>\n",
       "        <td style=\"padding-left: 1em; padding-right: 1em; text-align: center; vertical-align: top\">2481</td>\n",
       "    </tr>\n",
       "    <tr>\n",
       "        <td style=\"padding-left: 1em; padding-right: 1em; text-align: center; vertical-align: top\">1.0</td>\n",
       "        <td style=\"padding-left: 1em; padding-right: 1em; text-align: center; vertical-align: top\">0.0</td>\n",
       "        <td style=\"padding-left: 1em; padding-right: 1em; text-align: center; vertical-align: top\">0.0</td>\n",
       "        <td style=\"padding-left: 1em; padding-right: 1em; text-align: center; vertical-align: top\">2519</td>\n",
       "        <td style=\"padding-left: 1em; padding-right: 1em; text-align: center; vertical-align: top\">2481</td>\n",
       "    </tr>\n",
       "</table>\n",
       "[10 rows x 5 columns]<br/>\n",
       "</div>"
      ],
      "text/plain": [
       "Columns:\n",
       "\tthreshold\tfloat\n",
       "\tfpr\tfloat\n",
       "\ttpr\tfloat\n",
       "\tp\tint\n",
       "\tn\tint\n",
       "\n",
       "Rows: 10\n",
       "\n",
       "Data:\n",
       "+-----------+----------------------+---------------------+------+------+\n",
       "| threshold |         fpr          |         tpr         |  p   |  n   |\n",
       "+-----------+----------------------+---------------------+------+------+\n",
       "|   0.991   | 0.03466344216041919  |  0.5883287018658198 | 2519 | 2481 |\n",
       "|   0.992   | 0.03466344216041919  |  0.5831679237792775 | 2519 | 2481 |\n",
       "|   0.993   | 0.032648125755743655 |  0.575228265184597  | 2519 | 2481 |\n",
       "|   0.994   | 0.031035872632003223 |  0.5645097260817785 | 2519 | 2481 |\n",
       "|   0.995   | 0.029423619508262798 |  0.5529972211194919 | 2519 | 2481 |\n",
       "|   0.996   | 0.02781136638452237  |  0.5355299722111949 | 2519 | 2481 |\n",
       "|   0.997   | 0.02418379685610641  |  0.5129019452163557 | 2519 | 2481 |\n",
       "|   0.998   | 0.02176541717049577  | 0.48630408892417626 | 2519 | 2481 |\n",
       "|   0.999   | 0.017331721080209594 |  0.4406510520047638 | 2519 | 2481 |\n",
       "|    1.0    |         0.0          |         0.0         | 2519 | 2481 |\n",
       "+-----------+----------------------+---------------------+------+------+\n",
       "[10 rows x 5 columns]"
      ]
     },
     "metadata": {},
     "output_type": "display_data"
    }
   ],
   "source": [
    "# Display the first and the last 10 records of roc data using validation dataset\n",
    "display(roc_data.head())\n",
    "display(roc_data.tail())"
   ]
  },
  {
   "cell_type": "code",
   "execution_count": 327,
   "id": "d9ce81a9-ae64-4be8-9cf8-7ae6c9bef8fb",
   "metadata": {},
   "outputs": [
    {
     "data": {
      "text/plain": [
       "[<matplotlib.lines.Line2D at 0x7f7608334e10>]"
      ]
     },
     "execution_count": 327,
     "metadata": {},
     "output_type": "execute_result"
    },
    {
     "data": {
      "image/png": "[encoded data removed]",
      "text/plain": [
       "<Figure size 640x480 with 1 Axes>"
      ]
     },
     "metadata": {},
     "output_type": "display_data"
    }
   ],
   "source": [
    "# Plot the ROC curve for model 1 using validation dataset\n",
    "roc_x = roc_data['tpr']\n",
    "roc_y = 1 - roc_data['fpr']\n",
    "plt.plot(roc_x, roc_y)"
   ]
  },
  {
   "cell_type": "code",
   "execution_count": 328,
   "id": "d11b241b-cece-416e-b069-109f0b62a4b6",
   "metadata": {},
   "outputs": [
    {
     "data": {
      "text/plain": [
       "0.9211218439977106"
      ]
     },
     "execution_count": 328,
     "metadata": {},
     "output_type": "execute_result"
    }
   ],
   "source": [
    "# Evaluate the AUC for model 1 using validation dataset\n",
    "auc =  tc.evaluation.auc(validate['sentiment'], prediction_prob_1)\n",
    "\n",
    "# Output the AUC for model 1 using validation dataset\n",
    "auc"
   ]
  },
  {
   "cell_type": "code",
   "execution_count": 329,
   "id": "e73f4cb0-c2de-4cb0-b286-9d94db89bf77",
   "metadata": {},
   "outputs": [],
   "source": [
    "# For Model 2\n",
    "# Prediction probability for model perceptron_model_2 for the validation data\n",
    "prediction_prob_2 = perceptron_model_2.predict(validate, output_type='probability')"
   ]
  },
  {
   "cell_type": "code",
   "execution_count": 330,
   "id": "b800e5da-2af8-4386-a610-c6e2c6bb4840",
   "metadata": {},
   "outputs": [],
   "source": [
    "# Evaluate the ROC for model 2 using validation dataset\n",
    "roc_data =  tc.evaluation.roc_curve(validate['sentiment'], prediction_prob_2)"
   ]
  },
  {
   "cell_type": "code",
   "execution_count": 331,
   "id": "d93fb445-06bc-40c1-95e2-5885ec72777d",
   "metadata": {},
   "outputs": [
    {
     "data": {
      "text/html": [
       "<div style=\"max-height:1000px;max-width:1500px;overflow:auto;\"><table frame=\"box\" rules=\"cols\">\n",
       "    <tr>\n",
       "        <th style=\"padding-left: 1em; padding-right: 1em; text-align: center\">threshold</th>\n",
       "        <th style=\"padding-left: 1em; padding-right: 1em; text-align: center\">fpr</th>\n",
       "        <th style=\"padding-left: 1em; padding-right: 1em; text-align: center\">tpr</th>\n",
       "        <th style=\"padding-left: 1em; padding-right: 1em; text-align: center\">p</th>\n",
       "        <th style=\"padding-left: 1em; padding-right: 1em; text-align: center\">n</th>\n",
       "    </tr>\n",
       "    <tr>\n",
       "        <td style=\"padding-left: 1em; padding-right: 1em; text-align: center; vertical-align: top\">0.0</td>\n",
       "        <td style=\"padding-left: 1em; padding-right: 1em; text-align: center; vertical-align: top\">1.0</td>\n",
       "        <td style=\"padding-left: 1em; padding-right: 1em; text-align: center; vertical-align: top\">1.0</td>\n",
       "        <td style=\"padding-left: 1em; padding-right: 1em; text-align: center; vertical-align: top\">2519</td>\n",
       "        <td style=\"padding-left: 1em; padding-right: 1em; text-align: center; vertical-align: top\">2481</td>\n",
       "    </tr>\n",
       "    <tr>\n",
       "        <td style=\"padding-left: 1em; padding-right: 1em; text-align: center; vertical-align: top\">0.001</td>\n",
       "        <td style=\"padding-left: 1em; padding-right: 1em; text-align: center; vertical-align: top\">0.47642079806529625</td>\n",
       "        <td style=\"padding-left: 1em; padding-right: 1em; text-align: center; vertical-align: top\">0.9761810242159588</td>\n",
       "        <td style=\"padding-left: 1em; padding-right: 1em; text-align: center; vertical-align: top\">2519</td>\n",
       "        <td style=\"padding-left: 1em; padding-right: 1em; text-align: center; vertical-align: top\">2481</td>\n",
       "    </tr>\n",
       "    <tr>\n",
       "        <td style=\"padding-left: 1em; padding-right: 1em; text-align: center; vertical-align: top\">0.002</td>\n",
       "        <td style=\"padding-left: 1em; padding-right: 1em; text-align: center; vertical-align: top\">0.44135429262394194</td>\n",
       "        <td style=\"padding-left: 1em; padding-right: 1em; text-align: center; vertical-align: top\">0.9737991266375546</td>\n",
       "        <td style=\"padding-left: 1em; padding-right: 1em; text-align: center; vertical-align: top\">2519</td>\n",
       "        <td style=\"padding-left: 1em; padding-right: 1em; text-align: center; vertical-align: top\">2481</td>\n",
       "    </tr>\n",
       "    <tr>\n",
       "        <td style=\"padding-left: 1em; padding-right: 1em; text-align: center; vertical-align: top\">0.003</td>\n",
       "        <td style=\"padding-left: 1em; padding-right: 1em; text-align: center; vertical-align: top\">0.41152760983474407</td>\n",
       "        <td style=\"padding-left: 1em; padding-right: 1em; text-align: center; vertical-align: top\">0.9698292973402144</td>\n",
       "        <td style=\"padding-left: 1em; padding-right: 1em; text-align: center; vertical-align: top\">2519</td>\n",
       "        <td style=\"padding-left: 1em; padding-right: 1em; text-align: center; vertical-align: top\">2481</td>\n",
       "    </tr>\n",
       "    <tr>\n",
       "        <td style=\"padding-left: 1em; padding-right: 1em; text-align: center; vertical-align: top\">0.004</td>\n",
       "        <td style=\"padding-left: 1em; padding-right: 1em; text-align: center; vertical-align: top\">0.3966142684401451</td>\n",
       "        <td style=\"padding-left: 1em; padding-right: 1em; text-align: center; vertical-align: top\">0.9682413656212783</td>\n",
       "        <td style=\"padding-left: 1em; padding-right: 1em; text-align: center; vertical-align: top\">2519</td>\n",
       "        <td style=\"padding-left: 1em; padding-right: 1em; text-align: center; vertical-align: top\">2481</td>\n",
       "    </tr>\n",
       "    <tr>\n",
       "        <td style=\"padding-left: 1em; padding-right: 1em; text-align: center; vertical-align: top\">0.005</td>\n",
       "        <td style=\"padding-left: 1em; padding-right: 1em; text-align: center; vertical-align: top\">0.38492543329302703</td>\n",
       "        <td style=\"padding-left: 1em; padding-right: 1em; text-align: center; vertical-align: top\">0.9654624851131401</td>\n",
       "        <td style=\"padding-left: 1em; padding-right: 1em; text-align: center; vertical-align: top\">2519</td>\n",
       "        <td style=\"padding-left: 1em; padding-right: 1em; text-align: center; vertical-align: top\">2481</td>\n",
       "    </tr>\n",
       "    <tr>\n",
       "        <td style=\"padding-left: 1em; padding-right: 1em; text-align: center; vertical-align: top\">0.006</td>\n",
       "        <td style=\"padding-left: 1em; padding-right: 1em; text-align: center; vertical-align: top\">0.37122128174123337</td>\n",
       "        <td style=\"padding-left: 1em; padding-right: 1em; text-align: center; vertical-align: top\">0.964271536323938</td>\n",
       "        <td style=\"padding-left: 1em; padding-right: 1em; text-align: center; vertical-align: top\">2519</td>\n",
       "        <td style=\"padding-left: 1em; padding-right: 1em; text-align: center; vertical-align: top\">2481</td>\n",
       "    </tr>\n",
       "    <tr>\n",
       "        <td style=\"padding-left: 1em; padding-right: 1em; text-align: center; vertical-align: top\">0.007</td>\n",
       "        <td style=\"padding-left: 1em; padding-right: 1em; text-align: center; vertical-align: top\">0.3611446997178557</td>\n",
       "        <td style=\"padding-left: 1em; padding-right: 1em; text-align: center; vertical-align: top\">0.963874553394204</td>\n",
       "        <td style=\"padding-left: 1em; padding-right: 1em; text-align: center; vertical-align: top\">2519</td>\n",
       "        <td style=\"padding-left: 1em; padding-right: 1em; text-align: center; vertical-align: top\">2481</td>\n",
       "    </tr>\n",
       "    <tr>\n",
       "        <td style=\"padding-left: 1em; padding-right: 1em; text-align: center; vertical-align: top\">0.008</td>\n",
       "        <td style=\"padding-left: 1em; padding-right: 1em; text-align: center; vertical-align: top\">0.3538895606610238</td>\n",
       "        <td style=\"padding-left: 1em; padding-right: 1em; text-align: center; vertical-align: top\">0.963080587534736</td>\n",
       "        <td style=\"padding-left: 1em; padding-right: 1em; text-align: center; vertical-align: top\">2519</td>\n",
       "        <td style=\"padding-left: 1em; padding-right: 1em; text-align: center; vertical-align: top\">2481</td>\n",
       "    </tr>\n",
       "    <tr>\n",
       "        <td style=\"padding-left: 1em; padding-right: 1em; text-align: center; vertical-align: top\">0.009</td>\n",
       "        <td style=\"padding-left: 1em; padding-right: 1em; text-align: center; vertical-align: top\">0.34784361144699716</td>\n",
       "        <td style=\"padding-left: 1em; padding-right: 1em; text-align: center; vertical-align: top\">0.963080587534736</td>\n",
       "        <td style=\"padding-left: 1em; padding-right: 1em; text-align: center; vertical-align: top\">2519</td>\n",
       "        <td style=\"padding-left: 1em; padding-right: 1em; text-align: center; vertical-align: top\">2481</td>\n",
       "    </tr>\n",
       "</table>\n",
       "[10 rows x 5 columns]<br/>\n",
       "</div>"
      ],
      "text/plain": [
       "Columns:\n",
       "\tthreshold\tfloat\n",
       "\tfpr\tfloat\n",
       "\ttpr\tfloat\n",
       "\tp\tint\n",
       "\tn\tint\n",
       "\n",
       "Rows: 10\n",
       "\n",
       "Data:\n",
       "+-----------+---------------------+--------------------+------+------+\n",
       "| threshold |         fpr         |        tpr         |  p   |  n   |\n",
       "+-----------+---------------------+--------------------+------+------+\n",
       "|    0.0    |         1.0         |        1.0         | 2519 | 2481 |\n",
       "|   0.001   | 0.47642079806529625 | 0.9761810242159588 | 2519 | 2481 |\n",
       "|   0.002   | 0.44135429262394194 | 0.9737991266375546 | 2519 | 2481 |\n",
       "|   0.003   | 0.41152760983474407 | 0.9698292973402144 | 2519 | 2481 |\n",
       "|   0.004   |  0.3966142684401451 | 0.9682413656212783 | 2519 | 2481 |\n",
       "|   0.005   | 0.38492543329302703 | 0.9654624851131401 | 2519 | 2481 |\n",
       "|   0.006   | 0.37122128174123337 | 0.964271536323938  | 2519 | 2481 |\n",
       "|   0.007   |  0.3611446997178557 | 0.963874553394204  | 2519 | 2481 |\n",
       "|   0.008   |  0.3538895606610238 | 0.963080587534736  | 2519 | 2481 |\n",
       "|   0.009   | 0.34784361144699716 | 0.963080587534736  | 2519 | 2481 |\n",
       "+-----------+---------------------+--------------------+------+------+\n",
       "[10 rows x 5 columns]"
      ]
     },
     "metadata": {},
     "output_type": "display_data"
    },
    {
     "data": {
      "text/html": [
       "<div style=\"max-height:1000px;max-width:1500px;overflow:auto;\"><table frame=\"box\" rules=\"cols\">\n",
       "    <tr>\n",
       "        <th style=\"padding-left: 1em; padding-right: 1em; text-align: center\">threshold</th>\n",
       "        <th style=\"padding-left: 1em; padding-right: 1em; text-align: center\">fpr</th>\n",
       "        <th style=\"padding-left: 1em; padding-right: 1em; text-align: center\">tpr</th>\n",
       "        <th style=\"padding-left: 1em; padding-right: 1em; text-align: center\">p</th>\n",
       "        <th style=\"padding-left: 1em; padding-right: 1em; text-align: center\">n</th>\n",
       "    </tr>\n",
       "    <tr>\n",
       "        <td style=\"padding-left: 1em; padding-right: 1em; text-align: center; vertical-align: top\">0.991</td>\n",
       "        <td style=\"padding-left: 1em; padding-right: 1em; text-align: center; vertical-align: top\">0.03385731559854897</td>\n",
       "        <td style=\"padding-left: 1em; padding-right: 1em; text-align: center; vertical-align: top\">0.6637554585152838</td>\n",
       "        <td style=\"padding-left: 1em; padding-right: 1em; text-align: center; vertical-align: top\">2519</td>\n",
       "        <td style=\"padding-left: 1em; padding-right: 1em; text-align: center; vertical-align: top\">2481</td>\n",
       "    </tr>\n",
       "    <tr>\n",
       "        <td style=\"padding-left: 1em; padding-right: 1em; text-align: center; vertical-align: top\">0.992</td>\n",
       "        <td style=\"padding-left: 1em; padding-right: 1em; text-align: center; vertical-align: top\">0.03385731559854897</td>\n",
       "        <td style=\"padding-left: 1em; padding-right: 1em; text-align: center; vertical-align: top\">0.6542278682016673</td>\n",
       "        <td style=\"padding-left: 1em; padding-right: 1em; text-align: center; vertical-align: top\">2519</td>\n",
       "        <td style=\"padding-left: 1em; padding-right: 1em; text-align: center; vertical-align: top\">2481</td>\n",
       "    </tr>\n",
       "    <tr>\n",
       "        <td style=\"padding-left: 1em; padding-right: 1em; text-align: center; vertical-align: top\">0.993</td>\n",
       "        <td style=\"padding-left: 1em; padding-right: 1em; text-align: center; vertical-align: top\">0.032245062474808545</td>\n",
       "        <td style=\"padding-left: 1em; padding-right: 1em; text-align: center; vertical-align: top\">0.6435093290988487</td>\n",
       "        <td style=\"padding-left: 1em; padding-right: 1em; text-align: center; vertical-align: top\">2519</td>\n",
       "        <td style=\"padding-left: 1em; padding-right: 1em; text-align: center; vertical-align: top\">2481</td>\n",
       "    </tr>\n",
       "    <tr>\n",
       "        <td style=\"padding-left: 1em; padding-right: 1em; text-align: center; vertical-align: top\">0.994</td>\n",
       "        <td style=\"padding-left: 1em; padding-right: 1em; text-align: center; vertical-align: top\">0.03143893591293833</td>\n",
       "        <td style=\"padding-left: 1em; padding-right: 1em; text-align: center; vertical-align: top\">0.6331877729257642</td>\n",
       "        <td style=\"padding-left: 1em; padding-right: 1em; text-align: center; vertical-align: top\">2519</td>\n",
       "        <td style=\"padding-left: 1em; padding-right: 1em; text-align: center; vertical-align: top\">2481</td>\n",
       "    </tr>\n",
       "    <tr>\n",
       "        <td style=\"padding-left: 1em; padding-right: 1em; text-align: center; vertical-align: top\">0.995</td>\n",
       "        <td style=\"padding-left: 1em; padding-right: 1em; text-align: center; vertical-align: top\">0.030229746070133012</td>\n",
       "        <td style=\"padding-left: 1em; padding-right: 1em; text-align: center; vertical-align: top\">0.6216752679634776</td>\n",
       "        <td style=\"padding-left: 1em; padding-right: 1em; text-align: center; vertical-align: top\">2519</td>\n",
       "        <td style=\"padding-left: 1em; padding-right: 1em; text-align: center; vertical-align: top\">2481</td>\n",
       "    </tr>\n",
       "    <tr>\n",
       "        <td style=\"padding-left: 1em; padding-right: 1em; text-align: center; vertical-align: top\">0.996</td>\n",
       "        <td style=\"padding-left: 1em; padding-right: 1em; text-align: center; vertical-align: top\">0.027408303103587262</td>\n",
       "        <td style=\"padding-left: 1em; padding-right: 1em; text-align: center; vertical-align: top\">0.6085748312822549</td>\n",
       "        <td style=\"padding-left: 1em; padding-right: 1em; text-align: center; vertical-align: top\">2519</td>\n",
       "        <td style=\"padding-left: 1em; padding-right: 1em; text-align: center; vertical-align: top\">2481</td>\n",
       "    </tr>\n",
       "    <tr>\n",
       "        <td style=\"padding-left: 1em; padding-right: 1em; text-align: center; vertical-align: top\">0.997</td>\n",
       "        <td style=\"padding-left: 1em; padding-right: 1em; text-align: center; vertical-align: top\">0.024989923417976623</td>\n",
       "        <td style=\"padding-left: 1em; padding-right: 1em; text-align: center; vertical-align: top\">0.591901548233426</td>\n",
       "        <td style=\"padding-left: 1em; padding-right: 1em; text-align: center; vertical-align: top\">2519</td>\n",
       "        <td style=\"padding-left: 1em; padding-right: 1em; text-align: center; vertical-align: top\">2481</td>\n",
       "    </tr>\n",
       "    <tr>\n",
       "        <td style=\"padding-left: 1em; padding-right: 1em; text-align: center; vertical-align: top\">0.998</td>\n",
       "        <td style=\"padding-left: 1em; padding-right: 1em; text-align: center; vertical-align: top\">0.023377670294236194</td>\n",
       "        <td style=\"padding-left: 1em; padding-right: 1em; text-align: center; vertical-align: top\">0.5680825724493846</td>\n",
       "        <td style=\"padding-left: 1em; padding-right: 1em; text-align: center; vertical-align: top\">2519</td>\n",
       "        <td style=\"padding-left: 1em; padding-right: 1em; text-align: center; vertical-align: top\">2481</td>\n",
       "    </tr>\n",
       "    <tr>\n",
       "        <td style=\"padding-left: 1em; padding-right: 1em; text-align: center; vertical-align: top\">0.999</td>\n",
       "        <td style=\"padding-left: 1em; padding-right: 1em; text-align: center; vertical-align: top\">0.01894397420395002</td>\n",
       "        <td style=\"padding-left: 1em; padding-right: 1em; text-align: center; vertical-align: top\">0.5307661770543867</td>\n",
       "        <td style=\"padding-left: 1em; padding-right: 1em; text-align: center; vertical-align: top\">2519</td>\n",
       "        <td style=\"padding-left: 1em; padding-right: 1em; text-align: center; vertical-align: top\">2481</td>\n",
       "    </tr>\n",
       "    <tr>\n",
       "        <td style=\"padding-left: 1em; padding-right: 1em; text-align: center; vertical-align: top\">1.0</td>\n",
       "        <td style=\"padding-left: 1em; padding-right: 1em; text-align: center; vertical-align: top\">0.0</td>\n",
       "        <td style=\"padding-left: 1em; padding-right: 1em; text-align: center; vertical-align: top\">0.0</td>\n",
       "        <td style=\"padding-left: 1em; padding-right: 1em; text-align: center; vertical-align: top\">2519</td>\n",
       "        <td style=\"padding-left: 1em; padding-right: 1em; text-align: center; vertical-align: top\">2481</td>\n",
       "    </tr>\n",
       "</table>\n",
       "[10 rows x 5 columns]<br/>\n",
       "</div>"
      ],
      "text/plain": [
       "Columns:\n",
       "\tthreshold\tfloat\n",
       "\tfpr\tfloat\n",
       "\ttpr\tfloat\n",
       "\tp\tint\n",
       "\tn\tint\n",
       "\n",
       "Rows: 10\n",
       "\n",
       "Data:\n",
       "+-----------+----------------------+--------------------+------+------+\n",
       "| threshold |         fpr          |        tpr         |  p   |  n   |\n",
       "+-----------+----------------------+--------------------+------+------+\n",
       "|   0.991   | 0.03385731559854897  | 0.6637554585152838 | 2519 | 2481 |\n",
       "|   0.992   | 0.03385731559854897  | 0.6542278682016673 | 2519 | 2481 |\n",
       "|   0.993   | 0.032245062474808545 | 0.6435093290988487 | 2519 | 2481 |\n",
       "|   0.994   | 0.03143893591293833  | 0.6331877729257642 | 2519 | 2481 |\n",
       "|   0.995   | 0.030229746070133012 | 0.6216752679634776 | 2519 | 2481 |\n",
       "|   0.996   | 0.027408303103587262 | 0.6085748312822549 | 2519 | 2481 |\n",
       "|   0.997   | 0.024989923417976623 | 0.591901548233426  | 2519 | 2481 |\n",
       "|   0.998   | 0.023377670294236194 | 0.5680825724493846 | 2519 | 2481 |\n",
       "|   0.999   | 0.01894397420395002  | 0.5307661770543867 | 2519 | 2481 |\n",
       "|    1.0    |         0.0          |        0.0         | 2519 | 2481 |\n",
       "+-----------+----------------------+--------------------+------+------+\n",
       "[10 rows x 5 columns]"
      ]
     },
     "metadata": {},
     "output_type": "display_data"
    }
   ],
   "source": [
    "# Display the first and the last 10 records of roc data\n",
    "display(roc_data.head())\n",
    "display(roc_data.tail())"
   ]
  },
  {
   "cell_type": "code",
   "execution_count": 332,
   "id": "07b1b49b-5488-4a79-86bc-571f9a0e6a4a",
   "metadata": {},
   "outputs": [
    {
     "data": {
      "text/plain": [
       "[<matplotlib.lines.Line2D at 0x7f75f86b4b90>]"
      ]
     },
     "execution_count": 332,
     "metadata": {},
     "output_type": "execute_result"
    },
    {
     "data": {
      "image/png": "[encoded data removed]",
      "text/plain": [
       "<Figure size 640x480 with 1 Axes>"
      ]
     },
     "metadata": {},
     "output_type": "display_data"
    }
   ],
   "source": [
    "# Plot the ROC curve for model 2 using validation dataset\n",
    "roc_x = roc_data['tpr']\n",
    "roc_y = 1 - roc_data['fpr']\n",
    "plt.plot(roc_x, roc_y)"
   ]
  },
  {
   "cell_type": "code",
   "execution_count": 333,
   "id": "1d1bec16-c847-49d8-a1f2-4f001ab2602e",
   "metadata": {},
   "outputs": [
    {
     "data": {
      "text/plain": [
       "0.9327753971069355"
      ]
     },
     "execution_count": 333,
     "metadata": {},
     "output_type": "execute_result"
    }
   ],
   "source": [
    "# Evaluate the AUC for model 2 using validation dataset\n",
    "auc =  tc.evaluation.auc(validate['sentiment'], prediction_prob_2)\n",
    "\n",
    "# Output the AUC for model 2 using validation dataset\n",
    "auc"
   ]
  },
  {
   "cell_type": "markdown",
   "id": "559d45d6-e334-47e9-824a-373caba1bb18",
   "metadata": {},
   "source": [
    "### Question 7"
   ]
  },
  {
   "cell_type": "markdown",
   "id": "e8bad3d9-ab0d-4492-9900-44e91ea1842b",
   "metadata": {},
   "source": [
    "Considering the overall performance and the trade-off between precision and recall, we would select Model 2 as our best model for the following reasons:\n",
    "\n",
    "1. Higher Recall: Model 2 has a slightly higher recall, indicating that it captures more positive instances from the total actual positives. This is crucial in applications where it's essential to minimize false negatives (missing positive instances).\n",
    "\n",
    "2. Higher Precision: Model 2 has a slightly higher precision, incdicating that the model produces few false positives\n",
    "\n",
    "Both models have high F-beta score, indicating a good balance between precision and recall. The model is accurate in classifying positive instances correctly.  But Model 2 is slightly higher comparing to model 1\n",
    "\n",
    "Base on our analysis, the confusion matrix have been reviewed to show additional insights into our models' performance, especially regarding false positives and false negatives regarding this use case. \n",
    "\n",
    "Therefore, based on the considerations above, we would select Model 2 as the best model for this task. "
   ]
  },
  {
   "cell_type": "markdown",
   "id": "e7320d92-9328-4aee-8996-bf79ec0f4c02",
   "metadata": {},
   "source": [
    "### Question 8a"
   ]
  },
  {
   "cell_type": "code",
   "execution_count": 334,
   "id": "147341c0-0053-49e8-93dc-bccfc633ed9e",
   "metadata": {},
   "outputs": [
    {
     "name": "stdout",
     "output_type": "stream",
     "text": [
      "Model 2:\n",
      "Testing Accuracy: 0.8838\n"
     ]
    }
   ],
   "source": [
    "# Evaluate the model 2 accuracy using testing dataset\n",
    "test_accuracy = perceptron_model_2.evaluate(test)['accuracy']\n",
    "\n",
    "# Output the testing dataset accuracy\n",
    "print(\"Model 2:\")\n",
    "print(\"Testing Accuracy:\", test_accuracy)"
   ]
  },
  {
   "cell_type": "markdown",
   "id": "c2e978af-2401-47f5-b57f-41944ee045b0",
   "metadata": {},
   "source": [
    "### Question 8b"
   ]
  },
  {
   "cell_type": "code",
   "execution_count": 335,
   "id": "1e2ef172-40ef-4608-92df-9e9caa69d2f9",
   "metadata": {},
   "outputs": [],
   "source": [
    "# Get the predictions for the testing dataset\n",
    "predictions_test = perceptron_model_2.predict(test)\n",
    "\n",
    "# Get confusion matrixs using the true labels from the testing set and the predicted labels for each model \n",
    "conf_matrix_test = tc.evaluation.confusion_matrix(test['sentiment'], predictions_test)\n"
   ]
  },
  {
   "cell_type": "code",
   "execution_count": 336,
   "id": "e6c23848-dc55-4501-bdee-b5d0f97dbf23",
   "metadata": {},
   "outputs": [
    {
     "name": "stdout",
     "output_type": "stream",
     "text": [
      "Model 2 (Test) Confusion Matrix:\n",
      "+--------------+-----------------+-------+\n",
      "| target_label | predicted_label | count |\n",
      "+--------------+-----------------+-------+\n",
      "|   negative   |     negative    |  2118 |\n",
      "|   positive   |     positive    |  2301 |\n",
      "|   positive   |     negative    |  255  |\n",
      "|   negative   |     positive    |  326  |\n",
      "+--------------+-----------------+-------+\n",
      "[4 rows x 3 columns]\n",
      "\n"
     ]
    }
   ],
   "source": [
    "# Display the confusion matrices\n",
    "print(\"Model 2 (Test) Confusion Matrix:\")\n",
    "print(conf_matrix_test)"
   ]
  },
  {
   "cell_type": "markdown",
   "id": "c81de640-b80c-42f8-9944-f485b875f80b",
   "metadata": {},
   "source": [
    "### Question 8c"
   ]
  },
  {
   "cell_type": "code",
   "execution_count": 337,
   "id": "5d44608e-69eb-4177-95bd-fe7543e49d56",
   "metadata": {},
   "outputs": [],
   "source": [
    "#-- Model 2 (Test)--\n",
    "# Check if there is true positive records\n",
    "check_true_positive_test = conf_matrix_test[(conf_matrix_test['target_label'] == \"positive\") & (conf_matrix_test['predicted_label'] == \"positive\")]\n",
    "# extracting the counts of true positive from the confusion matrix, based on the target and predicted labels.\n",
    "if len(check_true_positive_test) == 0:\n",
    "    true_positive_test = 0\n",
    "else:\n",
    "    true_positive_test = conf_matrix_test[(conf_matrix_test['target_label'] == \"positive\") & (conf_matrix_test['predicted_label'] == \"positive\")]['count'][0]\n",
    "\n",
    "\n",
    "# Check if there is false positives records\n",
    "check_false_positive_test = conf_matrix_test[(conf_matrix_test['target_label'] == \"negative\") & (conf_matrix_test['predicted_label'] == \"positive\")]\n",
    "# extracting the counts of false positives from the confusion matrix, based on the target and predicted labels.\n",
    "if len(check_false_positive_test) == 0:\n",
    "    false_positive_test = 0\n",
    "else:\n",
    "    false_positive_test = conf_matrix_test[(conf_matrix_test['target_label'] == \"negative\") & (conf_matrix_test['predicted_label'] == \"positive\")]['count'][0]\n",
    "\n",
    "    \n",
    "# Check if there is false negative records\n",
    "check_false_negative_test = conf_matrix_test[(conf_matrix_test['target_label'] == \"positive\") & (conf_matrix_test['predicted_label'] == \"negative\")]\n",
    "# extracting the counts of false negative from the confusion matrix, based on the target and predicted labels.\n",
    "if len(check_false_negative_test) == 0:\n",
    "    false_negative_test = 0\n",
    "else:\n",
    "    false_negative_test = conf_matrix_test[(conf_matrix_test['target_label'] == \"positive\") & (conf_matrix_test['predicted_label'] == \"negative\")]['count'][0]\n",
    "\n",
    "\n",
    "# Get the Precision Value\n",
    "precision_test = true_positive_test / (true_positive_test + false_positive_test)\n",
    "\n",
    "# Get the Recall Value\n",
    "recall_test = true_positive_test / (true_positive_test + false_negative_test)\n",
    "\n",
    "# Get the f_beta_score\n",
    "f_beta_score_test = (1 + 2**2) * (precision_test * recall2) / ((2**2 * precision_test) + recall_test)"
   ]
  },
  {
   "cell_type": "code",
   "execution_count": 338,
   "id": "963e196f-66fa-49fc-b27e-d72f241aedac",
   "metadata": {},
   "outputs": [
    {
     "name": "stdout",
     "output_type": "stream",
     "text": [
      "Model 2 (Test):\n",
      "Recall: 0.9002347417840375\n",
      "Precision: 0.8759040730871717\n",
      "Fβ Score: 0.8768278212655639\n"
     ]
    }
   ],
   "source": [
    "# Output recall, precision, and Fβ score for both models\n",
    "print(\"Model 2 (Test):\")\n",
    "print(\"Recall:\", recall_test)\n",
    "print(\"Precision:\", precision_test)\n",
    "print(\"Fβ Score:\", f_beta_score_test)"
   ]
  },
  {
   "cell_type": "markdown",
   "id": "3545b9ac-6049-42bc-8416-9db4dc3c279a",
   "metadata": {},
   "source": [
    "### Question 8d"
   ]
  },
  {
   "cell_type": "code",
   "execution_count": 339,
   "id": "03b90f6b-e754-474c-966c-d5533f6c6b08",
   "metadata": {},
   "outputs": [],
   "source": [
    "# For Model 2 (Test)\n",
    "# Prediction probability for model perceptron_model_2 for the validation data\n",
    "prediction_prob_test = perceptron_model_2.predict(test, output_type='probability')"
   ]
  },
  {
   "cell_type": "code",
   "execution_count": 340,
   "id": "728be1ab-0b98-425d-8b41-e1acff38ff95",
   "metadata": {},
   "outputs": [],
   "source": [
    "# Evaluate the ROC \n",
    "roc_data =  tc.evaluation.roc_curve(test['sentiment'], prediction_prob_test)"
   ]
  },
  {
   "cell_type": "code",
   "execution_count": 341,
   "id": "dfcabb47-7d9a-4707-9282-f12d87ff57ec",
   "metadata": {},
   "outputs": [
    {
     "data": {
      "text/html": [
       "<div style=\"max-height:1000px;max-width:1500px;overflow:auto;\"><table frame=\"box\" rules=\"cols\">\n",
       "    <tr>\n",
       "        <th style=\"padding-left: 1em; padding-right: 1em; text-align: center\">threshold</th>\n",
       "        <th style=\"padding-left: 1em; padding-right: 1em; text-align: center\">fpr</th>\n",
       "        <th style=\"padding-left: 1em; padding-right: 1em; text-align: center\">tpr</th>\n",
       "        <th style=\"padding-left: 1em; padding-right: 1em; text-align: center\">p</th>\n",
       "        <th style=\"padding-left: 1em; padding-right: 1em; text-align: center\">n</th>\n",
       "    </tr>\n",
       "    <tr>\n",
       "        <td style=\"padding-left: 1em; padding-right: 1em; text-align: center; vertical-align: top\">0.0</td>\n",
       "        <td style=\"padding-left: 1em; padding-right: 1em; text-align: center; vertical-align: top\">1.0</td>\n",
       "        <td style=\"padding-left: 1em; padding-right: 1em; text-align: center; vertical-align: top\">1.0</td>\n",
       "        <td style=\"padding-left: 1em; padding-right: 1em; text-align: center; vertical-align: top\">2556</td>\n",
       "        <td style=\"padding-left: 1em; padding-right: 1em; text-align: center; vertical-align: top\">2444</td>\n",
       "    </tr>\n",
       "    <tr>\n",
       "        <td style=\"padding-left: 1em; padding-right: 1em; text-align: center; vertical-align: top\">0.001</td>\n",
       "        <td style=\"padding-left: 1em; padding-right: 1em; text-align: center; vertical-align: top\">0.4627659574468085</td>\n",
       "        <td style=\"padding-left: 1em; padding-right: 1em; text-align: center; vertical-align: top\">0.9878716744913928</td>\n",
       "        <td style=\"padding-left: 1em; padding-right: 1em; text-align: center; vertical-align: top\">2556</td>\n",
       "        <td style=\"padding-left: 1em; padding-right: 1em; text-align: center; vertical-align: top\">2444</td>\n",
       "    </tr>\n",
       "    <tr>\n",
       "        <td style=\"padding-left: 1em; padding-right: 1em; text-align: center; vertical-align: top\">0.002</td>\n",
       "        <td style=\"padding-left: 1em; padding-right: 1em; text-align: center; vertical-align: top\">0.42839607201309327</td>\n",
       "        <td style=\"padding-left: 1em; padding-right: 1em; text-align: center; vertical-align: top\">0.9843505477308294</td>\n",
       "        <td style=\"padding-left: 1em; padding-right: 1em; text-align: center; vertical-align: top\">2556</td>\n",
       "        <td style=\"padding-left: 1em; padding-right: 1em; text-align: center; vertical-align: top\">2444</td>\n",
       "    </tr>\n",
       "    <tr>\n",
       "        <td style=\"padding-left: 1em; padding-right: 1em; text-align: center; vertical-align: top\">0.003</td>\n",
       "        <td style=\"padding-left: 1em; padding-right: 1em; text-align: center; vertical-align: top\">0.40384615384615385</td>\n",
       "        <td style=\"padding-left: 1em; padding-right: 1em; text-align: center; vertical-align: top\">0.9823943661971831</td>\n",
       "        <td style=\"padding-left: 1em; padding-right: 1em; text-align: center; vertical-align: top\">2556</td>\n",
       "        <td style=\"padding-left: 1em; padding-right: 1em; text-align: center; vertical-align: top\">2444</td>\n",
       "    </tr>\n",
       "    <tr>\n",
       "        <td style=\"padding-left: 1em; padding-right: 1em; text-align: center; vertical-align: top\">0.004</td>\n",
       "        <td style=\"padding-left: 1em; padding-right: 1em; text-align: center; vertical-align: top\">0.39075286415711946</td>\n",
       "        <td style=\"padding-left: 1em; padding-right: 1em; text-align: center; vertical-align: top\">0.9816118935837246</td>\n",
       "        <td style=\"padding-left: 1em; padding-right: 1em; text-align: center; vertical-align: top\">2556</td>\n",
       "        <td style=\"padding-left: 1em; padding-right: 1em; text-align: center; vertical-align: top\">2444</td>\n",
       "    </tr>\n",
       "    <tr>\n",
       "        <td style=\"padding-left: 1em; padding-right: 1em; text-align: center; vertical-align: top\">0.005</td>\n",
       "        <td style=\"padding-left: 1em; padding-right: 1em; text-align: center; vertical-align: top\">0.37684124386252044</td>\n",
       "        <td style=\"padding-left: 1em; padding-right: 1em; text-align: center; vertical-align: top\">0.9796557120500783</td>\n",
       "        <td style=\"padding-left: 1em; padding-right: 1em; text-align: center; vertical-align: top\">2556</td>\n",
       "        <td style=\"padding-left: 1em; padding-right: 1em; text-align: center; vertical-align: top\">2444</td>\n",
       "    </tr>\n",
       "    <tr>\n",
       "        <td style=\"padding-left: 1em; padding-right: 1em; text-align: center; vertical-align: top\">0.006</td>\n",
       "        <td style=\"padding-left: 1em; padding-right: 1em; text-align: center; vertical-align: top\">0.36620294599018005</td>\n",
       "        <td style=\"padding-left: 1em; padding-right: 1em; text-align: center; vertical-align: top\">0.9780907668231612</td>\n",
       "        <td style=\"padding-left: 1em; padding-right: 1em; text-align: center; vertical-align: top\">2556</td>\n",
       "        <td style=\"padding-left: 1em; padding-right: 1em; text-align: center; vertical-align: top\">2444</td>\n",
       "    </tr>\n",
       "    <tr>\n",
       "        <td style=\"padding-left: 1em; padding-right: 1em; text-align: center; vertical-align: top\">0.007</td>\n",
       "        <td style=\"padding-left: 1em; padding-right: 1em; text-align: center; vertical-align: top\">0.35801963993453356</td>\n",
       "        <td style=\"padding-left: 1em; padding-right: 1em; text-align: center; vertical-align: top\">0.9769170579029735</td>\n",
       "        <td style=\"padding-left: 1em; padding-right: 1em; text-align: center; vertical-align: top\">2556</td>\n",
       "        <td style=\"padding-left: 1em; padding-right: 1em; text-align: center; vertical-align: top\">2444</td>\n",
       "    </tr>\n",
       "    <tr>\n",
       "        <td style=\"padding-left: 1em; padding-right: 1em; text-align: center; vertical-align: top\">0.008</td>\n",
       "        <td style=\"padding-left: 1em; padding-right: 1em; text-align: center; vertical-align: top\">0.352291325695581</td>\n",
       "        <td style=\"padding-left: 1em; padding-right: 1em; text-align: center; vertical-align: top\">0.9757433489827856</td>\n",
       "        <td style=\"padding-left: 1em; padding-right: 1em; text-align: center; vertical-align: top\">2556</td>\n",
       "        <td style=\"padding-left: 1em; padding-right: 1em; text-align: center; vertical-align: top\">2444</td>\n",
       "    </tr>\n",
       "    <tr>\n",
       "        <td style=\"padding-left: 1em; padding-right: 1em; text-align: center; vertical-align: top\">0.009</td>\n",
       "        <td style=\"padding-left: 1em; padding-right: 1em; text-align: center; vertical-align: top\">0.34779050736497547</td>\n",
       "        <td style=\"padding-left: 1em; padding-right: 1em; text-align: center; vertical-align: top\">0.974960876369327</td>\n",
       "        <td style=\"padding-left: 1em; padding-right: 1em; text-align: center; vertical-align: top\">2556</td>\n",
       "        <td style=\"padding-left: 1em; padding-right: 1em; text-align: center; vertical-align: top\">2444</td>\n",
       "    </tr>\n",
       "</table>\n",
       "[10 rows x 5 columns]<br/>\n",
       "</div>"
      ],
      "text/plain": [
       "Columns:\n",
       "\tthreshold\tfloat\n",
       "\tfpr\tfloat\n",
       "\ttpr\tfloat\n",
       "\tp\tint\n",
       "\tn\tint\n",
       "\n",
       "Rows: 10\n",
       "\n",
       "Data:\n",
       "+-----------+---------------------+--------------------+------+------+\n",
       "| threshold |         fpr         |        tpr         |  p   |  n   |\n",
       "+-----------+---------------------+--------------------+------+------+\n",
       "|    0.0    |         1.0         |        1.0         | 2556 | 2444 |\n",
       "|   0.001   |  0.4627659574468085 | 0.9878716744913928 | 2556 | 2444 |\n",
       "|   0.002   | 0.42839607201309327 | 0.9843505477308294 | 2556 | 2444 |\n",
       "|   0.003   | 0.40384615384615385 | 0.9823943661971831 | 2556 | 2444 |\n",
       "|   0.004   | 0.39075286415711946 | 0.9816118935837246 | 2556 | 2444 |\n",
       "|   0.005   | 0.37684124386252044 | 0.9796557120500783 | 2556 | 2444 |\n",
       "|   0.006   | 0.36620294599018005 | 0.9780907668231612 | 2556 | 2444 |\n",
       "|   0.007   | 0.35801963993453356 | 0.9769170579029735 | 2556 | 2444 |\n",
       "|   0.008   |  0.352291325695581  | 0.9757433489827856 | 2556 | 2444 |\n",
       "|   0.009   | 0.34779050736497547 | 0.974960876369327  | 2556 | 2444 |\n",
       "+-----------+---------------------+--------------------+------+------+\n",
       "[10 rows x 5 columns]"
      ]
     },
     "metadata": {},
     "output_type": "display_data"
    },
    {
     "data": {
      "text/html": [
       "<div style=\"max-height:1000px;max-width:1500px;overflow:auto;\"><table frame=\"box\" rules=\"cols\">\n",
       "    <tr>\n",
       "        <th style=\"padding-left: 1em; padding-right: 1em; text-align: center\">threshold</th>\n",
       "        <th style=\"padding-left: 1em; padding-right: 1em; text-align: center\">fpr</th>\n",
       "        <th style=\"padding-left: 1em; padding-right: 1em; text-align: center\">tpr</th>\n",
       "        <th style=\"padding-left: 1em; padding-right: 1em; text-align: center\">p</th>\n",
       "        <th style=\"padding-left: 1em; padding-right: 1em; text-align: center\">n</th>\n",
       "    </tr>\n",
       "    <tr>\n",
       "        <td style=\"padding-left: 1em; padding-right: 1em; text-align: center; vertical-align: top\">0.991</td>\n",
       "        <td style=\"padding-left: 1em; padding-right: 1em; text-align: center; vertical-align: top\">0.03764320785597381</td>\n",
       "        <td style=\"padding-left: 1em; padding-right: 1em; text-align: center; vertical-align: top\">0.6713615023474179</td>\n",
       "        <td style=\"padding-left: 1em; padding-right: 1em; text-align: center; vertical-align: top\">2556</td>\n",
       "        <td style=\"padding-left: 1em; padding-right: 1em; text-align: center; vertical-align: top\">2444</td>\n",
       "    </tr>\n",
       "    <tr>\n",
       "        <td style=\"padding-left: 1em; padding-right: 1em; text-align: center; vertical-align: top\">0.992</td>\n",
       "        <td style=\"padding-left: 1em; padding-right: 1em; text-align: center; vertical-align: top\">0.035597381342062195</td>\n",
       "        <td style=\"padding-left: 1em; padding-right: 1em; text-align: center; vertical-align: top\">0.6651017214397497</td>\n",
       "        <td style=\"padding-left: 1em; padding-right: 1em; text-align: center; vertical-align: top\">2556</td>\n",
       "        <td style=\"padding-left: 1em; padding-right: 1em; text-align: center; vertical-align: top\">2444</td>\n",
       "    </tr>\n",
       "    <tr>\n",
       "        <td style=\"padding-left: 1em; padding-right: 1em; text-align: center; vertical-align: top\">0.993</td>\n",
       "        <td style=\"padding-left: 1em; padding-right: 1em; text-align: center; vertical-align: top\">0.035597381342062195</td>\n",
       "        <td style=\"padding-left: 1em; padding-right: 1em; text-align: center; vertical-align: top\">0.6564945226917058</td>\n",
       "        <td style=\"padding-left: 1em; padding-right: 1em; text-align: center; vertical-align: top\">2556</td>\n",
       "        <td style=\"padding-left: 1em; padding-right: 1em; text-align: center; vertical-align: top\">2444</td>\n",
       "    </tr>\n",
       "    <tr>\n",
       "        <td style=\"padding-left: 1em; padding-right: 1em; text-align: center; vertical-align: top\">0.994</td>\n",
       "        <td style=\"padding-left: 1em; padding-right: 1em; text-align: center; vertical-align: top\">0.03477905073649754</td>\n",
       "        <td style=\"padding-left: 1em; padding-right: 1em; text-align: center; vertical-align: top\">0.647887323943662</td>\n",
       "        <td style=\"padding-left: 1em; padding-right: 1em; text-align: center; vertical-align: top\">2556</td>\n",
       "        <td style=\"padding-left: 1em; padding-right: 1em; text-align: center; vertical-align: top\">2444</td>\n",
       "    </tr>\n",
       "    <tr>\n",
       "        <td style=\"padding-left: 1em; padding-right: 1em; text-align: center; vertical-align: top\">0.995</td>\n",
       "        <td style=\"padding-left: 1em; padding-right: 1em; text-align: center; vertical-align: top\">0.032324058919803604</td>\n",
       "        <td style=\"padding-left: 1em; padding-right: 1em; text-align: center; vertical-align: top\">0.6365414710485133</td>\n",
       "        <td style=\"padding-left: 1em; padding-right: 1em; text-align: center; vertical-align: top\">2556</td>\n",
       "        <td style=\"padding-left: 1em; padding-right: 1em; text-align: center; vertical-align: top\">2444</td>\n",
       "    </tr>\n",
       "    <tr>\n",
       "        <td style=\"padding-left: 1em; padding-right: 1em; text-align: center; vertical-align: top\">0.996</td>\n",
       "        <td style=\"padding-left: 1em; padding-right: 1em; text-align: center; vertical-align: top\">0.032324058919803604</td>\n",
       "        <td style=\"padding-left: 1em; padding-right: 1em; text-align: center; vertical-align: top\">0.6232394366197183</td>\n",
       "        <td style=\"padding-left: 1em; padding-right: 1em; text-align: center; vertical-align: top\">2556</td>\n",
       "        <td style=\"padding-left: 1em; padding-right: 1em; text-align: center; vertical-align: top\">2444</td>\n",
       "    </tr>\n",
       "    <tr>\n",
       "        <td style=\"padding-left: 1em; padding-right: 1em; text-align: center; vertical-align: top\">0.997</td>\n",
       "        <td style=\"padding-left: 1em; padding-right: 1em; text-align: center; vertical-align: top\">0.029869067103109655</td>\n",
       "        <td style=\"padding-left: 1em; padding-right: 1em; text-align: center; vertical-align: top\">0.6028951486697965</td>\n",
       "        <td style=\"padding-left: 1em; padding-right: 1em; text-align: center; vertical-align: top\">2556</td>\n",
       "        <td style=\"padding-left: 1em; padding-right: 1em; text-align: center; vertical-align: top\">2444</td>\n",
       "    </tr>\n",
       "    <tr>\n",
       "        <td style=\"padding-left: 1em; padding-right: 1em; text-align: center; vertical-align: top\">0.998</td>\n",
       "        <td style=\"padding-left: 1em; padding-right: 1em; text-align: center; vertical-align: top\">0.027414075286415714</td>\n",
       "        <td style=\"padding-left: 1em; padding-right: 1em; text-align: center; vertical-align: top\">0.5805946791862285</td>\n",
       "        <td style=\"padding-left: 1em; padding-right: 1em; text-align: center; vertical-align: top\">2556</td>\n",
       "        <td style=\"padding-left: 1em; padding-right: 1em; text-align: center; vertical-align: top\">2444</td>\n",
       "    </tr>\n",
       "    <tr>\n",
       "        <td style=\"padding-left: 1em; padding-right: 1em; text-align: center; vertical-align: top\">0.999</td>\n",
       "        <td style=\"padding-left: 1em; padding-right: 1em; text-align: center; vertical-align: top\">0.0220949263502455</td>\n",
       "        <td style=\"padding-left: 1em; padding-right: 1em; text-align: center; vertical-align: top\">0.5414710485133021</td>\n",
       "        <td style=\"padding-left: 1em; padding-right: 1em; text-align: center; vertical-align: top\">2556</td>\n",
       "        <td style=\"padding-left: 1em; padding-right: 1em; text-align: center; vertical-align: top\">2444</td>\n",
       "    </tr>\n",
       "    <tr>\n",
       "        <td style=\"padding-left: 1em; padding-right: 1em; text-align: center; vertical-align: top\">1.0</td>\n",
       "        <td style=\"padding-left: 1em; padding-right: 1em; text-align: center; vertical-align: top\">0.0</td>\n",
       "        <td style=\"padding-left: 1em; padding-right: 1em; text-align: center; vertical-align: top\">0.0</td>\n",
       "        <td style=\"padding-left: 1em; padding-right: 1em; text-align: center; vertical-align: top\">2556</td>\n",
       "        <td style=\"padding-left: 1em; padding-right: 1em; text-align: center; vertical-align: top\">2444</td>\n",
       "    </tr>\n",
       "</table>\n",
       "[10 rows x 5 columns]<br/>\n",
       "</div>"
      ],
      "text/plain": [
       "Columns:\n",
       "\tthreshold\tfloat\n",
       "\tfpr\tfloat\n",
       "\ttpr\tfloat\n",
       "\tp\tint\n",
       "\tn\tint\n",
       "\n",
       "Rows: 10\n",
       "\n",
       "Data:\n",
       "+-----------+----------------------+--------------------+------+------+\n",
       "| threshold |         fpr          |        tpr         |  p   |  n   |\n",
       "+-----------+----------------------+--------------------+------+------+\n",
       "|   0.991   | 0.03764320785597381  | 0.6713615023474179 | 2556 | 2444 |\n",
       "|   0.992   | 0.035597381342062195 | 0.6651017214397497 | 2556 | 2444 |\n",
       "|   0.993   | 0.035597381342062195 | 0.6564945226917058 | 2556 | 2444 |\n",
       "|   0.994   | 0.03477905073649754  | 0.647887323943662  | 2556 | 2444 |\n",
       "|   0.995   | 0.032324058919803604 | 0.6365414710485133 | 2556 | 2444 |\n",
       "|   0.996   | 0.032324058919803604 | 0.6232394366197183 | 2556 | 2444 |\n",
       "|   0.997   | 0.029869067103109655 | 0.6028951486697965 | 2556 | 2444 |\n",
       "|   0.998   | 0.027414075286415714 | 0.5805946791862285 | 2556 | 2444 |\n",
       "|   0.999   |  0.0220949263502455  | 0.5414710485133021 | 2556 | 2444 |\n",
       "|    1.0    |         0.0          |        0.0         | 2556 | 2444 |\n",
       "+-----------+----------------------+--------------------+------+------+\n",
       "[10 rows x 5 columns]"
      ]
     },
     "metadata": {},
     "output_type": "display_data"
    }
   ],
   "source": [
    "# Display the first and the last 10 records of roc data\n",
    "display(roc_data.head())\n",
    "display(roc_data.tail())"
   ]
  },
  {
   "cell_type": "code",
   "execution_count": 342,
   "id": "bd6ce348-7e33-438e-a65f-16dd380305f8",
   "metadata": {},
   "outputs": [
    {
     "data": {
      "text/plain": [
       "[<matplotlib.lines.Line2D at 0x7f75f8785190>]"
      ]
     },
     "execution_count": 342,
     "metadata": {},
     "output_type": "execute_result"
    },
    {
     "data": {
      "image/png": "[encoded data removed]",
      "text/plain": [
       "<Figure size 640x480 with 1 Axes>"
      ]
     },
     "metadata": {},
     "output_type": "display_data"
    }
   ],
   "source": [
    "# Plot the ROC curve\n",
    "roc_x = roc_data['tpr']\n",
    "roc_y = 1 - roc_data['fpr']\n",
    "plt.plot(roc_x, roc_y)"
   ]
  },
  {
   "cell_type": "code",
   "execution_count": 343,
   "id": "61d5b0b4-093b-4f2c-8e88-d787704f4e2b",
   "metadata": {},
   "outputs": [
    {
     "data": {
      "text/plain": [
       "0.9381372797614936"
      ]
     },
     "execution_count": 343,
     "metadata": {},
     "output_type": "execute_result"
    }
   ],
   "source": [
    "# Evaluate the AUC\n",
    "auc =  tc.evaluation.auc(test['sentiment'], prediction_prob_test)\n",
    "\n",
    "# Output the AUC\n",
    "auc"
   ]
  },
  {
   "cell_type": "code",
   "execution_count": null,
   "id": "abce700a-23fb-4661-b137-d8a3fdec794a",
   "metadata": {},
   "outputs": [],
   "source": []
  }
 ],
 "metadata": {
  "kernelspec": {
   "display_name": "Python 3 (ipykernel)",
   "language": "python",
   "name": "python3"
  },
  "language_info": {
   "codemirror_mode": {
    "name": "ipython",
    "version": 3
   },
   "file_extension": ".py",
   "mimetype": "text/x-python",
   "name": "python",
   "nbconvert_exporter": "python",
   "pygments_lexer": "ipython3",
   "version": "3.11.5"
  }
 },
 "nbformat": 4,
 "nbformat_minor": 5
}
