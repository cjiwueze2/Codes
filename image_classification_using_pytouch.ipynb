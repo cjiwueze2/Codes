{
 "cells": [
  {
   "cell_type": "markdown",
   "id": "f54ca909-4fee-4722-8d53-7250fe6eb919",
   "metadata": {},
   "source": [
    "## Image Classification With Pytouch"
   ]
  },
  {
   "cell_type": "code",
   "execution_count": 58,
   "id": "330b425c-083f-4599-bbe1-a0830d5e7cdf",
   "metadata": {},
   "outputs": [],
   "source": [
    "import pickle\n",
    "import numpy as np\n",
    "import matplotlib.pyplot as plt\n",
    "import random\n",
    "\n",
    "import torch\n",
    "import torch.nn as nn\n",
    "import torch.optim as optim\n",
    "#import torch.nn.functional as F\n",
    "from torch.utils.data import DataLoader, TensorDataset, random_split\n"
   ]
  },
  {
   "cell_type": "code",
   "execution_count": 29,
   "id": "12c3ce6b-6788-4faa-a21f-d84c12cc2c30",
   "metadata": {},
   "outputs": [],
   "source": [
    "with open('mnist.pkl', 'rb') as f:\n",
    "    data = pickle.load(f)\n",
    "    \n",
    "images = data['images']\n",
    "labels = data['labels']"
   ]
  },
  {
   "cell_type": "code",
   "execution_count": 49,
   "id": "9c2ba150-c2a5-4d75-badb-7b76ffce9b2f",
   "metadata": {},
   "outputs": [],
   "source": [
    "## Define a Training/Testing Loop\n",
    "def process_dataset(title, num_epochs, train_loader):\n",
    "    print(\"*********************** \", title, \" ************************\")\n",
    "    # Example training loop in PyTorch\n",
    "    for epoch in range(num_epochs):\n",
    "        total_loss = 0\n",
    "        correct = 0\n",
    "        total = 0\n",
    "        for images, labels in train_loader:\n",
    "            # Flatten the images (28x28 -> 784)\n",
    "            images = images.view(-1, 784)\n",
    "            \n",
    "            # Forward pass\n",
    "            outputs = model(images)\n",
    "            \n",
    "            # Compute loss\n",
    "            loss = loss_fn(outputs, labels)\n",
    "            \n",
    "            # Backward pass and optimization\n",
    "            optimizer.zero_grad()  # Zero the gradients before backpropagation\n",
    "            loss.backward()        # Backpropagation\n",
    "            optimizer.step()       # Update weights\n",
    "            # Accumulate loss\n",
    "            total_loss += loss.item()\n",
    "    \n",
    "            # Calculate accuracy\n",
    "            _, predicted = torch.max(outputs.data, 1)  # Get the index of the max log-probability (predicted class)\n",
    "            total += labels.size(0)                    # Total number of labels\n",
    "            correct += (predicted == labels).sum().item()  # Sum the correct predictions\n",
    "    \n",
    "        # Calculate average loss and accuracy for the epoch\n",
    "        avg_loss = total_loss / len(train_loader)\n",
    "        accuracy = 100 * correct / total\n",
    "    \n",
    "        # Print epoch statistics\n",
    "        print(f'Epoch [{epoch+1}/{num_epochs}], Loss: {avg_loss:.4f}, Accuracy: {accuracy:.2f}%')\n",
    "        "
   ]
  },
  {
   "cell_type": "code",
   "execution_count": 30,
   "id": "128031ee-8c3f-4b03-babc-61d1d556f467",
   "metadata": {},
   "outputs": [
    {
     "name": "stdout",
     "output_type": "stream",
     "text": [
      "(10000, 28, 28)\n"
     ]
    },
    {
     "data": {
      "text/plain": [
       "array([[  0,   0,   0,   0,   0,   0,   0,   0,   0,   0,   0,   0,   0,\n",
       "          0,   0,   0,   0,   0,   0,   0,   0,   0,   0,   0,   0,   0,\n",
       "          0,   0],\n",
       "       [  0,   0,   0,   0,   0,   0,   0,   0,   0,   0,   0,   0,   0,\n",
       "          0,   0,   0,   0,   0,   0,   0,   0,   0,   0,   0,   0,   0,\n",
       "          0,   0],\n",
       "       [  0,   0,   0,   0,   0,   0,   0,   0,   0,   0,   0,   0,   0,\n",
       "          0,   0,   0,   0,   0,   0,   0,   0,   0,   0,   0,   0,   0,\n",
       "          0,   0],\n",
       "       [  0,   0,   0,   0,   0,   0,   0,   0,   0,   0,   0,   0,   0,\n",
       "          0,   0,   0,   0,   0,   0,   0,   0,   0,   0,   0,   0,   0,\n",
       "          0,   0],\n",
       "       [  0,   0,   0,   0,   0,   0,   0,   0,   0,   0,   0,   0,   0,\n",
       "          0,   0,  51, 159, 253, 159,  50,   0,   0,   0,   0,   0,   0,\n",
       "          0,   0],\n",
       "       [  0,   0,   0,   0,   0,   0,   0,   0,   0,   0,   0,   0,   0,\n",
       "          0,  48, 238, 252, 252, 252, 237,   0,   0,   0,   0,   0,   0,\n",
       "          0,   0],\n",
       "       [  0,   0,   0,   0,   0,   0,   0,   0,   0,   0,   0,   0,   0,\n",
       "         54, 227, 253, 252, 239, 233, 252,  57,   6,   0,   0,   0,   0,\n",
       "          0,   0],\n",
       "       [  0,   0,   0,   0,   0,   0,   0,   0,   0,   0,   0,  10,  60,\n",
       "        224, 252, 253, 252, 202,  84, 252, 253, 122,   0,   0,   0,   0,\n",
       "          0,   0],\n",
       "       [  0,   0,   0,   0,   0,   0,   0,   0,   0,   0,   0, 163, 252,\n",
       "        252, 252, 253, 252, 252,  96, 189, 253, 167,   0,   0,   0,   0,\n",
       "          0,   0],\n",
       "       [  0,   0,   0,   0,   0,   0,   0,   0,   0,   0,  51, 238, 253,\n",
       "        253, 190, 114, 253, 228,  47,  79, 255, 168,   0,   0,   0,   0,\n",
       "          0,   0],\n",
       "       [  0,   0,   0,   0,   0,   0,   0,   0,   0,  48, 238, 252, 252,\n",
       "        179,  12,  75, 121,  21,   0,   0, 253, 243,  50,   0,   0,   0,\n",
       "          0,   0],\n",
       "       [  0,   0,   0,   0,   0,   0,   0,   0,  38, 165, 253, 233, 208,\n",
       "         84,   0,   0,   0,   0,   0,   0, 253, 252, 165,   0,   0,   0,\n",
       "          0,   0],\n",
       "       [  0,   0,   0,   0,   0,   0,   0,   7, 178, 252, 240,  71,  19,\n",
       "         28,   0,   0,   0,   0,   0,   0, 253, 252, 195,   0,   0,   0,\n",
       "          0,   0],\n",
       "       [  0,   0,   0,   0,   0,   0,   0,  57, 252, 252,  63,   0,   0,\n",
       "          0,   0,   0,   0,   0,   0,   0, 253, 252, 195,   0,   0,   0,\n",
       "          0,   0],\n",
       "       [  0,   0,   0,   0,   0,   0,   0, 198, 253, 190,   0,   0,   0,\n",
       "          0,   0,   0,   0,   0,   0,   0, 255, 253, 196,   0,   0,   0,\n",
       "          0,   0],\n",
       "       [  0,   0,   0,   0,   0,   0,  76, 246, 252, 112,   0,   0,   0,\n",
       "          0,   0,   0,   0,   0,   0,   0, 253, 252, 148,   0,   0,   0,\n",
       "          0,   0],\n",
       "       [  0,   0,   0,   0,   0,   0,  85, 252, 230,  25,   0,   0,   0,\n",
       "          0,   0,   0,   0,   0,   7, 135, 253, 186,  12,   0,   0,   0,\n",
       "          0,   0],\n",
       "       [  0,   0,   0,   0,   0,   0,  85, 252, 223,   0,   0,   0,   0,\n",
       "          0,   0,   0,   0,   7, 131, 252, 225,  71,   0,   0,   0,   0,\n",
       "          0,   0],\n",
       "       [  0,   0,   0,   0,   0,   0,  85, 252, 145,   0,   0,   0,   0,\n",
       "          0,   0,   0,  48, 165, 252, 173,   0,   0,   0,   0,   0,   0,\n",
       "          0,   0],\n",
       "       [  0,   0,   0,   0,   0,   0,  86, 253, 225,   0,   0,   0,   0,\n",
       "          0,   0, 114, 238, 253, 162,   0,   0,   0,   0,   0,   0,   0,\n",
       "          0,   0],\n",
       "       [  0,   0,   0,   0,   0,   0,  85, 252, 249, 146,  48,  29,  85,\n",
       "        178, 225, 253, 223, 167,  56,   0,   0,   0,   0,   0,   0,   0,\n",
       "          0,   0],\n",
       "       [  0,   0,   0,   0,   0,   0,  85, 252, 252, 252, 229, 215, 252,\n",
       "        252, 252, 196, 130,   0,   0,   0,   0,   0,   0,   0,   0,   0,\n",
       "          0,   0],\n",
       "       [  0,   0,   0,   0,   0,   0,  28, 199, 252, 252, 253, 252, 252,\n",
       "        233, 145,   0,   0,   0,   0,   0,   0,   0,   0,   0,   0,   0,\n",
       "          0,   0],\n",
       "       [  0,   0,   0,   0,   0,   0,   0,  25, 128, 252, 253, 252, 141,\n",
       "         37,   0,   0,   0,   0,   0,   0,   0,   0,   0,   0,   0,   0,\n",
       "          0,   0],\n",
       "       [  0,   0,   0,   0,   0,   0,   0,   0,   0,   0,   0,   0,   0,\n",
       "          0,   0,   0,   0,   0,   0,   0,   0,   0,   0,   0,   0,   0,\n",
       "          0,   0],\n",
       "       [  0,   0,   0,   0,   0,   0,   0,   0,   0,   0,   0,   0,   0,\n",
       "          0,   0,   0,   0,   0,   0,   0,   0,   0,   0,   0,   0,   0,\n",
       "          0,   0],\n",
       "       [  0,   0,   0,   0,   0,   0,   0,   0,   0,   0,   0,   0,   0,\n",
       "          0,   0,   0,   0,   0,   0,   0,   0,   0,   0,   0,   0,   0,\n",
       "          0,   0],\n",
       "       [  0,   0,   0,   0,   0,   0,   0,   0,   0,   0,   0,   0,   0,\n",
       "          0,   0,   0,   0,   0,   0,   0,   0,   0,   0,   0,   0,   0,\n",
       "          0,   0]], dtype=uint8)"
      ]
     },
     "execution_count": 30,
     "metadata": {},
     "output_type": "execute_result"
    }
   ],
   "source": [
    "print(images.shape)\n",
    "images[1]"
   ]
  },
  {
   "cell_type": "code",
   "execution_count": 31,
   "id": "27a6e50b-6ee8-4586-a16a-c21a8ecd7c6d",
   "metadata": {},
   "outputs": [
    {
     "name": "stdout",
     "output_type": "stream",
     "text": [
      "(10000,)\n"
     ]
    },
    {
     "data": {
      "text/plain": [
       "0"
      ]
     },
     "execution_count": 31,
     "metadata": {},
     "output_type": "execute_result"
    }
   ],
   "source": [
    "print(labels.shape)\n",
    "labels[1]"
   ]
  },
  {
   "cell_type": "code",
   "execution_count": 32,
   "id": "d3f6a503-38fc-456e-aaac-0a674aa6defa",
   "metadata": {},
   "outputs": [
    {
     "data": {
      "image/png": "[encoded data removed]",
      "text/plain": [
       "<Figure size 1000x700 with 10 Axes>"
      ]
     },
     "metadata": {},
     "output_type": "display_data"
    }
   ],
   "source": [
    "plt.figure(figsize=(10, 7))\n",
    "for i in range(10):\n",
    "    plt.subplot(2, 5, i + 1)\n",
    "    plt.imshow(images[i*i], cmap='gray')\n",
    "    plt.title(labels[i*i])\n",
    "    plt.axis('off')"
   ]
  },
  {
   "cell_type": "markdown",
   "id": "96de7379-1748-4d44-8b7d-e6dd7ae65938",
   "metadata": {},
   "source": [
    "### Convert Images to Pytouch Tensors"
   ]
  },
  {
   "cell_type": "code",
   "execution_count": 33,
   "id": "486a29ab-cae0-49d2-8169-8d2acf6c351e",
   "metadata": {},
   "outputs": [],
   "source": [
    "# Convert the images and labels to PyTorch tensors\n",
    "images = torch.tensor(images, dtype=torch.float32)\n",
    "labels = torch.tensor(labels, dtype=torch.long)"
   ]
  },
  {
   "cell_type": "code",
   "execution_count": 34,
   "id": "aeb35e30-bb35-42f2-8f0e-ad8e2f83e610",
   "metadata": {},
   "outputs": [],
   "source": [
    "# Normalize the images\n",
    "images = images / 255.0"
   ]
  },
  {
   "cell_type": "code",
   "execution_count": 35,
   "id": "54fea3fd-b972-4a19-b15e-bc11b77cf5fc",
   "metadata": {},
   "outputs": [],
   "source": [
    "# Create a dataset and data loader\n",
    "dataset = TensorDataset(images, labels)\n",
    "\n",
    "# Split the dataset into training and testing\n",
    "train_size = int(0.8 * len(dataset))\n",
    "test_size = len(dataset) - train_size\n",
    "train_dataset, test_dataset = random_split(dataset, [train_size, test_size])\n"
   ]
  },
  {
   "cell_type": "code",
   "execution_count": 36,
   "id": "79234046-8d1c-4b07-803b-2c482e6222c9",
   "metadata": {},
   "outputs": [],
   "source": [
    "train_loader = DataLoader(train_dataset, batch_size=64, shuffle=True)\n",
    "test_loader = DataLoader(test_dataset, batch_size=64, shuffle=False)\n"
   ]
  },
  {
   "cell_type": "code",
   "execution_count": 42,
   "id": "1c74e2a3-e287-47a8-8d3e-1a086a6471ca",
   "metadata": {},
   "outputs": [],
   "source": [
    "### Create the Model using torch.nn.Sequential\n",
    "model = nn.Sequential(\n",
    "    nn.Linear(784, 600),  # Input layer (784 features) and first hidden layer (600 units)\n",
    "    nn.ReLU(),            # ReLU activation function\n",
    "    nn.Linear(600, 10),   # Second layer with 10 output units (for 10 classes)\n",
    "    nn.Softmax(dim=1)     # Softmax activation for multi-class classification\n",
    ")"
   ]
  },
  {
   "cell_type": "code",
   "execution_count": 43,
   "id": "448eac8e-356b-4f95-951a-f21e626f6e5f",
   "metadata": {},
   "outputs": [],
   "source": [
    "# Define the loss function and optimizer\n",
    "loss_fn = nn.CrossEntropyLoss()  # PyTorch's cross-entropy loss includes softmax\n",
    "optimizer = optim.Adam(model.parameters(), lr=0.001)"
   ]
  },
  {
   "cell_type": "code",
   "execution_count": 51,
   "id": "ebc1249e-4d71-4533-8a12-baf3e063ef3a",
   "metadata": {},
   "outputs": [
    {
     "name": "stdout",
     "output_type": "stream",
     "text": [
      "***********************  ON TRAIN DATASET  ************************\n",
      "Epoch [1/50], Loss: 1.4784, Accuracy: 98.35%\n",
      "Epoch [2/50], Loss: 1.4730, Accuracy: 98.91%\n",
      "Epoch [3/50], Loss: 1.4716, Accuracy: 98.99%\n",
      "Epoch [4/50], Loss: 1.4700, Accuracy: 99.11%\n",
      "Epoch [5/50], Loss: 1.4698, Accuracy: 99.14%\n",
      "Epoch [6/50], Loss: 1.4697, Accuracy: 99.14%\n",
      "Epoch [7/50], Loss: 1.4695, Accuracy: 99.16%\n",
      "Epoch [8/50], Loss: 1.4695, Accuracy: 99.16%\n",
      "Epoch [9/50], Loss: 1.4695, Accuracy: 99.16%\n",
      "Epoch [10/50], Loss: 1.4702, Accuracy: 99.11%\n",
      "Epoch [11/50], Loss: 1.4718, Accuracy: 98.96%\n",
      "Epoch [12/50], Loss: 1.4710, Accuracy: 99.06%\n",
      "Epoch [13/50], Loss: 1.4709, Accuracy: 99.05%\n",
      "Epoch [14/50], Loss: 1.4722, Accuracy: 98.99%\n",
      "Epoch [15/50], Loss: 1.4697, Accuracy: 99.17%\n",
      "Epoch [16/50], Loss: 1.4691, Accuracy: 99.20%\n",
      "Epoch [17/50], Loss: 1.4687, Accuracy: 99.24%\n",
      "Epoch [18/50], Loss: 1.4687, Accuracy: 99.24%\n",
      "Epoch [19/50], Loss: 1.4686, Accuracy: 99.25%\n",
      "Epoch [20/50], Loss: 1.4686, Accuracy: 99.25%\n",
      "Epoch [21/50], Loss: 1.4695, Accuracy: 99.16%\n",
      "Epoch [22/50], Loss: 1.4701, Accuracy: 99.14%\n",
      "Epoch [23/50], Loss: 1.4693, Accuracy: 99.22%\n",
      "Epoch [24/50], Loss: 1.4688, Accuracy: 99.25%\n",
      "Epoch [25/50], Loss: 1.4682, Accuracy: 99.29%\n",
      "Epoch [26/50], Loss: 1.4682, Accuracy: 99.29%\n",
      "Epoch [27/50], Loss: 1.4682, Accuracy: 99.29%\n",
      "Epoch [28/50], Loss: 1.4682, Accuracy: 99.29%\n",
      "Epoch [29/50], Loss: 1.4682, Accuracy: 99.29%\n",
      "Epoch [30/50], Loss: 1.4685, Accuracy: 99.28%\n",
      "Epoch [31/50], Loss: 1.4696, Accuracy: 99.16%\n",
      "Epoch [32/50], Loss: 1.4708, Accuracy: 99.10%\n",
      "Epoch [33/50], Loss: 1.4689, Accuracy: 99.24%\n",
      "Epoch [34/50], Loss: 1.4700, Accuracy: 99.16%\n",
      "Epoch [35/50], Loss: 1.4686, Accuracy: 99.28%\n",
      "Epoch [36/50], Loss: 1.4685, Accuracy: 99.29%\n",
      "Epoch [37/50], Loss: 1.4677, Accuracy: 99.35%\n",
      "Epoch [38/50], Loss: 1.4676, Accuracy: 99.35%\n",
      "Epoch [39/50], Loss: 1.4676, Accuracy: 99.35%\n",
      "Epoch [40/50], Loss: 1.4676, Accuracy: 99.35%\n",
      "Epoch [41/50], Loss: 1.4676, Accuracy: 99.35%\n",
      "Epoch [42/50], Loss: 1.4676, Accuracy: 99.35%\n",
      "Epoch [43/50], Loss: 1.4676, Accuracy: 99.35%\n",
      "Epoch [44/50], Loss: 1.4676, Accuracy: 99.35%\n",
      "Epoch [45/50], Loss: 1.4676, Accuracy: 99.35%\n",
      "Epoch [46/50], Loss: 1.4676, Accuracy: 99.35%\n",
      "Epoch [47/50], Loss: 1.4676, Accuracy: 99.35%\n",
      "Epoch [48/50], Loss: 1.4676, Accuracy: 99.35%\n",
      "Epoch [49/50], Loss: 1.4676, Accuracy: 99.35%\n",
      "Epoch [50/50], Loss: 1.4676, Accuracy: 99.35%\n"
     ]
    }
   ],
   "source": [
    "process_dataset(\"ON TRAIN DATASET\", 50, train_loader)"
   ]
  },
  {
   "cell_type": "code",
   "execution_count": 52,
   "id": "b7224406-d578-499c-bc37-1de4c8053196",
   "metadata": {},
   "outputs": [
    {
     "name": "stdout",
     "output_type": "stream",
     "text": [
      "***********************  ON TEST DATASET  ************************\n",
      "Epoch [1/25], Loss: 1.4914, Accuracy: 97.15%\n",
      "Epoch [2/25], Loss: 1.4875, Accuracy: 97.35%\n",
      "Epoch [3/25], Loss: 1.4817, Accuracy: 98.00%\n",
      "Epoch [4/25], Loss: 1.4788, Accuracy: 98.20%\n",
      "Epoch [5/25], Loss: 1.4756, Accuracy: 98.55%\n",
      "Epoch [6/25], Loss: 1.4742, Accuracy: 98.65%\n",
      "Epoch [7/25], Loss: 1.4726, Accuracy: 98.80%\n",
      "Epoch [8/25], Loss: 1.4712, Accuracy: 98.95%\n",
      "Epoch [9/25], Loss: 1.4706, Accuracy: 99.05%\n",
      "Epoch [10/25], Loss: 1.4699, Accuracy: 99.10%\n",
      "Epoch [11/25], Loss: 1.4698, Accuracy: 99.10%\n",
      "Epoch [12/25], Loss: 1.4694, Accuracy: 99.15%\n",
      "Epoch [13/25], Loss: 1.4694, Accuracy: 99.15%\n",
      "Epoch [14/25], Loss: 1.4694, Accuracy: 99.15%\n",
      "Epoch [15/25], Loss: 1.4694, Accuracy: 99.15%\n",
      "Epoch [16/25], Loss: 1.4694, Accuracy: 99.15%\n",
      "Epoch [17/25], Loss: 1.4694, Accuracy: 99.15%\n",
      "Epoch [18/25], Loss: 1.4694, Accuracy: 99.15%\n",
      "Epoch [19/25], Loss: 1.4694, Accuracy: 99.15%\n",
      "Epoch [20/25], Loss: 1.4694, Accuracy: 99.15%\n",
      "Epoch [21/25], Loss: 1.4694, Accuracy: 99.15%\n",
      "Epoch [22/25], Loss: 1.4694, Accuracy: 99.15%\n",
      "Epoch [23/25], Loss: 1.4694, Accuracy: 99.15%\n",
      "Epoch [24/25], Loss: 1.4694, Accuracy: 99.15%\n",
      "Epoch [25/25], Loss: 1.4694, Accuracy: 99.15%\n"
     ]
    }
   ],
   "source": [
    "# Testing The model\n",
    "process_dataset(\"ON TEST DATASET\", 25, test_loader)"
   ]
  },
  {
   "cell_type": "code",
   "execution_count": 55,
   "id": "0473ea7b-4ae3-4efc-8f14-fcc0205b88bf",
   "metadata": {},
   "outputs": [
    {
     "data": {
      "text/plain": [
       "Sequential(\n",
       "  (0): Linear(in_features=784, out_features=600, bias=True)\n",
       "  (1): ReLU()\n",
       "  (2): Linear(in_features=600, out_features=10, bias=True)\n",
       "  (3): Softmax(dim=1)\n",
       ")"
      ]
     },
     "execution_count": 55,
     "metadata": {},
     "output_type": "execute_result"
    }
   ],
   "source": [
    "model.eval()"
   ]
  },
  {
   "cell_type": "code",
   "execution_count": 59,
   "id": "8eed611c-18bb-48cf-bbe3-40e9cf49d5ef",
   "metadata": {},
   "outputs": [],
   "source": [
    "## Using  the Model to Predict\n",
    "\n",
    "def predict(dataset, index):\n",
    "    \n",
    "    # Get the image and label from the dataset\n",
    "    image, label = dataset[index]\n",
    "    # Flatten the image (28x28 to 784)\n",
    "    image_flat = image.view(-1, 784)\n",
    "    \n",
    "    with torch.no_grad():  # Disable gradient computation\n",
    "        output = model(image_flat)\n",
    "    \n",
    "    # Get the predicted class (output is a probability distribution, so we use argmax)\n",
    "    _, predicted_class = torch.max(output.data, 1)\n",
    "    \n",
    "    # Plot the image\n",
    "    plt.imshow(image.squeeze(), cmap='gray')  # Squeeze to remove the extra dimensions for visualization\n",
    "    plt.title(f'Predicted: {predicted_class.item()}, Actual: {label}')\n",
    "    plt.show()"
   ]
  },
  {
   "cell_type": "code",
   "execution_count": 63,
   "id": "7d4edaf1-f1d8-4a0d-bc19-dc376f62983b",
   "metadata": {},
   "outputs": [
    {
     "name": "stdout",
     "output_type": "stream",
     "text": [
      "6106\n"
     ]
    },
    {
     "data": {
      "image/png": "[encoded data removed]",
      "text/plain": [
       "<Figure size 640x480 with 1 Axes>"
      ]
     },
     "metadata": {},
     "output_type": "display_data"
    },
    {
     "name": "stdout",
     "output_type": "stream",
     "text": [
      "1737\n"
     ]
    },
    {
     "data": {
      "image/png": "[encoded data removed]",
      "text/plain": [
       "<Figure size 640x480 with 1 Axes>"
      ]
     },
     "metadata": {},
     "output_type": "display_data"
    },
    {
     "name": "stdout",
     "output_type": "stream",
     "text": [
      "6904\n"
     ]
    },
    {
     "data": {
      "image/png": "[encoded data removed]",
      "text/plain": [
       "<Figure size 640x480 with 1 Axes>"
      ]
     },
     "metadata": {},
     "output_type": "display_data"
    },
    {
     "name": "stdout",
     "output_type": "stream",
     "text": [
      "468\n"
     ]
    },
    {
     "data": {
      "image/png": "[encoded data removed]",
      "text/plain": [
       "<Figure size 640x480 with 1 Axes>"
      ]
     },
     "metadata": {},
     "output_type": "display_data"
    },
    {
     "name": "stdout",
     "output_type": "stream",
     "text": [
      "5828\n"
     ]
    },
    {
     "data": {
      "image/png": "[encoded data removed]",
      "text/plain": [
       "<Figure size 640x480 with 1 Axes>"
      ]
     },
     "metadata": {},
     "output_type": "display_data"
    }
   ],
   "source": [
    "for i in range(5):\n",
    "    index = random.randint(0, len(dataset))\n",
    "    print(index)\n",
    "    predict(dataset, index)\n",
    "    "
   ]
  },
  {
   "cell_type": "code",
   "execution_count": null,
   "id": "95071754-5c9f-409a-aea6-d17b7c6cb201",
   "metadata": {},
   "outputs": [],
   "source": []
  }
 ],
 "metadata": {
  "kernelspec": {
   "display_name": "Python 3 (ipykernel)",
   "language": "python",
   "name": "python3"
  },
  "language_info": {
   "codemirror_mode": {
    "name": "ipython",
    "version": 3
   },
   "file_extension": ".py",
   "mimetype": "text/x-python",
   "name": "python",
   "nbconvert_exporter": "python",
   "pygments_lexer": "ipython3",
   "version": "3.11.5"
  }
 },
 "nbformat": 4,
 "nbformat_minor": 5
}
